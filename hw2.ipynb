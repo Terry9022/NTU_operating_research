{
 "cells": [
  {
   "cell_type": "code",
   "execution_count": 1,
   "metadata": {},
   "outputs": [],
   "source": [
    "from gurobipy import *\n",
    "import pandas as pd\n",
    "import numpy as np"
   ]
  },
  {
   "cell_type": "markdown",
   "metadata": {},
   "source": [
    "### (b) Gurobi"
   ]
  },
  {
   "cell_type": "code",
   "execution_count": 2,
   "metadata": {},
   "outputs": [],
   "source": [
    "# Read excel sheets and transform them into lists and matrices\n",
    "facility=pd.read_excel('OR109-2_hw02_data.xlsx','Facility',index_col = 0,header=1)\n",
    "facility=facility.iloc[:,:9]\n",
    "facility.rename(columns = {'Unnamed: 9':'Population'}, inplace = True)"
   ]
  },
  {
   "cell_type": "code",
   "execution_count": 3,
   "metadata": {},
   "outputs": [
    {
     "data": {
      "text/html": [
       "<div>\n",
       "<style scoped>\n",
       "    .dataframe tbody tr th:only-of-type {\n",
       "        vertical-align: middle;\n",
       "    }\n",
       "\n",
       "    .dataframe tbody tr th {\n",
       "        vertical-align: top;\n",
       "    }\n",
       "\n",
       "    .dataframe thead th {\n",
       "        text-align: right;\n",
       "    }\n",
       "</style>\n",
       "<table border=\"1\" class=\"dataframe\">\n",
       "  <thead>\n",
       "    <tr style=\"text-align: right;\">\n",
       "      <th></th>\n",
       "      <th>1</th>\n",
       "      <th>2</th>\n",
       "      <th>3</th>\n",
       "      <th>4</th>\n",
       "      <th>5</th>\n",
       "      <th>6</th>\n",
       "      <th>7</th>\n",
       "      <th>8</th>\n",
       "      <th>Population</th>\n",
       "    </tr>\n",
       "  </thead>\n",
       "  <tbody>\n",
       "    <tr>\n",
       "      <th>1</th>\n",
       "      <td>0</td>\n",
       "      <td>3</td>\n",
       "      <td>4</td>\n",
       "      <td>6</td>\n",
       "      <td>8</td>\n",
       "      <td>9</td>\n",
       "      <td>8</td>\n",
       "      <td>10</td>\n",
       "      <td>40</td>\n",
       "    </tr>\n",
       "    <tr>\n",
       "      <th>2</th>\n",
       "      <td>3</td>\n",
       "      <td>0</td>\n",
       "      <td>5</td>\n",
       "      <td>4</td>\n",
       "      <td>8</td>\n",
       "      <td>6</td>\n",
       "      <td>12</td>\n",
       "      <td>9</td>\n",
       "      <td>30</td>\n",
       "    </tr>\n",
       "    <tr>\n",
       "      <th>3</th>\n",
       "      <td>4</td>\n",
       "      <td>5</td>\n",
       "      <td>0</td>\n",
       "      <td>2</td>\n",
       "      <td>2</td>\n",
       "      <td>3</td>\n",
       "      <td>5</td>\n",
       "      <td>7</td>\n",
       "      <td>35</td>\n",
       "    </tr>\n",
       "    <tr>\n",
       "      <th>4</th>\n",
       "      <td>6</td>\n",
       "      <td>4</td>\n",
       "      <td>2</td>\n",
       "      <td>0</td>\n",
       "      <td>3</td>\n",
       "      <td>2</td>\n",
       "      <td>5</td>\n",
       "      <td>4</td>\n",
       "      <td>20</td>\n",
       "    </tr>\n",
       "    <tr>\n",
       "      <th>5</th>\n",
       "      <td>8</td>\n",
       "      <td>8</td>\n",
       "      <td>2</td>\n",
       "      <td>3</td>\n",
       "      <td>0</td>\n",
       "      <td>2</td>\n",
       "      <td>2</td>\n",
       "      <td>4</td>\n",
       "      <td>15</td>\n",
       "    </tr>\n",
       "    <tr>\n",
       "      <th>6</th>\n",
       "      <td>9</td>\n",
       "      <td>6</td>\n",
       "      <td>3</td>\n",
       "      <td>2</td>\n",
       "      <td>2</td>\n",
       "      <td>0</td>\n",
       "      <td>3</td>\n",
       "      <td>2</td>\n",
       "      <td>50</td>\n",
       "    </tr>\n",
       "    <tr>\n",
       "      <th>7</th>\n",
       "      <td>8</td>\n",
       "      <td>12</td>\n",
       "      <td>5</td>\n",
       "      <td>5</td>\n",
       "      <td>2</td>\n",
       "      <td>3</td>\n",
       "      <td>0</td>\n",
       "      <td>2</td>\n",
       "      <td>45</td>\n",
       "    </tr>\n",
       "    <tr>\n",
       "      <th>8</th>\n",
       "      <td>10</td>\n",
       "      <td>9</td>\n",
       "      <td>7</td>\n",
       "      <td>4</td>\n",
       "      <td>4</td>\n",
       "      <td>2</td>\n",
       "      <td>2</td>\n",
       "      <td>0</td>\n",
       "      <td>60</td>\n",
       "    </tr>\n",
       "  </tbody>\n",
       "</table>\n",
       "</div>"
      ],
      "text/plain": [
       "    1   2  3  4  5  6   7   8  Population\n",
       "1   0   3  4  6  8  9   8  10          40\n",
       "2   3   0  5  4  8  6  12   9          30\n",
       "3   4   5  0  2  2  3   5   7          35\n",
       "4   6   4  2  0  3  2   5   4          20\n",
       "5   8   8  2  3  0  2   2   4          15\n",
       "6   9   6  3  2  2  0   3   2          50\n",
       "7   8  12  5  5  2  3   0   2          45\n",
       "8  10   9  7  4  4  2   2   0          60"
      ]
     },
     "execution_count": 3,
     "metadata": {},
     "output_type": "execute_result"
    }
   ],
   "source": [
    "facility"
   ]
  },
  {
   "cell_type": "code",
   "execution_count": 4,
   "metadata": {},
   "outputs": [],
   "source": [
    "D=facility.iloc[:,:8].values.tolist()\n",
    "P=facility.iloc[:,8].values.tolist()"
   ]
  },
  {
   "cell_type": "code",
   "execution_count": 5,
   "metadata": {},
   "outputs": [],
   "source": [
    "# decide the n and m parameters\n",
    "n=8\n",
    "m=3"
   ]
  },
  {
   "cell_type": "code",
   "execution_count": 6,
   "metadata": {},
   "outputs": [
    {
     "name": "stdout",
     "output_type": "stream",
     "text": [
      "Academic license - for non-commercial use only - expires 2021-05-30\n",
      "Using license file /Users/terrylu/gurobi.lic\n"
     ]
    }
   ],
   "source": [
    "hw2 = Model(\"hw2\")"
   ]
  },
  {
   "cell_type": "code",
   "execution_count": 7,
   "metadata": {},
   "outputs": [],
   "source": [
    "# add variables as a list 定義X \n",
    "x = []\n",
    "for i in range(n):\n",
    "    x.append(hw2.addVar(lb = 0, vtype = GRB.BINARY, name = \"x_\" +  str(i+1) ))"
   ]
  },
  {
   "cell_type": "code",
   "execution_count": 8,
   "metadata": {},
   "outputs": [],
   "source": [
    "# add variables as a list 定義y\n",
    "y = []\n",
    "for i in range(n):\n",
    "    y.append([])\n",
    "    for j in range(n):\n",
    "        y[i].append(hw2.addVar(lb = 0, vtype = GRB.BINARY, name = \"y_\" +  str(i+1) +'_'+ str(j+1) ))"
   ]
  },
  {
   "cell_type": "code",
   "execution_count": 9,
   "metadata": {},
   "outputs": [],
   "source": [
    "# define w as the maximum population-weighted firefighting time among all districts\n",
    "w = hw2.addVar(lb = 0, vtype = GRB.CONTINUOUS, name = \"w\" )"
   ]
  },
  {
   "cell_type": "code",
   "execution_count": 10,
   "metadata": {},
   "outputs": [],
   "source": [
    "# setting the objective function \n",
    "hw2.setObjective( w , GRB.MINIMIZE) "
   ]
  },
  {
   "cell_type": "code",
   "execution_count": 11,
   "metadata": {},
   "outputs": [
    {
     "data": {
      "text/plain": [
       "{0: <gurobi.Constr *Awaiting Model Update*>,\n",
       " 1: <gurobi.Constr *Awaiting Model Update*>,\n",
       " 2: <gurobi.Constr *Awaiting Model Update*>,\n",
       " 3: <gurobi.Constr *Awaiting Model Update*>,\n",
       " 4: <gurobi.Constr *Awaiting Model Update*>,\n",
       " 5: <gurobi.Constr *Awaiting Model Update*>,\n",
       " 6: <gurobi.Constr *Awaiting Model Update*>,\n",
       " 7: <gurobi.Constr *Awaiting Model Update*>}"
      ]
     },
     "execution_count": 11,
     "metadata": {},
     "output_type": "execute_result"
    }
   ],
   "source": [
    "hw2.addConstrs(( \n",
    "                quicksum(y[i][j] for i in range(n) ) ==1\n",
    "                for j in range(n) \n",
    "                ), \" y_ij equal 1\" )\n",
    "\n",
    "hw2.addConstrs(( \n",
    "                quicksum(x[i] for i in range(n) ) <= m \n",
    "                for k in range(1)\n",
    "                ), \"x smaller than m\" )\n",
    "\n",
    "hw2.addConstrs(( \n",
    "                quicksum(y[i][j] for j in range(n) ) <= n*x[i]\n",
    "                for i in range(n) \n",
    "                ), \" y_ij smaller than x_i\" )\n",
    "\n",
    "hw2.addConstrs(( \n",
    "                w >= (P[j] * quicksum(D[i][j]*y[i][j] for i in range(n))  )\n",
    "                for j in range(n) \n",
    "                ), \" w is maximum\" )"
   ]
  },
  {
   "cell_type": "code",
   "execution_count": 12,
   "metadata": {},
   "outputs": [
    {
     "name": "stdout",
     "output_type": "stream",
     "text": [
      "Gurobi Optimizer version 9.1.1 build v9.1.1rc0 (mac64)\n",
      "Thread count: 2 physical cores, 4 logical processors, using up to 4 threads\n",
      "Optimize a model with 25 rows, 73 columns and 208 nonzeros\n",
      "Model fingerprint: 0xfef31b4f\n",
      "Variable types: 1 continuous, 72 integer (72 binary)\n",
      "Coefficient statistics:\n",
      "  Matrix range     [1e+00, 6e+02]\n",
      "  Objective range  [1e+00, 1e+00]\n",
      "  Bounds range     [1e+00, 1e+00]\n",
      "  RHS range        [1e+00, 3e+00]\n",
      "Found heuristic solution: objective 320.0000000\n",
      "Presolve removed 0 rows and 9 columns\n",
      "Presolve time: 0.00s\n",
      "Presolved: 25 rows, 64 columns, 181 nonzeros\n",
      "Variable types: 0 continuous, 64 integer (63 binary)\n",
      "\n",
      "Root relaxation: objective 0.000000e+00, 17 iterations, 0.00 seconds\n",
      "\n",
      "    Nodes    |    Current Node    |     Objective Bounds      |     Work\n",
      " Expl Unexpl |  Obj  Depth IntInf | Incumbent    BestBd   Gap | It/Node Time\n",
      "\n",
      "     0     0    0.00000    0    6  320.00000    0.00000   100%     -    0s\n",
      "H    0     0                     180.0000000    0.00000   100%     -    0s\n",
      "H    0     0                     140.0000000    0.00000   100%     -    0s\n",
      "H    0     0                     120.0000000    0.00000   100%     -    0s\n",
      "H    0     0                     100.0000000    0.00000   100%     -    0s\n",
      "     0     0    0.00000    0    6  100.00000    0.00000   100%     -    0s\n",
      "\n",
      "Explored 1 nodes (17 simplex iterations) in 0.09 seconds\n",
      "Thread count was 4 (of 4 available processors)\n",
      "\n",
      "Solution count 5: 100 120 140 ... 320\n",
      "\n",
      "Optimal solution found (tolerance 1.00e-04)\n",
      "Best objective 1.000000000000e+02, best bound 1.000000000000e+02, gap 0.0000%\n"
     ]
    }
   ],
   "source": [
    "hw2.optimize()"
   ]
  },
  {
   "cell_type": "code",
   "execution_count": 13,
   "metadata": {},
   "outputs": [
    {
     "name": "stdout",
     "output_type": "stream",
     "text": [
      "Result:\n",
      "x_1 = 1.0\n",
      "x_2 = -0.0\n",
      "x_3 = -0.0\n",
      "x_4 = 1.0\n",
      "x_5 = -0.0\n",
      "x_6 = -0.0\n",
      "x_7 = -0.0\n",
      "x_8 = 1.0\n"
     ]
    }
   ],
   "source": [
    "print(\"Result:\")\n",
    "for i in range(n):\n",
    "    print(x[i].varName, '=', x[i].x)"
   ]
  },
  {
   "cell_type": "code",
   "execution_count": 14,
   "metadata": {},
   "outputs": [],
   "source": [
    "df_y=pd.DataFrame(y)\n",
    "df_y=df_y.applymap(lambda y : y.x )\n",
    "df_y.columns=range(1,9)\n",
    "df_y.index=range(1,9)"
   ]
  },
  {
   "cell_type": "code",
   "execution_count": 15,
   "metadata": {},
   "outputs": [
    {
     "data": {
      "text/html": [
       "<div>\n",
       "<style scoped>\n",
       "    .dataframe tbody tr th:only-of-type {\n",
       "        vertical-align: middle;\n",
       "    }\n",
       "\n",
       "    .dataframe tbody tr th {\n",
       "        vertical-align: top;\n",
       "    }\n",
       "\n",
       "    .dataframe thead th {\n",
       "        text-align: right;\n",
       "    }\n",
       "</style>\n",
       "<table border=\"1\" class=\"dataframe\">\n",
       "  <thead>\n",
       "    <tr style=\"text-align: right;\">\n",
       "      <th></th>\n",
       "      <th>1</th>\n",
       "      <th>2</th>\n",
       "      <th>3</th>\n",
       "      <th>4</th>\n",
       "      <th>5</th>\n",
       "      <th>6</th>\n",
       "      <th>7</th>\n",
       "      <th>8</th>\n",
       "    </tr>\n",
       "  </thead>\n",
       "  <tbody>\n",
       "    <tr>\n",
       "      <th>1</th>\n",
       "      <td>1.0</td>\n",
       "      <td>1.0</td>\n",
       "      <td>-0.0</td>\n",
       "      <td>-0.0</td>\n",
       "      <td>-0.0</td>\n",
       "      <td>0.0</td>\n",
       "      <td>0.0</td>\n",
       "      <td>0.0</td>\n",
       "    </tr>\n",
       "    <tr>\n",
       "      <th>2</th>\n",
       "      <td>-0.0</td>\n",
       "      <td>-0.0</td>\n",
       "      <td>-0.0</td>\n",
       "      <td>-0.0</td>\n",
       "      <td>-0.0</td>\n",
       "      <td>-0.0</td>\n",
       "      <td>0.0</td>\n",
       "      <td>0.0</td>\n",
       "    </tr>\n",
       "    <tr>\n",
       "      <th>3</th>\n",
       "      <td>-0.0</td>\n",
       "      <td>-0.0</td>\n",
       "      <td>-0.0</td>\n",
       "      <td>-0.0</td>\n",
       "      <td>-0.0</td>\n",
       "      <td>-0.0</td>\n",
       "      <td>-0.0</td>\n",
       "      <td>0.0</td>\n",
       "    </tr>\n",
       "    <tr>\n",
       "      <th>4</th>\n",
       "      <td>-0.0</td>\n",
       "      <td>-0.0</td>\n",
       "      <td>1.0</td>\n",
       "      <td>1.0</td>\n",
       "      <td>-0.0</td>\n",
       "      <td>0.0</td>\n",
       "      <td>-0.0</td>\n",
       "      <td>-0.0</td>\n",
       "    </tr>\n",
       "    <tr>\n",
       "      <th>5</th>\n",
       "      <td>-0.0</td>\n",
       "      <td>-0.0</td>\n",
       "      <td>-0.0</td>\n",
       "      <td>-0.0</td>\n",
       "      <td>-0.0</td>\n",
       "      <td>-0.0</td>\n",
       "      <td>-0.0</td>\n",
       "      <td>-0.0</td>\n",
       "    </tr>\n",
       "    <tr>\n",
       "      <th>6</th>\n",
       "      <td>0.0</td>\n",
       "      <td>-0.0</td>\n",
       "      <td>-0.0</td>\n",
       "      <td>-0.0</td>\n",
       "      <td>-0.0</td>\n",
       "      <td>-0.0</td>\n",
       "      <td>-0.0</td>\n",
       "      <td>-0.0</td>\n",
       "    </tr>\n",
       "    <tr>\n",
       "      <th>7</th>\n",
       "      <td>-0.0</td>\n",
       "      <td>0.0</td>\n",
       "      <td>-0.0</td>\n",
       "      <td>-0.0</td>\n",
       "      <td>-0.0</td>\n",
       "      <td>-0.0</td>\n",
       "      <td>-0.0</td>\n",
       "      <td>-0.0</td>\n",
       "    </tr>\n",
       "    <tr>\n",
       "      <th>8</th>\n",
       "      <td>0.0</td>\n",
       "      <td>-0.0</td>\n",
       "      <td>-0.0</td>\n",
       "      <td>-0.0</td>\n",
       "      <td>1.0</td>\n",
       "      <td>1.0</td>\n",
       "      <td>1.0</td>\n",
       "      <td>1.0</td>\n",
       "    </tr>\n",
       "  </tbody>\n",
       "</table>\n",
       "</div>"
      ],
      "text/plain": [
       "     1    2    3    4    5    6    7    8\n",
       "1  1.0  1.0 -0.0 -0.0 -0.0  0.0  0.0  0.0\n",
       "2 -0.0 -0.0 -0.0 -0.0 -0.0 -0.0  0.0  0.0\n",
       "3 -0.0 -0.0 -0.0 -0.0 -0.0 -0.0 -0.0  0.0\n",
       "4 -0.0 -0.0  1.0  1.0 -0.0  0.0 -0.0 -0.0\n",
       "5 -0.0 -0.0 -0.0 -0.0 -0.0 -0.0 -0.0 -0.0\n",
       "6  0.0 -0.0 -0.0 -0.0 -0.0 -0.0 -0.0 -0.0\n",
       "7 -0.0  0.0 -0.0 -0.0 -0.0 -0.0 -0.0 -0.0\n",
       "8  0.0 -0.0 -0.0 -0.0  1.0  1.0  1.0  1.0"
      ]
     },
     "execution_count": 15,
     "metadata": {},
     "output_type": "execute_result"
    }
   ],
   "source": [
    "df_y"
   ]
  },
  {
   "cell_type": "code",
   "execution_count": 16,
   "metadata": {},
   "outputs": [
    {
     "name": "stdout",
     "output_type": "stream",
     "text": [
      "z* = 100.0\n"
     ]
    }
   ],
   "source": [
    "print(\"z* =\", hw2.objVal)    # print objective value"
   ]
  },
  {
   "cell_type": "markdown",
   "metadata": {},
   "source": [
    "### (c) heuristic algorithm "
   ]
  },
  {
   "cell_type": "code",
   "execution_count": 27,
   "metadata": {},
   "outputs": [],
   "source": [
    "# decide the n and m parameters\n",
    "n=8\n",
    "m=3"
   ]
  },
  {
   "cell_type": "code",
   "execution_count": 28,
   "metadata": {},
   "outputs": [
    {
     "data": {
      "text/plain": [
       "[[0, 3, 4, 6, 8, 9, 8, 10],\n",
       " [3, 0, 5, 4, 8, 6, 12, 9],\n",
       " [4, 5, 0, 2, 2, 3, 5, 7],\n",
       " [6, 4, 2, 0, 3, 2, 5, 4],\n",
       " [8, 8, 2, 3, 0, 2, 2, 4],\n",
       " [9, 6, 3, 2, 2, 0, 3, 2],\n",
       " [8, 12, 5, 5, 2, 3, 0, 2],\n",
       " [10, 9, 7, 4, 4, 2, 2, 0]]"
      ]
     },
     "execution_count": 28,
     "metadata": {},
     "output_type": "execute_result"
    }
   ],
   "source": [
    "D"
   ]
  },
  {
   "cell_type": "code",
   "execution_count": 29,
   "metadata": {},
   "outputs": [
    {
     "data": {
      "text/plain": [
       "[40, 30, 35, 20, 15, 50, 45, 60]"
      ]
     },
     "execution_count": 29,
     "metadata": {},
     "output_type": "execute_result"
    }
   ],
   "source": [
    "P"
   ]
  },
  {
   "cell_type": "code",
   "execution_count": 30,
   "metadata": {},
   "outputs": [],
   "source": [
    "# define decision variable x_true \n",
    "x_true=[0]*n"
   ]
  },
  {
   "cell_type": "code",
   "execution_count": 31,
   "metadata": {},
   "outputs": [
    {
     "data": {
      "text/plain": [
       "[0, 0, 0, 0, 0, 0, 0, 0]"
      ]
     },
     "execution_count": 31,
     "metadata": {},
     "output_type": "execute_result"
    }
   ],
   "source": [
    "x_true"
   ]
  },
  {
   "cell_type": "code",
   "execution_count": 32,
   "metadata": {},
   "outputs": [],
   "source": [
    "# define decision variable y\n",
    "y=[]\n",
    "for i in range(n):\n",
    "    y.append([])\n",
    "    for j in range(n):\n",
    "        y[i].append(0)"
   ]
  },
  {
   "cell_type": "code",
   "execution_count": 33,
   "metadata": {
    "scrolled": true
   },
   "outputs": [
    {
     "data": {
      "text/plain": [
       "[[0, 0, 0, 0, 0, 0, 0, 0],\n",
       " [0, 0, 0, 0, 0, 0, 0, 0],\n",
       " [0, 0, 0, 0, 0, 0, 0, 0],\n",
       " [0, 0, 0, 0, 0, 0, 0, 0],\n",
       " [0, 0, 0, 0, 0, 0, 0, 0],\n",
       " [0, 0, 0, 0, 0, 0, 0, 0],\n",
       " [0, 0, 0, 0, 0, 0, 0, 0],\n",
       " [0, 0, 0, 0, 0, 0, 0, 0]]"
      ]
     },
     "execution_count": 33,
     "metadata": {},
     "output_type": "execute_result"
    }
   ],
   "source": [
    "y"
   ]
  },
  {
   "cell_type": "code",
   "execution_count": 34,
   "metadata": {},
   "outputs": [
    {
     "name": "stdout",
     "output_type": "stream",
     "text": [
      "this round we try to add: [1, 0, 0, 0, 0, 0, 0, 0]\n",
      "this round we try to add: [0, 1, 0, 0, 0, 0, 0, 0]\n",
      "this round we try to add: [0, 0, 1, 0, 0, 0, 0, 0]\n",
      "this round we try to add: [0, 0, 0, 1, 0, 0, 0, 0]\n",
      "this round we try to add: [0, 0, 0, 0, 1, 0, 0, 0]\n",
      "this round we try to add: [0, 0, 0, 0, 0, 1, 0, 0]\n",
      "this round we try to add: [0, 0, 0, 0, 0, 0, 1, 0]\n",
      "this round we try to add: [0, 0, 0, 0, 0, 0, 0, 1]\n",
      "ambulance added at District4 maximum population-weighted firefighting times is 240\n",
      "after this iteration x_true become: [0, 0, 0, 1, 0, 0, 0, 0]\n",
      "\n",
      "this round we try to add: [1, 0, 0, 1, 0, 0, 0, 0]\n",
      "this round we try to add: [0, 1, 0, 1, 0, 0, 0, 0]\n",
      "this round we try to add: [0, 0, 1, 1, 0, 0, 0, 0]\n",
      "this round we try to add: [0, 0, 0, 1, 1, 0, 0, 0]\n",
      "this round we try to add: [0, 0, 0, 1, 0, 1, 0, 0]\n",
      "this round we try to add: [0, 0, 0, 1, 0, 0, 1, 0]\n",
      "this round we try to add: [0, 0, 0, 1, 0, 0, 0, 1]\n",
      "ambulance added at District1 maximum population-weighted firefighting times is 240\n",
      "after this iteration x_true become: [1, 0, 0, 1, 0, 0, 0, 0]\n",
      "\n",
      "this round we try to add: [1, 1, 0, 1, 0, 0, 0, 0]\n",
      "this round we try to add: [1, 0, 1, 1, 0, 0, 0, 0]\n",
      "this round we try to add: [1, 0, 0, 1, 1, 0, 0, 0]\n",
      "this round we try to add: [1, 0, 0, 1, 0, 1, 0, 0]\n",
      "this round we try to add: [1, 0, 0, 1, 0, 0, 1, 0]\n",
      "this round we try to add: [1, 0, 0, 1, 0, 0, 0, 1]\n",
      "ambulance added at District8 maximum population-weighted firefighting times is 100\n",
      "after this iteration x_true become: [1, 0, 0, 1, 0, 0, 0, 1]\n",
      "\n",
      "final objective value is 100\n"
     ]
    }
   ],
   "source": [
    "for num_ambulance in range(m): #要依序加入ambulance 直到有m臺 ambulance\n",
    "    for_loop_minimum=[] #之後用來排序 計算每個iteration哪個地區的maximum population-weighted firefighting times最小\n",
    "    for i in range(n): #在n個地區依序嘗試加入ambulance到第i個地區來計算firefighting times\n",
    "        if x_true[i]==1: #如果已經真實加入ambulance則不用再嘗試加入\n",
    "            continue\n",
    "        x_for_decide_minimum=x_true.copy() #在iteration之中的x 因為我們會嘗試依序加入ambulance至各地區 所以跟x_true區別\n",
    "        x_for_decide_minimum[i]=1 #這個iteration之中嘗試加入ambulance到第i個地區\n",
    "        print(\"this round we try to add:\",x_for_decide_minimum) #印出這回合加入i地區以後x的樣子\n",
    "        d_df=pd.DataFrame(D)\n",
    "        d_df[\"x\"]=x_for_decide_minimum\n",
    "        decide_min=d_df.groupby('x').idxmin().loc[1] #只考慮有ambulance地區來計算對於其他地區 哪一個有ambulance地區是最近的\n",
    "        y=[] #將y重新恢復原始值\n",
    "        for ii in range(n):\n",
    "            y.append([])\n",
    "            for jj in range(n):\n",
    "                y[ii].append(0)\n",
    "                \n",
    "        #根據ambulance地區最近的邏輯，給予y值\n",
    "        for k in range(n):\n",
    "            y[decide_min.values[k]][decide_min.index[k]]=1\n",
    "        \n",
    "        #加入第i個地區以及該地區加入ambulance的話 maximum population-weighted firefighting times是多少\n",
    "        for_loop_minimum.append([i,max(np.sum(np.array(y)*np.array(D),axis=0)*P)]) \n",
    "        \n",
    "    #排序在這一個iteration：所有地區以及該地區加入ambulance的話 maximum population-weighted firefighting times 由小到大排序\n",
    "    for_loop_minimum=pd.DataFrame(for_loop_minimum).sort_values(1)\n",
    "    for_loop_minimum=for_loop_minimum.values.tolist()\n",
    "    \n",
    "    #根據排序值找到這一個iteration要將哪個地區真的加入ambulance\n",
    "    for i in range(len(for_loop_minimum)):\n",
    "        small_index=for_loop_minimum[i][0]\n",
    "        if x_true[small_index]!=1: #要目前沒有ambulance才能被加入\n",
    "            x_true[small_index]=1\n",
    "            last_objective_minimum=for_loop_minimum[i][1] #紀錄目前最低的maximum population-weighted firefighting times\n",
    "            print(\"ambulance added at District\"+str(small_index+1)+\" maximum times is \"+str(last_objective_minimum))\n",
    "            break\n",
    "        else:\n",
    "            continue\n",
    "    print(\"after this iteration x_true become:\",x_true) #印出這回合iteration後 x真實樣子\n",
    "    print()\n",
    "    \n",
    "#最後印出加入ambulance至m台以後 目前最低的maximum population-weighted firefighting times 也就是objective value 是多少\n",
    "print('final objective value is',last_objective_minimum) "
   ]
  },
  {
   "cell_type": "code",
   "execution_count": 36,
   "metadata": {},
   "outputs": [
    {
     "data": {
      "text/plain": [
       "[1, 0, 0, 1, 0, 0, 0, 1]"
      ]
     },
     "execution_count": 36,
     "metadata": {},
     "output_type": "execute_result"
    }
   ],
   "source": [
    "x_true"
   ]
  },
  {
   "cell_type": "code",
   "execution_count": 37,
   "metadata": {},
   "outputs": [
    {
     "data": {
      "text/plain": [
       "[[1, 1, 0, 0, 0, 0, 0, 0],\n",
       " [0, 0, 0, 0, 0, 0, 0, 0],\n",
       " [0, 0, 0, 0, 0, 0, 0, 0],\n",
       " [0, 0, 1, 1, 1, 1, 0, 0],\n",
       " [0, 0, 0, 0, 0, 0, 0, 0],\n",
       " [0, 0, 0, 0, 0, 0, 0, 0],\n",
       " [0, 0, 0, 0, 0, 0, 0, 0],\n",
       " [0, 0, 0, 0, 0, 0, 1, 1]]"
      ]
     },
     "execution_count": 37,
     "metadata": {},
     "output_type": "execute_result"
    }
   ],
   "source": [
    "y"
   ]
  },
  {
   "cell_type": "code",
   "execution_count": 38,
   "metadata": {},
   "outputs": [
    {
     "name": "stdout",
     "output_type": "stream",
     "text": [
      "final objective value is 100\n"
     ]
    }
   ],
   "source": [
    "print('final objective value is',last_objective_minimum)"
   ]
  },
  {
   "cell_type": "code",
   "execution_count": null,
   "metadata": {},
   "outputs": [],
   "source": []
  },
  {
   "cell_type": "code",
   "execution_count": null,
   "metadata": {},
   "outputs": [],
   "source": []
  }
 ],
 "metadata": {
  "kernelspec": {
   "display_name": "Python 3",
   "language": "python",
   "name": "python3"
  },
  "language_info": {
   "codemirror_mode": {
    "name": "ipython",
    "version": 3
   },
   "file_extension": ".py",
   "mimetype": "text/x-python",
   "name": "python",
   "nbconvert_exporter": "python",
   "pygments_lexer": "ipython3",
   "version": "3.7.3"
  }
 },
 "nbformat": 4,
 "nbformat_minor": 4
}
