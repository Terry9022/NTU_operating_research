{
 "cells": [
  {
   "cell_type": "code",
   "execution_count": 71,
   "metadata": {},
   "outputs": [],
   "source": [
    "from gurobipy import *\n",
    "import pandas as pd\n",
    "import numpy as np"
   ]
  },
  {
   "cell_type": "markdown",
   "metadata": {},
   "source": [
    "### Problem 2"
   ]
  },
  {
   "cell_type": "code",
   "execution_count": 72,
   "metadata": {},
   "outputs": [],
   "source": [
    "# Read excel sheets and transform them into lists and matrices\n",
    "demand_info=pd.read_excel('OR109-1_case01_data.xlsx','Demand',index_col = 0)\n",
    "initial_inventory_info=pd.read_excel('OR109-1_case01_data.xlsx','Initial inventory',index_col = 0)\n",
    "shipping_cost_info=pd.read_excel('OR109-1_case01_data.xlsx','Shipping cost',index_col = 0)\n",
    "intransit=pd.read_excel('OR109-1_case01_data.xlsx','In-transit',index_col = 0)\n",
    "size_info=pd.read_excel('OR109-1_case01_data.xlsx','Size',index_col = 0)\n",
    "price_and_cost_info=pd.read_excel('OR109-1_case01_data.xlsx','Price and cost',index_col = 0)\n",
    "shortage_info=pd.read_excel('OR109-1_case01_data.xlsx','Shortage',index_col = 0)"
   ]
  },
  {
   "cell_type": "code",
   "execution_count": 73,
   "metadata": {},
   "outputs": [],
   "source": [
    "size=size_info['Cubic meter'].values.tolist()"
   ]
  },
  {
   "cell_type": "code",
   "execution_count": 74,
   "metadata": {},
   "outputs": [
    {
     "data": {
      "text/plain": [
       "[0.073, 0.005, 0.043, 0.063, 0.045, 0.086, 0.079, 0.082, 0.068, 0.098]"
      ]
     },
     "execution_count": 74,
     "metadata": {},
     "output_type": "execute_result"
    }
   ],
   "source": [
    "size"
   ]
  },
  {
   "cell_type": "code",
   "execution_count": 75,
   "metadata": {},
   "outputs": [],
   "source": [
    "demand=demand_info.values.tolist()\n",
    "initial_inventory=initial_inventory_info['Initial inventory'].values.tolist()\n",
    "express_delivery_cost=shipping_cost_info['Express delivery'].values.tolist()\n",
    "air_freight_cost=shipping_cost_info['Air freight'].values.tolist()\n",
    "ocean_freight_cost=[0]*10"
   ]
  },
  {
   "cell_type": "code",
   "execution_count": 76,
   "metadata": {},
   "outputs": [],
   "source": [
    "purchasing_cost=price_and_cost_info['Purchasing cost'].values.tolist()\n",
    "holding_cost=price_and_cost_info['Holding'].values.tolist()\n",
    "fix_cost=[100,80,50]"
   ]
  },
  {
   "cell_type": "code",
   "execution_count": 77,
   "metadata": {},
   "outputs": [],
   "source": [
    "shipping_cost=[express_delivery_cost,air_freight_cost,ocean_freight_cost]"
   ]
  },
  {
   "cell_type": "code",
   "execution_count": 78,
   "metadata": {},
   "outputs": [],
   "source": [
    "intransit.insert(loc=2, column='6', value=0)\n",
    "intransit.insert(loc=3, column='7', value=0)\n",
    "intransit.insert(loc=4, column='8', value=0)\n",
    "intransit.insert(loc=0, column='3', value=0)\n",
    "intransit=intransit.values.tolist()"
   ]
  },
  {
   "cell_type": "code",
   "execution_count": 79,
   "metadata": {},
   "outputs": [],
   "source": [
    "product_len=range(10)\n",
    "month_len=range(6)\n",
    "shipping_method_len=range(3)"
   ]
  },
  {
   "cell_type": "code",
   "execution_count": 80,
   "metadata": {},
   "outputs": [],
   "source": [
    "cs1 = Model(\"cs1\")"
   ]
  },
  {
   "cell_type": "code",
   "execution_count": 81,
   "metadata": {},
   "outputs": [],
   "source": [
    "# add variables as a list\n",
    "# 定義X ijk 並根據k 來直接產生t (例如說：express delievery 直接將k+1=t 為 month t is available)\n",
    "x_method1_K = []\n",
    "for i in product_len:\n",
    "    x_method1_K.append([])\n",
    "    for k in month_len:\n",
    "        x_method1_K[i].append(cs1.addVar(lb = 0, vtype = GRB.CONTINUOUS, name = \"x_method1 K\" +  str(i+1) +'_'+ str(k+1)))\n",
    "\n",
    "x_method1_T= []\n",
    "for i in product_len:\n",
    "    x_method1_T.append([])\n",
    "    for k in month_len:\n",
    "        x_method1_T[i].append(cs1.addVar(lb = 0, vtype = GRB.CONTINUOUS, name = \"x_method1 T\" +  str(i+1) +'_'+ str(k+1)))\n",
    "        "
   ]
  },
  {
   "cell_type": "code",
   "execution_count": 82,
   "metadata": {},
   "outputs": [],
   "source": [
    "x_method2_K = []\n",
    "for i in product_len:\n",
    "    x_method2_K.append([])\n",
    "    for k in month_len:\n",
    "        x_method2_K[i].append(cs1.addVar(lb = 0, vtype = GRB.CONTINUOUS, name = \"x_method2 K\" +  str(i+1) +'_'+ str(k+1)))\n",
    "        \n",
    "x_method2_T = []\n",
    "for i in product_len:\n",
    "    x_method2_T.append([])\n",
    "    for k in month_len:\n",
    "        x_method2_T[i].append(cs1.addVar(lb = 0, vtype = GRB.CONTINUOUS, name = \"x_method2 T\" +  str(i+1) +'_'+ str(k+1)))"
   ]
  },
  {
   "cell_type": "code",
   "execution_count": 83,
   "metadata": {},
   "outputs": [],
   "source": [
    "x_method3_K = []\n",
    "for i in product_len:\n",
    "    x_method3_K.append([])\n",
    "    for k in month_len:\n",
    "        x_method3_K[i].append(cs1.addVar(lb = 0, vtype = GRB.CONTINUOUS, name = \"x_method3 K\" +  str(i+1) +'_'+ str(k+1)))\n",
    "        \n",
    "x_method3_T = []\n",
    "for i in product_len:\n",
    "    x_method3_T.append([])\n",
    "    for k in month_len:\n",
    "        x_method3_T[i].append(cs1.addVar(lb = 0, vtype = GRB.CONTINUOUS, name = \"x_method3 T\" +  str(i+1) +'_'+ str(k+1)))"
   ]
  },
  {
   "cell_type": "code",
   "execution_count": 84,
   "metadata": {},
   "outputs": [],
   "source": [
    "#定義 y \n",
    "y=[]\n",
    "for i in product_len:\n",
    "    y.append([])\n",
    "    for k in month_len:\n",
    "        y[i].append(cs1.addVar(lb = 0, vtype = GRB.CONTINUOUS, name = \"y\" +  str(i+1) +'_'+ str(k+1)))"
   ]
  },
  {
   "cell_type": "code",
   "execution_count": 85,
   "metadata": {},
   "outputs": [],
   "source": [
    "#定義 z \n",
    "z=[]\n",
    "for j in shipping_method_len:\n",
    "    z.append([])\n",
    "    for k in month_len:\n",
    "        z[j].append(cs1.addVar(lb = 0, vtype = GRB.BINARY, name = \"z\" +  str(j+1) +'_'+ str(k+1)))"
   ]
  },
  {
   "cell_type": "code",
   "execution_count": 86,
   "metadata": {},
   "outputs": [],
   "source": [
    "#定義 w\n",
    "w=[]\n",
    "for k in month_len:\n",
    "    w.append(cs1.addVar(lb = 0, vtype = GRB.INTEGER , name = \"w\" +  str(k+1)))"
   ]
  },
  {
   "cell_type": "code",
   "execution_count": 87,
   "metadata": {},
   "outputs": [
    {
     "data": {
      "text/plain": [
       "[<gurobi.Var *Awaiting Model Update*>,\n",
       " <gurobi.Var *Awaiting Model Update*>,\n",
       " <gurobi.Var *Awaiting Model Update*>,\n",
       " <gurobi.Var *Awaiting Model Update*>,\n",
       " <gurobi.Var *Awaiting Model Update*>,\n",
       " <gurobi.Var *Awaiting Model Update*>]"
      ]
     },
     "execution_count": 87,
     "metadata": {},
     "output_type": "execute_result"
    }
   ],
   "source": [
    "w"
   ]
  },
  {
   "cell_type": "code",
   "execution_count": 88,
   "metadata": {},
   "outputs": [
    {
     "data": {
      "text/plain": [
       "[[<gurobi.Var *Awaiting Model Update*>,\n",
       "  <gurobi.Var *Awaiting Model Update*>,\n",
       "  <gurobi.Var *Awaiting Model Update*>,\n",
       "  <gurobi.Var *Awaiting Model Update*>,\n",
       "  <gurobi.Var *Awaiting Model Update*>,\n",
       "  <gurobi.Var *Awaiting Model Update*>],\n",
       " [<gurobi.Var *Awaiting Model Update*>,\n",
       "  <gurobi.Var *Awaiting Model Update*>,\n",
       "  <gurobi.Var *Awaiting Model Update*>,\n",
       "  <gurobi.Var *Awaiting Model Update*>,\n",
       "  <gurobi.Var *Awaiting Model Update*>,\n",
       "  <gurobi.Var *Awaiting Model Update*>],\n",
       " [<gurobi.Var *Awaiting Model Update*>,\n",
       "  <gurobi.Var *Awaiting Model Update*>,\n",
       "  <gurobi.Var *Awaiting Model Update*>,\n",
       "  <gurobi.Var *Awaiting Model Update*>,\n",
       "  <gurobi.Var *Awaiting Model Update*>,\n",
       "  <gurobi.Var *Awaiting Model Update*>],\n",
       " [<gurobi.Var *Awaiting Model Update*>,\n",
       "  <gurobi.Var *Awaiting Model Update*>,\n",
       "  <gurobi.Var *Awaiting Model Update*>,\n",
       "  <gurobi.Var *Awaiting Model Update*>,\n",
       "  <gurobi.Var *Awaiting Model Update*>,\n",
       "  <gurobi.Var *Awaiting Model Update*>],\n",
       " [<gurobi.Var *Awaiting Model Update*>,\n",
       "  <gurobi.Var *Awaiting Model Update*>,\n",
       "  <gurobi.Var *Awaiting Model Update*>,\n",
       "  <gurobi.Var *Awaiting Model Update*>,\n",
       "  <gurobi.Var *Awaiting Model Update*>,\n",
       "  <gurobi.Var *Awaiting Model Update*>],\n",
       " [<gurobi.Var *Awaiting Model Update*>,\n",
       "  <gurobi.Var *Awaiting Model Update*>,\n",
       "  <gurobi.Var *Awaiting Model Update*>,\n",
       "  <gurobi.Var *Awaiting Model Update*>,\n",
       "  <gurobi.Var *Awaiting Model Update*>,\n",
       "  <gurobi.Var *Awaiting Model Update*>],\n",
       " [<gurobi.Var *Awaiting Model Update*>,\n",
       "  <gurobi.Var *Awaiting Model Update*>,\n",
       "  <gurobi.Var *Awaiting Model Update*>,\n",
       "  <gurobi.Var *Awaiting Model Update*>,\n",
       "  <gurobi.Var *Awaiting Model Update*>,\n",
       "  <gurobi.Var *Awaiting Model Update*>],\n",
       " [<gurobi.Var *Awaiting Model Update*>,\n",
       "  <gurobi.Var *Awaiting Model Update*>,\n",
       "  <gurobi.Var *Awaiting Model Update*>,\n",
       "  <gurobi.Var *Awaiting Model Update*>,\n",
       "  <gurobi.Var *Awaiting Model Update*>,\n",
       "  <gurobi.Var *Awaiting Model Update*>],\n",
       " [<gurobi.Var *Awaiting Model Update*>,\n",
       "  <gurobi.Var *Awaiting Model Update*>,\n",
       "  <gurobi.Var *Awaiting Model Update*>,\n",
       "  <gurobi.Var *Awaiting Model Update*>,\n",
       "  <gurobi.Var *Awaiting Model Update*>,\n",
       "  <gurobi.Var *Awaiting Model Update*>],\n",
       " [<gurobi.Var *Awaiting Model Update*>,\n",
       "  <gurobi.Var *Awaiting Model Update*>,\n",
       "  <gurobi.Var *Awaiting Model Update*>,\n",
       "  <gurobi.Var *Awaiting Model Update*>,\n",
       "  <gurobi.Var *Awaiting Model Update*>,\n",
       "  <gurobi.Var *Awaiting Model Update*>]]"
      ]
     },
     "execution_count": 88,
     "metadata": {},
     "output_type": "execute_result"
    }
   ],
   "source": [
    "y"
   ]
  },
  {
   "cell_type": "code",
   "execution_count": 89,
   "metadata": {},
   "outputs": [
    {
     "data": {
      "text/plain": [
       "[[<gurobi.Var *Awaiting Model Update*>,\n",
       "  <gurobi.Var *Awaiting Model Update*>,\n",
       "  <gurobi.Var *Awaiting Model Update*>,\n",
       "  <gurobi.Var *Awaiting Model Update*>,\n",
       "  <gurobi.Var *Awaiting Model Update*>,\n",
       "  <gurobi.Var *Awaiting Model Update*>],\n",
       " [<gurobi.Var *Awaiting Model Update*>,\n",
       "  <gurobi.Var *Awaiting Model Update*>,\n",
       "  <gurobi.Var *Awaiting Model Update*>,\n",
       "  <gurobi.Var *Awaiting Model Update*>,\n",
       "  <gurobi.Var *Awaiting Model Update*>,\n",
       "  <gurobi.Var *Awaiting Model Update*>],\n",
       " [<gurobi.Var *Awaiting Model Update*>,\n",
       "  <gurobi.Var *Awaiting Model Update*>,\n",
       "  <gurobi.Var *Awaiting Model Update*>,\n",
       "  <gurobi.Var *Awaiting Model Update*>,\n",
       "  <gurobi.Var *Awaiting Model Update*>,\n",
       "  <gurobi.Var *Awaiting Model Update*>]]"
      ]
     },
     "execution_count": 89,
     "metadata": {},
     "output_type": "execute_result"
    }
   ],
   "source": [
    "z"
   ]
  },
  {
   "cell_type": "code",
   "execution_count": 90,
   "metadata": {},
   "outputs": [],
   "source": [
    "# setting the objective function \n",
    "cs1.setObjective(\n",
    "    \n",
    "    quicksum(quicksum(purchasing_cost[i]*x_method1_K[i][k] for i in product_len) for k in month_len)+  # P*x的部分\n",
    "    quicksum(quicksum(purchasing_cost[i]*x_method2_K[i][k] for i in product_len) for k in month_len)+\n",
    "    quicksum(quicksum(purchasing_cost[i]*x_method3_K[i][k] for i in product_len) for k in month_len)+ \n",
    "    \n",
    "    quicksum(quicksum(holding_cost[i]*y[i][k] for i in product_len) for k in month_len)+ # y的部分\n",
    "    \n",
    "    quicksum(quicksum(fix_cost[j]*z[j][k] for j in shipping_method_len) for k in month_len)+  # z的部分\n",
    "    \n",
    "    quicksum(quicksum(shipping_cost[0][i]*x_method1_K[i][k] for i in product_len) for k in month_len)+ # C*x的部分\n",
    "    quicksum(quicksum(shipping_cost[1][i]*x_method2_K[i][k] for i in product_len) for k in month_len)+\n",
    "    quicksum(quicksum(shipping_cost[2][i]*x_method3_K[i][k] for i in product_len) for k in month_len)+ \n",
    "    \n",
    "    quicksum( 2750*w[k] for k in month_len) # w的部分\n",
    "    \n",
    "    , GRB.MINIMIZE) "
   ]
  },
  {
   "cell_type": "code",
   "execution_count": 91,
   "metadata": {},
   "outputs": [
    {
     "data": {
      "text/plain": [
       "{0: <gurobi.Constr *Awaiting Model Update*>,\n",
       " 1: <gurobi.Constr *Awaiting Model Update*>,\n",
       " 2: <gurobi.Constr *Awaiting Model Update*>,\n",
       " 3: <gurobi.Constr *Awaiting Model Update*>,\n",
       " 4: <gurobi.Constr *Awaiting Model Update*>,\n",
       " 5: <gurobi.Constr *Awaiting Model Update*>}"
      ]
     },
     "execution_count": 91,
     "metadata": {},
     "output_type": "execute_result"
    }
   ],
   "source": [
    "cs1.addConstrs( ( (1/30)*quicksum( size[i]*x_method3_K[i][k] for i in product_len)  <= w[k] \n",
    "                for k in month_len \n",
    "                ), \"container costs\" )"
   ]
  },
  {
   "cell_type": "code",
   "execution_count": 92,
   "metadata": {},
   "outputs": [
    {
     "data": {
      "text/plain": [
       "{(1, 0): <gurobi.Constr *Awaiting Model Update*>,\n",
       " (1, 1): <gurobi.Constr *Awaiting Model Update*>,\n",
       " (1, 2): <gurobi.Constr *Awaiting Model Update*>,\n",
       " (1, 3): <gurobi.Constr *Awaiting Model Update*>,\n",
       " (1, 4): <gurobi.Constr *Awaiting Model Update*>,\n",
       " (1, 5): <gurobi.Constr *Awaiting Model Update*>,\n",
       " (1, 6): <gurobi.Constr *Awaiting Model Update*>,\n",
       " (1, 7): <gurobi.Constr *Awaiting Model Update*>,\n",
       " (1, 8): <gurobi.Constr *Awaiting Model Update*>,\n",
       " (1, 9): <gurobi.Constr *Awaiting Model Update*>,\n",
       " (2, 0): <gurobi.Constr *Awaiting Model Update*>,\n",
       " (2, 1): <gurobi.Constr *Awaiting Model Update*>,\n",
       " (2, 2): <gurobi.Constr *Awaiting Model Update*>,\n",
       " (2, 3): <gurobi.Constr *Awaiting Model Update*>,\n",
       " (2, 4): <gurobi.Constr *Awaiting Model Update*>,\n",
       " (2, 5): <gurobi.Constr *Awaiting Model Update*>,\n",
       " (2, 6): <gurobi.Constr *Awaiting Model Update*>,\n",
       " (2, 7): <gurobi.Constr *Awaiting Model Update*>,\n",
       " (2, 8): <gurobi.Constr *Awaiting Model Update*>,\n",
       " (2, 9): <gurobi.Constr *Awaiting Model Update*>,\n",
       " (3, 0): <gurobi.Constr *Awaiting Model Update*>,\n",
       " (3, 1): <gurobi.Constr *Awaiting Model Update*>,\n",
       " (3, 2): <gurobi.Constr *Awaiting Model Update*>,\n",
       " (3, 3): <gurobi.Constr *Awaiting Model Update*>,\n",
       " (3, 4): <gurobi.Constr *Awaiting Model Update*>,\n",
       " (3, 5): <gurobi.Constr *Awaiting Model Update*>,\n",
       " (3, 6): <gurobi.Constr *Awaiting Model Update*>,\n",
       " (3, 7): <gurobi.Constr *Awaiting Model Update*>,\n",
       " (3, 8): <gurobi.Constr *Awaiting Model Update*>,\n",
       " (3, 9): <gurobi.Constr *Awaiting Model Update*>,\n",
       " (4, 0): <gurobi.Constr *Awaiting Model Update*>,\n",
       " (4, 1): <gurobi.Constr *Awaiting Model Update*>,\n",
       " (4, 2): <gurobi.Constr *Awaiting Model Update*>,\n",
       " (4, 3): <gurobi.Constr *Awaiting Model Update*>,\n",
       " (4, 4): <gurobi.Constr *Awaiting Model Update*>,\n",
       " (4, 5): <gurobi.Constr *Awaiting Model Update*>,\n",
       " (4, 6): <gurobi.Constr *Awaiting Model Update*>,\n",
       " (4, 7): <gurobi.Constr *Awaiting Model Update*>,\n",
       " (4, 8): <gurobi.Constr *Awaiting Model Update*>,\n",
       " (4, 9): <gurobi.Constr *Awaiting Model Update*>,\n",
       " (5, 0): <gurobi.Constr *Awaiting Model Update*>,\n",
       " (5, 1): <gurobi.Constr *Awaiting Model Update*>,\n",
       " (5, 2): <gurobi.Constr *Awaiting Model Update*>,\n",
       " (5, 3): <gurobi.Constr *Awaiting Model Update*>,\n",
       " (5, 4): <gurobi.Constr *Awaiting Model Update*>,\n",
       " (5, 5): <gurobi.Constr *Awaiting Model Update*>,\n",
       " (5, 6): <gurobi.Constr *Awaiting Model Update*>,\n",
       " (5, 7): <gurobi.Constr *Awaiting Model Update*>,\n",
       " (5, 8): <gurobi.Constr *Awaiting Model Update*>,\n",
       " (5, 9): <gurobi.Constr *Awaiting Model Update*>}"
      ]
     },
     "execution_count": 92,
     "metadata": {},
     "output_type": "execute_result"
    }
   ],
   "source": [
    "cs1.addConstrs( ( y[i][k] ==  initial_inventory[i]  + x_method1_T[i][k] + x_method2_T[i][k]+ x_method3_T[i][k] + \n",
    "                 intransit[i][k]\n",
    "                 - demand[i][k] \n",
    "                for k in month_len \n",
    "                for i in product_len\n",
    "                if k==0), \"initial inventory\" )\n",
    "\n",
    "\n",
    "cs1.addConstrs( ( y[i][k] ==  y[i][k-1]  + x_method1_T[i][k] + x_method2_T[i][k]+ x_method3_T[i][k] + \n",
    "                 intransit[i][k]\n",
    "                 - demand[i][k] \n",
    "                for k in month_len \n",
    "                for i in product_len\n",
    "                if k!=0), \"inventory\" )\n"
   ]
  },
  {
   "cell_type": "code",
   "execution_count": 93,
   "metadata": {},
   "outputs": [
    {
     "data": {
      "text/plain": [
       "{0: <gurobi.Constr *Awaiting Model Update*>,\n",
       " 1: <gurobi.Constr *Awaiting Model Update*>,\n",
       " 2: <gurobi.Constr *Awaiting Model Update*>,\n",
       " 3: <gurobi.Constr *Awaiting Model Update*>,\n",
       " 4: <gurobi.Constr *Awaiting Model Update*>,\n",
       " 5: <gurobi.Constr *Awaiting Model Update*>}"
      ]
     },
     "execution_count": 93,
     "metadata": {},
     "output_type": "execute_result"
    }
   ],
   "source": [
    "# add constraints and name them\n",
    "cs1.addConstrs( (quicksum(x_method1_K[i][k] for i in product_len)  <= 7274 * z[0][k] \n",
    "                 for k in month_len \n",
    "                ), \"binary z 1 \" )\n",
    "cs1.addConstrs( (quicksum(x_method2_K[i][k] for i in product_len)  <= 7274 * z[1][k] \n",
    "                 for k in month_len \n",
    "                ), \"binary z 2\" )\n",
    "cs1.addConstrs( (quicksum(x_method3_K[i][k] for i in product_len)  <= 7274 * z[2][k] \n",
    "                 for k in month_len \n",
    "                ), \"binary z 3\" )"
   ]
  },
  {
   "cell_type": "code",
   "execution_count": 94,
   "metadata": {},
   "outputs": [
    {
     "data": {
      "text/plain": [
       "{(0, 0): <gurobi.Constr *Awaiting Model Update*>,\n",
       " (0, 1): <gurobi.Constr *Awaiting Model Update*>,\n",
       " (0, 2): <gurobi.Constr *Awaiting Model Update*>,\n",
       " (0, 3): <gurobi.Constr *Awaiting Model Update*>,\n",
       " (0, 4): <gurobi.Constr *Awaiting Model Update*>,\n",
       " (0, 5): <gurobi.Constr *Awaiting Model Update*>,\n",
       " (0, 6): <gurobi.Constr *Awaiting Model Update*>,\n",
       " (0, 7): <gurobi.Constr *Awaiting Model Update*>,\n",
       " (0, 8): <gurobi.Constr *Awaiting Model Update*>,\n",
       " (0, 9): <gurobi.Constr *Awaiting Model Update*>,\n",
       " (1, 0): <gurobi.Constr *Awaiting Model Update*>,\n",
       " (1, 1): <gurobi.Constr *Awaiting Model Update*>,\n",
       " (1, 2): <gurobi.Constr *Awaiting Model Update*>,\n",
       " (1, 3): <gurobi.Constr *Awaiting Model Update*>,\n",
       " (1, 4): <gurobi.Constr *Awaiting Model Update*>,\n",
       " (1, 5): <gurobi.Constr *Awaiting Model Update*>,\n",
       " (1, 6): <gurobi.Constr *Awaiting Model Update*>,\n",
       " (1, 7): <gurobi.Constr *Awaiting Model Update*>,\n",
       " (1, 8): <gurobi.Constr *Awaiting Model Update*>,\n",
       " (1, 9): <gurobi.Constr *Awaiting Model Update*>,\n",
       " (2, 0): <gurobi.Constr *Awaiting Model Update*>,\n",
       " (2, 1): <gurobi.Constr *Awaiting Model Update*>,\n",
       " (2, 2): <gurobi.Constr *Awaiting Model Update*>,\n",
       " (2, 3): <gurobi.Constr *Awaiting Model Update*>,\n",
       " (2, 4): <gurobi.Constr *Awaiting Model Update*>,\n",
       " (2, 5): <gurobi.Constr *Awaiting Model Update*>,\n",
       " (2, 6): <gurobi.Constr *Awaiting Model Update*>,\n",
       " (2, 7): <gurobi.Constr *Awaiting Model Update*>,\n",
       " (2, 8): <gurobi.Constr *Awaiting Model Update*>,\n",
       " (2, 9): <gurobi.Constr *Awaiting Model Update*>}"
      ]
     },
     "execution_count": 94,
     "metadata": {},
     "output_type": "execute_result"
    }
   ],
   "source": [
    "# add constraints and name them\n",
    "cs1.addConstrs( ( x_method1_K[i][k] ==  x_method1_T[i][k+1]\n",
    "                for k in range(5) \n",
    "                for i in product_len\n",
    "                ), \"method 1 T = K \" )\n",
    "\n",
    "cs1.addConstrs(  (x_method2_K[i][k] ==  x_method2_T[i][k+2]\n",
    "                for k in range(4) \n",
    "                for i in product_len\n",
    "                ), \"method 2 T = K \" )\n",
    "\n",
    "cs1.addConstrs(  (x_method3_K[i][k] ==  x_method3_T[i][k+3]\n",
    "                for k in range(3) \n",
    "                for i in product_len\n",
    "                ), \"method 3 T = K \" )\n",
    "\n",
    "cs1.addConstrs(  (x_method1_T[i][k]==0\n",
    "                for k in range(1) \n",
    "                for i in product_len\n",
    "                ), \"method 1  T==0 \" )\n",
    "cs1.addConstrs(  (x_method2_T[i][k]==0\n",
    "                for k in range(2) \n",
    "                for i in product_len\n",
    "                ), \"method 2  T==0 \" )\n",
    "\n",
    "cs1.addConstrs(  (x_method3_T[i][k]==0\n",
    "                for k in range(3) \n",
    "                for i in product_len\n",
    "                ), \"method 3  T==0 \" )\n",
    "\n",
    "\n",
    "cs1.addConstrs(  (x_method1_K[i][k+5]==0\n",
    "                for k in range(1) \n",
    "                for i in product_len\n",
    "                ), \"method 1  K==0 \" )\n",
    "cs1.addConstrs(  (x_method2_K[i][k+4]==0\n",
    "                for k in range(2) \n",
    "                for i in product_len\n",
    "                ), \"method 2  K==0 \" )\n",
    "\n",
    "cs1.addConstrs(  (x_method3_K[i][k+3]==0\n",
    "                for k in range(3) \n",
    "                for i in product_len\n",
    "                ), \"method 3  K==0 \" )\n"
   ]
  },
  {
   "cell_type": "code",
   "execution_count": 95,
   "metadata": {},
   "outputs": [
    {
     "name": "stdout",
     "output_type": "stream",
     "text": [
      "Gurobi Optimizer version 9.1.1 build v9.1.1rc0 (mac64)\n",
      "Thread count: 2 physical cores, 4 logical processors, using up to 4 threads\n",
      "Optimize a model with 324 rows, 444 columns and 914 nonzeros\n",
      "Model fingerprint: 0xa645f3d8\n",
      "Variable types: 420 continuous, 24 integer (18 binary)\n",
      "Coefficient statistics:\n",
      "  Matrix range     [2e-04, 7e+03]\n",
      "  Objective range  [4e+01, 9e+03]\n",
      "  Bounds range     [1e+00, 1e+00]\n",
      "  RHS range        [1e+00, 7e+02]\n",
      "Found heuristic solution: objective 1.674454e+07\n",
      "Presolve removed 291 rows and 302 columns\n",
      "Presolve time: 0.00s\n",
      "Presolved: 33 rows, 142 columns, 300 nonzeros\n",
      "Variable types: 128 continuous, 14 integer (11 binary)\n",
      "\n",
      "Root relaxation: objective 1.650627e+07, 30 iterations, 0.00 seconds\n",
      "\n",
      "    Nodes    |    Current Node    |     Objective Bounds      |     Work\n",
      " Expl Unexpl |  Obj  Depth IntInf | Incumbent    BestBd   Gap | It/Node Time\n",
      "\n",
      "     0     0 1.6506e+07    0    6 1.6745e+07 1.6506e+07  1.42%     -    0s\n",
      "H    0     0                    1.650965e+07 1.6506e+07  0.02%     -    0s\n",
      "     0     0 1.6508e+07    0    4 1.6510e+07 1.6508e+07  0.01%     -    0s\n",
      "     0     0 1.6508e+07    0    4 1.6510e+07 1.6508e+07  0.01%     -    0s\n",
      "     0     0 1.6509e+07    0    2 1.6510e+07 1.6509e+07  0.01%     -    0s\n",
      "\n",
      "Cutting planes:\n",
      "  Gomory: 2\n",
      "  MIR: 6\n",
      "  Flow cover: 2\n",
      "  Relax-and-lift: 6\n",
      "\n",
      "Explored 1 nodes (43 simplex iterations) in 0.13 seconds\n",
      "Thread count was 4 (of 4 available processors)\n",
      "\n",
      "Solution count 2: 1.65096e+07 1.67445e+07 \n",
      "\n",
      "Optimal solution found (tolerance 1.00e-04)\n",
      "Best objective 1.650964600000e+07, best bound 1.650879276506e+07, gap 0.0052%\n"
     ]
    }
   ],
   "source": [
    "cs1.optimize()"
   ]
  },
  {
   "cell_type": "markdown",
   "metadata": {},
   "source": [
    "### 檢視結果"
   ]
  },
  {
   "cell_type": "code",
   "execution_count": 96,
   "metadata": {},
   "outputs": [
    {
     "data": {
      "text/plain": [
       "[[<gurobi.Var y1_1 (value 662.0)>,\n",
       "  <gurobi.Var y1_2 (value 607.0)>,\n",
       "  <gurobi.Var y1_3 (value 435.0)>,\n",
       "  <gurobi.Var y1_4 (value 241.0)>,\n",
       "  <gurobi.Var y1_5 (value 147.0)>,\n",
       "  <gurobi.Var y1_6 (value 0.0)>],\n",
       " [<gurobi.Var y2_1 (value 410.0)>,\n",
       "  <gurobi.Var y2_2 (value 357.0)>,\n",
       "  <gurobi.Var y2_3 (value 289.0)>,\n",
       "  <gurobi.Var y2_4 (value 104.0)>,\n",
       "  <gurobi.Var y2_5 (value 91.0)>,\n",
       "  <gurobi.Var y2_6 (value 0.0)>],\n",
       " [<gurobi.Var y3_1 (value 346.0)>,\n",
       "  <gurobi.Var y3_2 (value 167.0)>,\n",
       "  <gurobi.Var y3_3 (value 166.0)>,\n",
       "  <gurobi.Var y3_4 (value 117.0)>,\n",
       "  <gurobi.Var y3_5 (value 0.0)>,\n",
       "  <gurobi.Var y3_6 (value 0.0)>],\n",
       " [<gurobi.Var y4_1 (value 208.0)>,\n",
       "  <gurobi.Var y4_2 (value 258.0)>,\n",
       "  <gurobi.Var y4_3 (value 180.0)>,\n",
       "  <gurobi.Var y4_4 (value 49.0)>,\n",
       "  <gurobi.Var y4_5 (value 0.0)>,\n",
       "  <gurobi.Var y4_6 (value 0.0)>],\n",
       " [<gurobi.Var y5_1 (value 365.0)>,\n",
       "  <gurobi.Var y5_2 (value 303.0)>,\n",
       "  <gurobi.Var y5_3 (value 220.0)>,\n",
       "  <gurobi.Var y5_4 (value 130.0)>,\n",
       "  <gurobi.Var y5_5 (value 0.0)>,\n",
       "  <gurobi.Var y5_6 (value 0.0)>],\n",
       " [<gurobi.Var y6_1 (value 433.0)>,\n",
       "  <gurobi.Var y6_2 (value 356.0)>,\n",
       "  <gurobi.Var y6_3 (value 272.0)>,\n",
       "  <gurobi.Var y6_4 (value 145.0)>,\n",
       "  <gurobi.Var y6_5 (value 29.0)>,\n",
       "  <gurobi.Var y6_6 (value 0.0)>],\n",
       " [<gurobi.Var y7_1 (value 348.0)>,\n",
       "  <gurobi.Var y7_2 (value 212.0)>,\n",
       "  <gurobi.Var y7_3 (value 238.0)>,\n",
       "  <gurobi.Var y7_4 (value 122.0)>,\n",
       "  <gurobi.Var y7_5 (value 3.0)>,\n",
       "  <gurobi.Var y7_6 (value 0.0)>],\n",
       " [<gurobi.Var y8_1 (value 181.0)>,\n",
       "  <gurobi.Var y8_2 (value 26.0)>,\n",
       "  <gurobi.Var y8_3 (value 16.0)>,\n",
       "  <gurobi.Var y8_4 (value 0.0)>,\n",
       "  <gurobi.Var y8_5 (value 0.0)>,\n",
       "  <gurobi.Var y8_6 (value 0.0)>],\n",
       " [<gurobi.Var y9_1 (value 565.0)>,\n",
       "  <gurobi.Var y9_2 (value 489.0)>,\n",
       "  <gurobi.Var y9_3 (value 335.0)>,\n",
       "  <gurobi.Var y9_4 (value 159.0)>,\n",
       "  <gurobi.Var y9_5 (value 78.0)>,\n",
       "  <gurobi.Var y9_6 (value 0.0)>],\n",
       " [<gurobi.Var y10_1 (value 154.0)>,\n",
       "  <gurobi.Var y10_2 (value 0.0)>,\n",
       "  <gurobi.Var y10_3 (value 0.0)>,\n",
       "  <gurobi.Var y10_4 (value 0.0)>,\n",
       "  <gurobi.Var y10_5 (value 0.0)>,\n",
       "  <gurobi.Var y10_6 (value 0.0)>]]"
      ]
     },
     "execution_count": 96,
     "metadata": {},
     "output_type": "execute_result"
    }
   ],
   "source": [
    "y"
   ]
  },
  {
   "cell_type": "code",
   "execution_count": 97,
   "metadata": {},
   "outputs": [
    {
     "data": {
      "text/plain": [
       "[[<gurobi.Var x_method1 K1_1 (value 0.0)>,\n",
       "  <gurobi.Var x_method1 K1_2 (value 0.0)>,\n",
       "  <gurobi.Var x_method1 K1_3 (value 0.0)>,\n",
       "  <gurobi.Var x_method1 K1_4 (value 0.0)>,\n",
       "  <gurobi.Var x_method1 K1_5 (value 0.0)>,\n",
       "  <gurobi.Var x_method1 K1_6 (value 0.0)>],\n",
       " [<gurobi.Var x_method1 K2_1 (value 0.0)>,\n",
       "  <gurobi.Var x_method1 K2_2 (value 0.0)>,\n",
       "  <gurobi.Var x_method1 K2_3 (value 0.0)>,\n",
       "  <gurobi.Var x_method1 K2_4 (value 0.0)>,\n",
       "  <gurobi.Var x_method1 K2_5 (value 0.0)>,\n",
       "  <gurobi.Var x_method1 K2_6 (value 0.0)>],\n",
       " [<gurobi.Var x_method1 K3_1 (value 0.0)>,\n",
       "  <gurobi.Var x_method1 K3_2 (value 0.0)>,\n",
       "  <gurobi.Var x_method1 K3_3 (value 0.0)>,\n",
       "  <gurobi.Var x_method1 K3_4 (value 0.0)>,\n",
       "  <gurobi.Var x_method1 K3_5 (value 0.0)>,\n",
       "  <gurobi.Var x_method1 K3_6 (value 0.0)>],\n",
       " [<gurobi.Var x_method1 K4_1 (value 0.0)>,\n",
       "  <gurobi.Var x_method1 K4_2 (value 0.0)>,\n",
       "  <gurobi.Var x_method1 K4_3 (value 0.0)>,\n",
       "  <gurobi.Var x_method1 K4_4 (value 0.0)>,\n",
       "  <gurobi.Var x_method1 K4_5 (value 0.0)>,\n",
       "  <gurobi.Var x_method1 K4_6 (value 0.0)>],\n",
       " [<gurobi.Var x_method1 K5_1 (value 0.0)>,\n",
       "  <gurobi.Var x_method1 K5_2 (value 0.0)>,\n",
       "  <gurobi.Var x_method1 K5_3 (value 0.0)>,\n",
       "  <gurobi.Var x_method1 K5_4 (value 0.0)>,\n",
       "  <gurobi.Var x_method1 K5_5 (value 0.0)>,\n",
       "  <gurobi.Var x_method1 K5_6 (value 0.0)>],\n",
       " [<gurobi.Var x_method1 K6_1 (value 0.0)>,\n",
       "  <gurobi.Var x_method1 K6_2 (value 0.0)>,\n",
       "  <gurobi.Var x_method1 K6_3 (value 0.0)>,\n",
       "  <gurobi.Var x_method1 K6_4 (value 0.0)>,\n",
       "  <gurobi.Var x_method1 K6_5 (value 0.0)>,\n",
       "  <gurobi.Var x_method1 K6_6 (value 0.0)>],\n",
       " [<gurobi.Var x_method1 K7_1 (value 0.0)>,\n",
       "  <gurobi.Var x_method1 K7_2 (value 0.0)>,\n",
       "  <gurobi.Var x_method1 K7_3 (value 0.0)>,\n",
       "  <gurobi.Var x_method1 K7_4 (value 0.0)>,\n",
       "  <gurobi.Var x_method1 K7_5 (value 0.0)>,\n",
       "  <gurobi.Var x_method1 K7_6 (value 0.0)>],\n",
       " [<gurobi.Var x_method1 K8_1 (value 0.0)>,\n",
       "  <gurobi.Var x_method1 K8_2 (value 0.0)>,\n",
       "  <gurobi.Var x_method1 K8_3 (value 0.0)>,\n",
       "  <gurobi.Var x_method1 K8_4 (value 0.0)>,\n",
       "  <gurobi.Var x_method1 K8_5 (value 0.0)>,\n",
       "  <gurobi.Var x_method1 K8_6 (value 0.0)>],\n",
       " [<gurobi.Var x_method1 K9_1 (value 0.0)>,\n",
       "  <gurobi.Var x_method1 K9_2 (value 0.0)>,\n",
       "  <gurobi.Var x_method1 K9_3 (value 0.0)>,\n",
       "  <gurobi.Var x_method1 K9_4 (value 0.0)>,\n",
       "  <gurobi.Var x_method1 K9_5 (value 0.0)>,\n",
       "  <gurobi.Var x_method1 K9_6 (value 0.0)>],\n",
       " [<gurobi.Var x_method1 K10_1 (value 24.0)>,\n",
       "  <gurobi.Var x_method1 K10_2 (value 0.0)>,\n",
       "  <gurobi.Var x_method1 K10_3 (value 0.0)>,\n",
       "  <gurobi.Var x_method1 K10_4 (value 0.0)>,\n",
       "  <gurobi.Var x_method1 K10_5 (value 0.0)>,\n",
       "  <gurobi.Var x_method1 K10_6 (value 0.0)>]]"
      ]
     },
     "execution_count": 97,
     "metadata": {},
     "output_type": "execute_result"
    }
   ],
   "source": [
    "x_method1_K"
   ]
  },
  {
   "cell_type": "code",
   "execution_count": 98,
   "metadata": {},
   "outputs": [
    {
     "data": {
      "text/plain": [
       "[[<gurobi.Var x_method2 K1_1 (value 0.0)>,\n",
       "  <gurobi.Var x_method2 K1_2 (value 0.0)>,\n",
       "  <gurobi.Var x_method2 K1_3 (value 0.0)>,\n",
       "  <gurobi.Var x_method2 K1_4 (value 0.0)>,\n",
       "  <gurobi.Var x_method2 K1_5 (value 0.0)>,\n",
       "  <gurobi.Var x_method2 K1_6 (value 0.0)>],\n",
       " [<gurobi.Var x_method2 K2_1 (value 0.0)>,\n",
       "  <gurobi.Var x_method2 K2_2 (value 0.0)>,\n",
       "  <gurobi.Var x_method2 K2_3 (value 0.0)>,\n",
       "  <gurobi.Var x_method2 K2_4 (value 0.0)>,\n",
       "  <gurobi.Var x_method2 K2_5 (value 0.0)>,\n",
       "  <gurobi.Var x_method2 K2_6 (value 0.0)>],\n",
       " [<gurobi.Var x_method2 K3_1 (value 0.0)>,\n",
       "  <gurobi.Var x_method2 K3_2 (value 0.0)>,\n",
       "  <gurobi.Var x_method2 K3_3 (value 0.0)>,\n",
       "  <gurobi.Var x_method2 K3_4 (value 0.0)>,\n",
       "  <gurobi.Var x_method2 K3_5 (value 0.0)>,\n",
       "  <gurobi.Var x_method2 K3_6 (value 0.0)>],\n",
       " [<gurobi.Var x_method2 K4_1 (value 0.0)>,\n",
       "  <gurobi.Var x_method2 K4_2 (value 0.0)>,\n",
       "  <gurobi.Var x_method2 K4_3 (value 0.0)>,\n",
       "  <gurobi.Var x_method2 K4_4 (value 0.0)>,\n",
       "  <gurobi.Var x_method2 K4_5 (value 0.0)>,\n",
       "  <gurobi.Var x_method2 K4_6 (value 0.0)>],\n",
       " [<gurobi.Var x_method2 K5_1 (value 0.0)>,\n",
       "  <gurobi.Var x_method2 K5_2 (value 0.0)>,\n",
       "  <gurobi.Var x_method2 K5_3 (value 0.0)>,\n",
       "  <gurobi.Var x_method2 K5_4 (value 0.0)>,\n",
       "  <gurobi.Var x_method2 K5_5 (value 0.0)>,\n",
       "  <gurobi.Var x_method2 K5_6 (value 0.0)>],\n",
       " [<gurobi.Var x_method2 K6_1 (value 0.0)>,\n",
       "  <gurobi.Var x_method2 K6_2 (value 0.0)>,\n",
       "  <gurobi.Var x_method2 K6_3 (value 0.0)>,\n",
       "  <gurobi.Var x_method2 K6_4 (value 0.0)>,\n",
       "  <gurobi.Var x_method2 K6_5 (value 0.0)>,\n",
       "  <gurobi.Var x_method2 K6_6 (value 0.0)>],\n",
       " [<gurobi.Var x_method2 K7_1 (value 0.0)>,\n",
       "  <gurobi.Var x_method2 K7_2 (value 0.0)>,\n",
       "  <gurobi.Var x_method2 K7_3 (value 0.0)>,\n",
       "  <gurobi.Var x_method2 K7_4 (value 0.0)>,\n",
       "  <gurobi.Var x_method2 K7_5 (value 0.0)>,\n",
       "  <gurobi.Var x_method2 K7_6 (value 0.0)>],\n",
       " [<gurobi.Var x_method2 K8_1 (value 0.0)>,\n",
       "  <gurobi.Var x_method2 K8_2 (value 0.0)>,\n",
       "  <gurobi.Var x_method2 K8_3 (value 0.0)>,\n",
       "  <gurobi.Var x_method2 K8_4 (value 0.0)>,\n",
       "  <gurobi.Var x_method2 K8_5 (value 0.0)>,\n",
       "  <gurobi.Var x_method2 K8_6 (value 0.0)>],\n",
       " [<gurobi.Var x_method2 K9_1 (value 0.0)>,\n",
       "  <gurobi.Var x_method2 K9_2 (value 0.0)>,\n",
       "  <gurobi.Var x_method2 K9_3 (value 0.0)>,\n",
       "  <gurobi.Var x_method2 K9_4 (value 0.0)>,\n",
       "  <gurobi.Var x_method2 K9_5 (value 0.0)>,\n",
       "  <gurobi.Var x_method2 K9_6 (value 0.0)>],\n",
       " [<gurobi.Var x_method2 K10_1 (value 162.0)>,\n",
       "  <gurobi.Var x_method2 K10_2 (value 0.0)>,\n",
       "  <gurobi.Var x_method2 K10_3 (value 0.0)>,\n",
       "  <gurobi.Var x_method2 K10_4 (value 0.0)>,\n",
       "  <gurobi.Var x_method2 K10_5 (value 0.0)>,\n",
       "  <gurobi.Var x_method2 K10_6 (value 0.0)>]]"
      ]
     },
     "execution_count": 98,
     "metadata": {},
     "output_type": "execute_result"
    }
   ],
   "source": [
    "x_method2_K"
   ]
  },
  {
   "cell_type": "code",
   "execution_count": 99,
   "metadata": {},
   "outputs": [
    {
     "data": {
      "text/plain": [
       "[[<gurobi.Var x_method3 K1_1 (value 0.0)>,\n",
       "  <gurobi.Var x_method3 K1_2 (value 0.0)>,\n",
       "  <gurobi.Var x_method3 K1_3 (value 38.0)>,\n",
       "  <gurobi.Var x_method3 K1_4 (value 0.0)>,\n",
       "  <gurobi.Var x_method3 K1_5 (value 0.0)>,\n",
       "  <gurobi.Var x_method3 K1_6 (value 0.0)>],\n",
       " [<gurobi.Var x_method3 K2_1 (value 0.0)>,\n",
       "  <gurobi.Var x_method3 K2_2 (value 0.0)>,\n",
       "  <gurobi.Var x_method3 K2_3 (value 45.0)>,\n",
       "  <gurobi.Var x_method3 K2_4 (value 0.0)>,\n",
       "  <gurobi.Var x_method3 K2_5 (value 0.0)>,\n",
       "  <gurobi.Var x_method3 K2_6 (value 0.0)>],\n",
       " [<gurobi.Var x_method3 K3_1 (value 0.0)>,\n",
       "  <gurobi.Var x_method3 K3_2 (value 82.0)>,\n",
       "  <gurobi.Var x_method3 K3_3 (value 200.0)>,\n",
       "  <gurobi.Var x_method3 K3_4 (value 0.0)>,\n",
       "  <gurobi.Var x_method3 K3_5 (value 0.0)>,\n",
       "  <gurobi.Var x_method3 K3_6 (value 0.0)>],\n",
       " [<gurobi.Var x_method3 K4_1 (value 0.0)>,\n",
       "  <gurobi.Var x_method3 K4_2 (value 97.0)>,\n",
       "  <gurobi.Var x_method3 K4_3 (value 155.0)>,\n",
       "  <gurobi.Var x_method3 K4_4 (value 0.0)>,\n",
       "  <gurobi.Var x_method3 K4_5 (value 0.0)>,\n",
       "  <gurobi.Var x_method3 K4_6 (value 0.0)>],\n",
       " [<gurobi.Var x_method3 K5_1 (value 0.0)>,\n",
       "  <gurobi.Var x_method3 K5_2 (value 67.0)>,\n",
       "  <gurobi.Var x_method3 K5_3 (value 49.0)>,\n",
       "  <gurobi.Var x_method3 K5_4 (value 0.0)>,\n",
       "  <gurobi.Var x_method3 K5_5 (value 0.0)>,\n",
       "  <gurobi.Var x_method3 K5_6 (value 0.0)>],\n",
       " [<gurobi.Var x_method3 K6_1 (value 0.0)>,\n",
       "  <gurobi.Var x_method3 K6_2 (value 0.0)>,\n",
       "  <gurobi.Var x_method3 K6_3 (value 154.0)>,\n",
       "  <gurobi.Var x_method3 K6_4 (value 0.0)>,\n",
       "  <gurobi.Var x_method3 K6_5 (value 0.0)>,\n",
       "  <gurobi.Var x_method3 K6_6 (value 0.0)>],\n",
       " [<gurobi.Var x_method3 K7_1 (value 0.0)>,\n",
       "  <gurobi.Var x_method3 K7_2 (value 0.0)>,\n",
       "  <gurobi.Var x_method3 K7_3 (value 172.0)>,\n",
       "  <gurobi.Var x_method3 K7_4 (value 0.0)>,\n",
       "  <gurobi.Var x_method3 K7_5 (value 0.0)>,\n",
       "  <gurobi.Var x_method3 K7_6 (value 0.0)>],\n",
       " [<gurobi.Var x_method3 K8_1 (value 61.0)>,\n",
       "  <gurobi.Var x_method3 K8_2 (value 168.0)>,\n",
       "  <gurobi.Var x_method3 K8_3 (value 32.0)>,\n",
       "  <gurobi.Var x_method3 K8_4 (value 0.0)>,\n",
       "  <gurobi.Var x_method3 K8_5 (value 0.0)>,\n",
       "  <gurobi.Var x_method3 K8_6 (value 0.0)>],\n",
       " [<gurobi.Var x_method3 K9_1 (value 0.0)>,\n",
       "  <gurobi.Var x_method3 K9_2 (value 0.0)>,\n",
       "  <gurobi.Var x_method3 K9_3 (value 94.0)>,\n",
       "  <gurobi.Var x_method3 K9_4 (value 0.0)>,\n",
       "  <gurobi.Var x_method3 K9_5 (value 0.0)>,\n",
       "  <gurobi.Var x_method3 K9_6 (value 0.0)>],\n",
       " [<gurobi.Var x_method3 K10_1 (value 200.0)>,\n",
       "  <gurobi.Var x_method3 K10_2 (value 154.0)>,\n",
       "  <gurobi.Var x_method3 K10_3 (value 199.0)>,\n",
       "  <gurobi.Var x_method3 K10_4 (value 0.0)>,\n",
       "  <gurobi.Var x_method3 K10_5 (value 0.0)>,\n",
       "  <gurobi.Var x_method3 K10_6 (value 0.0)>]]"
      ]
     },
     "execution_count": 99,
     "metadata": {},
     "output_type": "execute_result"
    }
   ],
   "source": [
    "x_method3_K"
   ]
  },
  {
   "cell_type": "code",
   "execution_count": 100,
   "metadata": {},
   "outputs": [
    {
     "data": {
      "text/plain": [
       "[[<gurobi.Var x_method1 T1_1 (value 0.0)>,\n",
       "  <gurobi.Var x_method1 T1_2 (value 0.0)>,\n",
       "  <gurobi.Var x_method1 T1_3 (value 0.0)>,\n",
       "  <gurobi.Var x_method1 T1_4 (value 0.0)>,\n",
       "  <gurobi.Var x_method1 T1_5 (value 0.0)>,\n",
       "  <gurobi.Var x_method1 T1_6 (value 0.0)>],\n",
       " [<gurobi.Var x_method1 T2_1 (value 0.0)>,\n",
       "  <gurobi.Var x_method1 T2_2 (value 0.0)>,\n",
       "  <gurobi.Var x_method1 T2_3 (value 0.0)>,\n",
       "  <gurobi.Var x_method1 T2_4 (value 0.0)>,\n",
       "  <gurobi.Var x_method1 T2_5 (value 0.0)>,\n",
       "  <gurobi.Var x_method1 T2_6 (value 0.0)>],\n",
       " [<gurobi.Var x_method1 T3_1 (value 0.0)>,\n",
       "  <gurobi.Var x_method1 T3_2 (value 0.0)>,\n",
       "  <gurobi.Var x_method1 T3_3 (value 0.0)>,\n",
       "  <gurobi.Var x_method1 T3_4 (value 0.0)>,\n",
       "  <gurobi.Var x_method1 T3_5 (value 0.0)>,\n",
       "  <gurobi.Var x_method1 T3_6 (value 0.0)>],\n",
       " [<gurobi.Var x_method1 T4_1 (value 0.0)>,\n",
       "  <gurobi.Var x_method1 T4_2 (value 0.0)>,\n",
       "  <gurobi.Var x_method1 T4_3 (value 0.0)>,\n",
       "  <gurobi.Var x_method1 T4_4 (value 0.0)>,\n",
       "  <gurobi.Var x_method1 T4_5 (value 0.0)>,\n",
       "  <gurobi.Var x_method1 T4_6 (value 0.0)>],\n",
       " [<gurobi.Var x_method1 T5_1 (value 0.0)>,\n",
       "  <gurobi.Var x_method1 T5_2 (value 0.0)>,\n",
       "  <gurobi.Var x_method1 T5_3 (value 0.0)>,\n",
       "  <gurobi.Var x_method1 T5_4 (value 0.0)>,\n",
       "  <gurobi.Var x_method1 T5_5 (value 0.0)>,\n",
       "  <gurobi.Var x_method1 T5_6 (value 0.0)>],\n",
       " [<gurobi.Var x_method1 T6_1 (value 0.0)>,\n",
       "  <gurobi.Var x_method1 T6_2 (value 0.0)>,\n",
       "  <gurobi.Var x_method1 T6_3 (value 0.0)>,\n",
       "  <gurobi.Var x_method1 T6_4 (value 0.0)>,\n",
       "  <gurobi.Var x_method1 T6_5 (value 0.0)>,\n",
       "  <gurobi.Var x_method1 T6_6 (value 0.0)>],\n",
       " [<gurobi.Var x_method1 T7_1 (value 0.0)>,\n",
       "  <gurobi.Var x_method1 T7_2 (value 0.0)>,\n",
       "  <gurobi.Var x_method1 T7_3 (value 0.0)>,\n",
       "  <gurobi.Var x_method1 T7_4 (value 0.0)>,\n",
       "  <gurobi.Var x_method1 T7_5 (value 0.0)>,\n",
       "  <gurobi.Var x_method1 T7_6 (value 0.0)>],\n",
       " [<gurobi.Var x_method1 T8_1 (value 0.0)>,\n",
       "  <gurobi.Var x_method1 T8_2 (value 0.0)>,\n",
       "  <gurobi.Var x_method1 T8_3 (value 0.0)>,\n",
       "  <gurobi.Var x_method1 T8_4 (value 0.0)>,\n",
       "  <gurobi.Var x_method1 T8_5 (value 0.0)>,\n",
       "  <gurobi.Var x_method1 T8_6 (value 0.0)>],\n",
       " [<gurobi.Var x_method1 T9_1 (value 0.0)>,\n",
       "  <gurobi.Var x_method1 T9_2 (value 0.0)>,\n",
       "  <gurobi.Var x_method1 T9_3 (value 0.0)>,\n",
       "  <gurobi.Var x_method1 T9_4 (value 0.0)>,\n",
       "  <gurobi.Var x_method1 T9_5 (value 0.0)>,\n",
       "  <gurobi.Var x_method1 T9_6 (value 0.0)>],\n",
       " [<gurobi.Var x_method1 T10_1 (value 0.0)>,\n",
       "  <gurobi.Var x_method1 T10_2 (value 24.0)>,\n",
       "  <gurobi.Var x_method1 T10_3 (value 0.0)>,\n",
       "  <gurobi.Var x_method1 T10_4 (value 0.0)>,\n",
       "  <gurobi.Var x_method1 T10_5 (value 0.0)>,\n",
       "  <gurobi.Var x_method1 T10_6 (value 0.0)>]]"
      ]
     },
     "execution_count": 100,
     "metadata": {},
     "output_type": "execute_result"
    }
   ],
   "source": [
    "x_method1_T"
   ]
  },
  {
   "cell_type": "code",
   "execution_count": 101,
   "metadata": {},
   "outputs": [
    {
     "data": {
      "text/plain": [
       "[[<gurobi.Var x_method2 T1_1 (value 0.0)>,\n",
       "  <gurobi.Var x_method2 T1_2 (value 0.0)>,\n",
       "  <gurobi.Var x_method2 T1_3 (value 0.0)>,\n",
       "  <gurobi.Var x_method2 T1_4 (value 0.0)>,\n",
       "  <gurobi.Var x_method2 T1_5 (value 0.0)>,\n",
       "  <gurobi.Var x_method2 T1_6 (value 0.0)>],\n",
       " [<gurobi.Var x_method2 T2_1 (value 0.0)>,\n",
       "  <gurobi.Var x_method2 T2_2 (value 0.0)>,\n",
       "  <gurobi.Var x_method2 T2_3 (value 0.0)>,\n",
       "  <gurobi.Var x_method2 T2_4 (value 0.0)>,\n",
       "  <gurobi.Var x_method2 T2_5 (value 0.0)>,\n",
       "  <gurobi.Var x_method2 T2_6 (value 0.0)>],\n",
       " [<gurobi.Var x_method2 T3_1 (value 0.0)>,\n",
       "  <gurobi.Var x_method2 T3_2 (value 0.0)>,\n",
       "  <gurobi.Var x_method2 T3_3 (value 0.0)>,\n",
       "  <gurobi.Var x_method2 T3_4 (value 0.0)>,\n",
       "  <gurobi.Var x_method2 T3_5 (value 0.0)>,\n",
       "  <gurobi.Var x_method2 T3_6 (value 0.0)>],\n",
       " [<gurobi.Var x_method2 T4_1 (value 0.0)>,\n",
       "  <gurobi.Var x_method2 T4_2 (value 0.0)>,\n",
       "  <gurobi.Var x_method2 T4_3 (value 0.0)>,\n",
       "  <gurobi.Var x_method2 T4_4 (value 0.0)>,\n",
       "  <gurobi.Var x_method2 T4_5 (value 0.0)>,\n",
       "  <gurobi.Var x_method2 T4_6 (value 0.0)>],\n",
       " [<gurobi.Var x_method2 T5_1 (value 0.0)>,\n",
       "  <gurobi.Var x_method2 T5_2 (value 0.0)>,\n",
       "  <gurobi.Var x_method2 T5_3 (value 0.0)>,\n",
       "  <gurobi.Var x_method2 T5_4 (value 0.0)>,\n",
       "  <gurobi.Var x_method2 T5_5 (value 0.0)>,\n",
       "  <gurobi.Var x_method2 T5_6 (value 0.0)>],\n",
       " [<gurobi.Var x_method2 T6_1 (value 0.0)>,\n",
       "  <gurobi.Var x_method2 T6_2 (value 0.0)>,\n",
       "  <gurobi.Var x_method2 T6_3 (value 0.0)>,\n",
       "  <gurobi.Var x_method2 T6_4 (value 0.0)>,\n",
       "  <gurobi.Var x_method2 T6_5 (value 0.0)>,\n",
       "  <gurobi.Var x_method2 T6_6 (value 0.0)>],\n",
       " [<gurobi.Var x_method2 T7_1 (value 0.0)>,\n",
       "  <gurobi.Var x_method2 T7_2 (value 0.0)>,\n",
       "  <gurobi.Var x_method2 T7_3 (value 0.0)>,\n",
       "  <gurobi.Var x_method2 T7_4 (value 0.0)>,\n",
       "  <gurobi.Var x_method2 T7_5 (value 0.0)>,\n",
       "  <gurobi.Var x_method2 T7_6 (value 0.0)>],\n",
       " [<gurobi.Var x_method2 T8_1 (value 0.0)>,\n",
       "  <gurobi.Var x_method2 T8_2 (value 0.0)>,\n",
       "  <gurobi.Var x_method2 T8_3 (value 0.0)>,\n",
       "  <gurobi.Var x_method2 T8_4 (value 0.0)>,\n",
       "  <gurobi.Var x_method2 T8_5 (value 0.0)>,\n",
       "  <gurobi.Var x_method2 T8_6 (value 0.0)>],\n",
       " [<gurobi.Var x_method2 T9_1 (value 0.0)>,\n",
       "  <gurobi.Var x_method2 T9_2 (value 0.0)>,\n",
       "  <gurobi.Var x_method2 T9_3 (value 0.0)>,\n",
       "  <gurobi.Var x_method2 T9_4 (value 0.0)>,\n",
       "  <gurobi.Var x_method2 T9_5 (value 0.0)>,\n",
       "  <gurobi.Var x_method2 T9_6 (value 0.0)>],\n",
       " [<gurobi.Var x_method2 T10_1 (value 0.0)>,\n",
       "  <gurobi.Var x_method2 T10_2 (value 0.0)>,\n",
       "  <gurobi.Var x_method2 T10_3 (value 162.0)>,\n",
       "  <gurobi.Var x_method2 T10_4 (value 0.0)>,\n",
       "  <gurobi.Var x_method2 T10_5 (value 0.0)>,\n",
       "  <gurobi.Var x_method2 T10_6 (value 0.0)>]]"
      ]
     },
     "execution_count": 101,
     "metadata": {},
     "output_type": "execute_result"
    }
   ],
   "source": [
    "x_method2_T"
   ]
  },
  {
   "cell_type": "code",
   "execution_count": 102,
   "metadata": {},
   "outputs": [
    {
     "data": {
      "text/plain": [
       "[[<gurobi.Var x_method3 T1_1 (value 0.0)>,\n",
       "  <gurobi.Var x_method3 T1_2 (value 0.0)>,\n",
       "  <gurobi.Var x_method3 T1_3 (value 0.0)>,\n",
       "  <gurobi.Var x_method3 T1_4 (value 0.0)>,\n",
       "  <gurobi.Var x_method3 T1_5 (value 0.0)>,\n",
       "  <gurobi.Var x_method3 T1_6 (value 38.0)>],\n",
       " [<gurobi.Var x_method3 T2_1 (value 0.0)>,\n",
       "  <gurobi.Var x_method3 T2_2 (value 0.0)>,\n",
       "  <gurobi.Var x_method3 T2_3 (value 0.0)>,\n",
       "  <gurobi.Var x_method3 T2_4 (value 0.0)>,\n",
       "  <gurobi.Var x_method3 T2_5 (value 0.0)>,\n",
       "  <gurobi.Var x_method3 T2_6 (value 45.0)>],\n",
       " [<gurobi.Var x_method3 T3_1 (value 0.0)>,\n",
       "  <gurobi.Var x_method3 T3_2 (value 0.0)>,\n",
       "  <gurobi.Var x_method3 T3_3 (value 0.0)>,\n",
       "  <gurobi.Var x_method3 T3_4 (value 0.0)>,\n",
       "  <gurobi.Var x_method3 T3_5 (value 82.0)>,\n",
       "  <gurobi.Var x_method3 T3_6 (value 200.0)>],\n",
       " [<gurobi.Var x_method3 T4_1 (value 0.0)>,\n",
       "  <gurobi.Var x_method3 T4_2 (value 0.0)>,\n",
       "  <gurobi.Var x_method3 T4_3 (value 0.0)>,\n",
       "  <gurobi.Var x_method3 T4_4 (value 0.0)>,\n",
       "  <gurobi.Var x_method3 T4_5 (value 97.0)>,\n",
       "  <gurobi.Var x_method3 T4_6 (value 155.0)>],\n",
       " [<gurobi.Var x_method3 T5_1 (value 0.0)>,\n",
       "  <gurobi.Var x_method3 T5_2 (value 0.0)>,\n",
       "  <gurobi.Var x_method3 T5_3 (value 0.0)>,\n",
       "  <gurobi.Var x_method3 T5_4 (value 0.0)>,\n",
       "  <gurobi.Var x_method3 T5_5 (value 67.0)>,\n",
       "  <gurobi.Var x_method3 T5_6 (value 49.0)>],\n",
       " [<gurobi.Var x_method3 T6_1 (value 0.0)>,\n",
       "  <gurobi.Var x_method3 T6_2 (value 0.0)>,\n",
       "  <gurobi.Var x_method3 T6_3 (value 0.0)>,\n",
       "  <gurobi.Var x_method3 T6_4 (value 0.0)>,\n",
       "  <gurobi.Var x_method3 T6_5 (value 0.0)>,\n",
       "  <gurobi.Var x_method3 T6_6 (value 154.0)>],\n",
       " [<gurobi.Var x_method3 T7_1 (value 0.0)>,\n",
       "  <gurobi.Var x_method3 T7_2 (value 0.0)>,\n",
       "  <gurobi.Var x_method3 T7_3 (value 0.0)>,\n",
       "  <gurobi.Var x_method3 T7_4 (value 0.0)>,\n",
       "  <gurobi.Var x_method3 T7_5 (value 0.0)>,\n",
       "  <gurobi.Var x_method3 T7_6 (value 172.0)>],\n",
       " [<gurobi.Var x_method3 T8_1 (value 0.0)>,\n",
       "  <gurobi.Var x_method3 T8_2 (value 0.0)>,\n",
       "  <gurobi.Var x_method3 T8_3 (value 0.0)>,\n",
       "  <gurobi.Var x_method3 T8_4 (value 61.0)>,\n",
       "  <gurobi.Var x_method3 T8_5 (value 168.0)>,\n",
       "  <gurobi.Var x_method3 T8_6 (value 32.0)>],\n",
       " [<gurobi.Var x_method3 T9_1 (value 0.0)>,\n",
       "  <gurobi.Var x_method3 T9_2 (value 0.0)>,\n",
       "  <gurobi.Var x_method3 T9_3 (value 0.0)>,\n",
       "  <gurobi.Var x_method3 T9_4 (value 0.0)>,\n",
       "  <gurobi.Var x_method3 T9_5 (value 0.0)>,\n",
       "  <gurobi.Var x_method3 T9_6 (value 94.0)>],\n",
       " [<gurobi.Var x_method3 T10_1 (value 0.0)>,\n",
       "  <gurobi.Var x_method3 T10_2 (value 0.0)>,\n",
       "  <gurobi.Var x_method3 T10_3 (value 0.0)>,\n",
       "  <gurobi.Var x_method3 T10_4 (value 200.0)>,\n",
       "  <gurobi.Var x_method3 T10_5 (value 154.0)>,\n",
       "  <gurobi.Var x_method3 T10_6 (value 199.0)>]]"
      ]
     },
     "execution_count": 102,
     "metadata": {},
     "output_type": "execute_result"
    }
   ],
   "source": [
    "x_method3_T"
   ]
  },
  {
   "cell_type": "code",
   "execution_count": 103,
   "metadata": {},
   "outputs": [
    {
     "data": {
      "text/plain": [
       "[[<gurobi.Var z1_1 (value 1.0)>,\n",
       "  <gurobi.Var z1_2 (value -0.0)>,\n",
       "  <gurobi.Var z1_3 (value -0.0)>,\n",
       "  <gurobi.Var z1_4 (value -0.0)>,\n",
       "  <gurobi.Var z1_5 (value -0.0)>,\n",
       "  <gurobi.Var z1_6 (value 0.0)>],\n",
       " [<gurobi.Var z2_1 (value 1.0)>,\n",
       "  <gurobi.Var z2_2 (value -0.0)>,\n",
       "  <gurobi.Var z2_3 (value -0.0)>,\n",
       "  <gurobi.Var z2_4 (value -0.0)>,\n",
       "  <gurobi.Var z2_5 (value 0.0)>,\n",
       "  <gurobi.Var z2_6 (value 0.0)>],\n",
       " [<gurobi.Var z3_1 (value 1.0)>,\n",
       "  <gurobi.Var z3_2 (value 1.0)>,\n",
       "  <gurobi.Var z3_3 (value 1.0)>,\n",
       "  <gurobi.Var z3_4 (value 0.0)>,\n",
       "  <gurobi.Var z3_5 (value 0.0)>,\n",
       "  <gurobi.Var z3_6 (value 0.0)>]]"
      ]
     },
     "execution_count": 103,
     "metadata": {},
     "output_type": "execute_result"
    }
   ],
   "source": [
    "z"
   ]
  },
  {
   "cell_type": "code",
   "execution_count": 104,
   "metadata": {},
   "outputs": [
    {
     "data": {
      "text/plain": [
       "[<gurobi.Var w1 (value 1.0)>,\n",
       " <gurobi.Var w2 (value 2.0)>,\n",
       " <gurobi.Var w3 (value 3.0)>,\n",
       " <gurobi.Var w4 (value -0.0)>,\n",
       " <gurobi.Var w5 (value -0.0)>,\n",
       " <gurobi.Var w6 (value -0.0)>]"
      ]
     },
     "execution_count": 104,
     "metadata": {},
     "output_type": "execute_result"
    }
   ],
   "source": [
    "w"
   ]
  },
  {
   "cell_type": "code",
   "execution_count": null,
   "metadata": {},
   "outputs": [],
   "source": []
  },
  {
   "cell_type": "code",
   "execution_count": null,
   "metadata": {},
   "outputs": [],
   "source": []
  }
 ],
 "metadata": {
  "kernelspec": {
   "display_name": "Python 3",
   "language": "python",
   "name": "python3"
  },
  "language_info": {
   "codemirror_mode": {
    "name": "ipython",
    "version": 3
   },
   "file_extension": ".py",
   "mimetype": "text/x-python",
   "name": "python",
   "nbconvert_exporter": "python",
   "pygments_lexer": "ipython3",
   "version": "3.7.3"
  }
 },
 "nbformat": 4,
 "nbformat_minor": 4
}
