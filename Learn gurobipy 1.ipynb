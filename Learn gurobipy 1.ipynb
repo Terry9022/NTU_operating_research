{
 "cells": [
  {
   "cell_type": "markdown",
   "metadata": {},
   "source": [
    "Part 1"
   ]
  },
  {
   "cell_type": "code",
   "execution_count": 2,
   "metadata": {},
   "outputs": [],
   "source": [
    "from gurobipy import *\n",
    "import pandas as pd"
   ]
  },
  {
   "cell_type": "code",
   "execution_count": 10,
   "metadata": {},
   "outputs": [
    {
     "name": "stdout",
     "output_type": "stream",
     "text": [
      "Academic license - for non-commercial use only - expires 2021-05-30\n",
      "Using license file /Users/terrylu/gurobi.lic\n"
     ]
    }
   ],
   "source": [
    "# build a new model\n",
    "eg1 = Model(\"eg1\")  # build a new model, name it as \"eg1\"\n",
    "\n",
    "x1 = eg1.addVar(lb = 0, vtype = GRB.CONTINUOUS, name = 'x1')\n",
    "x2 = eg1.addVar(lb = 0, vtype = GRB.CONTINUOUS, name = \"x2\")"
   ]
  },
  {
   "cell_type": "code",
   "execution_count": 11,
   "metadata": {},
   "outputs": [
    {
     "data": {
      "text/plain": [
       "<gurobi.Constr *Awaiting Model Update*>"
      ]
     },
     "execution_count": 11,
     "metadata": {},
     "output_type": "execute_result"
    }
   ],
   "source": [
    "# setting the objective function\n",
    "# use GRB.MAXIMIZE for a maximization problem\n",
    "eg1.setObjective(700 * x1 + 900 * x2, GRB.MAXIMIZE) \n",
    "\n",
    "# add constraints and name them\n",
    "eg1.addConstr(3 * x1 + 5 * x2 <= 3600, \"resource_wood\")\n",
    "eg1.addConstr(x1 + 2 * x2 <= 1600, \"resource_labor\")\n",
    "eg1.addConstr(50 * x1 + 20 * x2 <= 48000, \"resource_machine\")"
   ]
  },
  {
   "cell_type": "code",
   "execution_count": 12,
   "metadata": {},
   "outputs": [
    {
     "name": "stdout",
     "output_type": "stream",
     "text": [
      "Gurobi Optimizer version 9.1.1 build v9.1.1rc0 (mac64)\n",
      "Thread count: 2 physical cores, 4 logical processors, using up to 4 threads\n",
      "Optimize a model with 3 rows, 2 columns and 6 nonzeros\n",
      "Model fingerprint: 0xa395d65c\n",
      "Coefficient statistics:\n",
      "  Matrix range     [1e+00, 5e+01]\n",
      "  Objective range  [7e+02, 9e+02]\n",
      "  Bounds range     [0e+00, 0e+00]\n",
      "  RHS range        [2e+03, 5e+04]\n",
      "Presolve time: 0.02s\n",
      "Presolved: 3 rows, 2 columns, 6 nonzeros\n",
      "\n",
      "Iteration    Objective       Primal Inf.    Dual Inf.      Time\n",
      "       0    2.0000000e+32   3.593750e+30   2.000000e+02      0s\n",
      "       3    7.8947368e+05   0.000000e+00   0.000000e+00      0s\n",
      "\n",
      "Solved in 3 iterations and 0.04 seconds\n",
      "Optimal objective  7.894736842e+05\n"
     ]
    }
   ],
   "source": [
    "eg1.optimize()"
   ]
  },
  {
   "cell_type": "code",
   "execution_count": 13,
   "metadata": {},
   "outputs": [
    {
     "name": "stdout",
     "output_type": "stream",
     "text": [
      "x1 = 884.2105263157895\n",
      "x2 = 189.47368421052633\n",
      "objective value = 789473.6842105263\n"
     ]
    }
   ],
   "source": [
    "for var in eg1.getVars():\n",
    "    print(var.varName, '=', var.x)\n",
    "print(\"objective value =\", eg1.objVal)"
   ]
  },
  {
   "cell_type": "code",
   "execution_count": 14,
   "metadata": {},
   "outputs": [],
   "source": [
    "products = range(2)  # 2 products    \n",
    "resources = range(3)  # 3 resources\n",
    "\n",
    "prices = [700, 900]    \n",
    "resource_consumptions = [[3 , 5 ],\n",
    "                         [1 , 2 ],\n",
    "                         [50, 20]]\n",
    "resource_limitations = [3600, 1600, 48000]"
   ]
  },
  {
   "cell_type": "code",
   "execution_count": 15,
   "metadata": {},
   "outputs": [
    {
     "name": "stdout",
     "output_type": "stream",
     "text": [
      "Gurobi Optimizer version 9.1.1 build v9.1.1rc0 (mac64)\n",
      "Thread count: 2 physical cores, 4 logical processors, using up to 4 threads\n",
      "Optimize a model with 3 rows, 2 columns and 6 nonzeros\n",
      "Model fingerprint: 0xa395d65c\n",
      "Coefficient statistics:\n",
      "  Matrix range     [1e+00, 5e+01]\n",
      "  Objective range  [7e+02, 9e+02]\n",
      "  Bounds range     [0e+00, 0e+00]\n",
      "  RHS range        [2e+03, 5e+04]\n",
      "Presolve time: 0.03s\n",
      "Presolved: 3 rows, 2 columns, 6 nonzeros\n",
      "\n",
      "Iteration    Objective       Primal Inf.    Dual Inf.      Time\n",
      "       0    2.0000000e+32   3.593750e+30   2.000000e+02      0s\n",
      "       3    7.8947368e+05   0.000000e+00   0.000000e+00      0s\n",
      "\n",
      "Solved in 3 iterations and 0.05 seconds\n",
      "Optimal objective  7.894736842e+05\n",
      "x0 = 884.2105263157895\n",
      "x1 = 189.47368421052633\n",
      "objective value = 789473.6842105263\n"
     ]
    }
   ],
   "source": [
    "eg1_decoupling = Model(\"eg1_decoupling\")\n",
    "\n",
    "x = []\n",
    "for i in products:\n",
    "    x.append(eg1_decoupling.addVar(lb = 0, vtype = GRB.CONTINUOUS, name = 'x' + str(i)))\n",
    "\n",
    "eg1_decoupling.setObjective(quicksum(prices[i] * x[i] for i in products) , GRB.MAXIMIZE) \n",
    "\n",
    "# add constraints and name them\n",
    "eg1_decoupling.addConstrs((quicksum(resource_consumptions[j][i] * x[i] for i in products) \n",
    "                           <= resource_limitations[j] for j in resources), \"Resource_limitation\")\n",
    "\n",
    "eg1_decoupling.optimize()\n",
    "\n",
    "for var in eg1_decoupling.getVars():\n",
    "    print(var.varName, '=', var.x)\n",
    "print(\"objective value =\", eg1_decoupling.objVal)"
   ]
  },
  {
   "cell_type": "markdown",
   "metadata": {},
   "source": [
    "Part 2"
   ]
  },
  {
   "cell_type": "code",
   "execution_count": 7,
   "metadata": {},
   "outputs": [],
   "source": [
    "basic_info = pd.read_excel('IP_dataset.xlsx', 'Basic information')\n",
    "cities = range(len(basic_info['City']))\n",
    "markets = range(len(basic_info['Market']))\n",
    "\n",
    "city_info = pd.read_excel('IP_dataset.xlsx', 'City\\'s information')\n",
    "operating_costs = city_info['Operating cost']\n",
    "capacities = city_info['Capacity']\n",
    "\n",
    "market_info = pd.read_excel('IP_dataset.xlsx', 'Market\\'s information')\n",
    "demands = market_info['Demand']\n",
    "\n",
    "shipping_info = pd.read_excel('IP_dataset.xlsx', 'Shipping cost', index_col = 0)\n",
    "shipping_costs = []\n",
    "for i in shipping_info.index:\n",
    "    shipping_costs.append(list(shipping_info.loc[i]))"
   ]
  },
  {
   "cell_type": "code",
   "execution_count": 11,
   "metadata": {},
   "outputs": [
    {
     "data": {
      "text/plain": [
       "[[2.4, 3.25, 4.05, 5.25, 6.95],\n",
       " [3.5, 2.3, 3.25, 6.05, 5.85],\n",
       " [4.8, 3.4, 2.85, 4.3, 4.8],\n",
       " [6.8, 5.25, 4.3, 3.25, 2.1],\n",
       " [5.75, 6.0, 4.75, 2.75, 3.5]]"
      ]
     },
     "execution_count": 11,
     "metadata": {},
     "output_type": "execute_result"
    }
   ],
   "source": [
    "shipping_costs"
   ]
  },
  {
   "cell_type": "code",
   "execution_count": 21,
   "metadata": {},
   "outputs": [],
   "source": [
    "eg2 = Model(\"eg2\")    # build a new model\n",
    "    \n",
    "# add variables as a list\n",
    "x = []\n",
    "for j in cities:\n",
    "    x.append(eg2.addVar(lb = 0, vtype = GRB.BINARY, name = \"x\" + str(j+1)))\n",
    "             \n",
    "y = []\n",
    "for i in markets:\n",
    "    y.append([])\n",
    "    for j in cities:\n",
    "        y[i].append(eg2.addVar(lb = 0, vtype = GRB.CONTINUOUS, name = \"y\" + str(i+1) + str(j+1)))\n",
    "        "
   ]
  },
  {
   "cell_type": "code",
   "execution_count": 20,
   "metadata": {},
   "outputs": [
    {
     "name": "stdout",
     "output_type": "stream",
     "text": [
      "Gurobi Optimizer version 9.1.1 build v9.1.1rc0 (mac64)\n",
      "Thread count: 2 physical cores, 4 logical processors, using up to 4 threads\n",
      "Optimize a model with 10 rows, 30 columns and 55 nonzeros\n",
      "Model fingerprint: 0x263201cb\n",
      "Variable types: 25 continuous, 5 integer (5 binary)\n",
      "Coefficient statistics:\n",
      "  Matrix range     [1e+00, 2e+04]\n",
      "  Objective range  [2e+00, 4e+04]\n",
      "  Bounds range     [1e+00, 1e+00]\n",
      "  RHS range        [8e+03, 2e+04]\n",
      "Presolve time: 0.00s\n",
      "Presolved: 10 rows, 30 columns, 55 nonzeros\n",
      "Variable types: 25 continuous, 5 integer (5 binary)\n",
      "\n",
      "Root relaxation: objective 2.528000e+05, 11 iterations, 0.00 seconds\n",
      "\n",
      "    Nodes    |    Current Node    |     Objective Bounds      |     Work\n",
      " Expl Unexpl |  Obj  Depth IntInf | Incumbent    BestBd   Gap | It/Node Time\n",
      "\n",
      "     0     0 252800.000    0    5          - 252800.000      -     -    0s\n",
      "H    0     0                    313600.00000 252800.000  19.4%     -    0s\n",
      "H    0     0                    280400.00000 252800.000  9.84%     -    0s\n",
      "     0     0 266813.478    0    3 280400.000 266813.478  4.85%     -    0s\n",
      "H    0     0                    272800.00000 266813.478  2.19%     -    0s\n",
      "     0     0 268857.143    0    2 272800.000 268857.143  1.45%     -    0s\n",
      "H    0     0                    268950.00000 268857.143  0.03%     -    0s\n",
      "\n",
      "Cutting planes:\n",
      "  Gomory: 3\n",
      "  Implied bound: 3\n",
      "  MIR: 2\n",
      "\n",
      "Explored 1 nodes (19 simplex iterations) in 0.09 seconds\n",
      "Thread count was 4 (of 4 available processors)\n",
      "\n",
      "Solution count 4: 268950 272800 280400 313600 \n",
      "\n",
      "Optimal solution found (tolerance 1.00e-04)\n",
      "Best objective 2.689500000000e+05, best bound 2.689500000000e+05, gap 0.0000%\n"
     ]
    }
   ],
   "source": [
    "\n",
    "# setting the objective function \n",
    "eg2.setObjective(\n",
    "    quicksum(operating_costs[j] * x_method1[j] for j in cities) \n",
    "    +  quicksum(quicksum(shipping_costs[i][j] * y[i][j] for j in cities) for i in markets)\n",
    "    , GRB.MINIMIZE) \n",
    "\n",
    "# add constraints and name them\n",
    "eg2.addConstrs((quicksum(y[i][j] for i in markets) <= capacities[j] * x[j] \n",
    "                for j in cities), \"productCapacity\")\n",
    "\n",
    "eg2.addConstrs((quicksum(y[i][j] for j in cities) >= demands[i]\n",
    "                for i in markets), \"demand_fulfillment\")\n",
    "    \n",
    "eg2.optimize()"
   ]
  },
  {
   "cell_type": "code",
   "execution_count": 15,
   "metadata": {},
   "outputs": [
    {
     "name": "stdout",
     "output_type": "stream",
     "text": [
      "Result:\n",
      "x1 = 0.0\n",
      "x2 = 1.0\n",
      "x3 = 0.0\n",
      "x4 = 1.0\n",
      "x5 = 1.0\n",
      "\tMarket1\tMarket2\tMarket3\tMarket4\tMarket5\n",
      "City1 \t0.0 \t0.0 \t0.0 \t0.0 \t0.0 \t\n",
      "City2 \t7999.999999999998 12000.000000000002 0.0 \t0.0 \t0.0 \t\n",
      "City3 \t0.0 \t0.0 \t0.0 \t0.0 \t0.0 \t\n",
      "City4 \t0.0 \t0.0 \t8000.0 \t0.0 \t17000.0 \n",
      "City5 \t0.0 \t0.0 \t1000.0 \t14000.0 0.0 \t\n",
      "z* = 268950.0\n"
     ]
    }
   ],
   "source": [
    "print(\"Result:\")\n",
    "\n",
    "for j in cities:\n",
    "    print(x[j].varName, '=', x[j].x)\n",
    "# head of the result table\n",
    "print(\"\\tMarket1\\tMarket2\\tMarket3\\tMarket4\\tMarket5\")\n",
    "\n",
    "for j in cities:\n",
    "    # mark which product is printed now\n",
    "    print(\"City\" + str(j+1), \"\\t\", end=\"\")\n",
    "    for i in markets:\n",
    "        # print values of each kind of product\n",
    "        if len(str(y[i][j].x)) < 7:\n",
    "            print(y[i][j].x, \"\\t\", end=\"\")\n",
    "        else:\n",
    "            print(y[i][j].x, \"\", end=\"\")\n",
    "    print(\"\")    # use for change line\n",
    "\n",
    "print(\"z* =\", eg2.objVal)    # print objective value"
   ]
  },
  {
   "cell_type": "code",
   "execution_count": 22,
   "metadata": {},
   "outputs": [
    {
     "data": {
      "text/plain": [
       "[[<gurobi.Var *Awaiting Model Update*>,\n",
       "  <gurobi.Var *Awaiting Model Update*>,\n",
       "  <gurobi.Var *Awaiting Model Update*>,\n",
       "  <gurobi.Var *Awaiting Model Update*>,\n",
       "  <gurobi.Var *Awaiting Model Update*>],\n",
       " [<gurobi.Var *Awaiting Model Update*>,\n",
       "  <gurobi.Var *Awaiting Model Update*>,\n",
       "  <gurobi.Var *Awaiting Model Update*>,\n",
       "  <gurobi.Var *Awaiting Model Update*>,\n",
       "  <gurobi.Var *Awaiting Model Update*>],\n",
       " [<gurobi.Var *Awaiting Model Update*>,\n",
       "  <gurobi.Var *Awaiting Model Update*>,\n",
       "  <gurobi.Var *Awaiting Model Update*>,\n",
       "  <gurobi.Var *Awaiting Model Update*>,\n",
       "  <gurobi.Var *Awaiting Model Update*>],\n",
       " [<gurobi.Var *Awaiting Model Update*>,\n",
       "  <gurobi.Var *Awaiting Model Update*>,\n",
       "  <gurobi.Var *Awaiting Model Update*>,\n",
       "  <gurobi.Var *Awaiting Model Update*>,\n",
       "  <gurobi.Var *Awaiting Model Update*>],\n",
       " [<gurobi.Var *Awaiting Model Update*>,\n",
       "  <gurobi.Var *Awaiting Model Update*>,\n",
       "  <gurobi.Var *Awaiting Model Update*>,\n",
       "  <gurobi.Var *Awaiting Model Update*>,\n",
       "  <gurobi.Var *Awaiting Model Update*>]]"
      ]
     },
     "execution_count": 22,
     "metadata": {},
     "output_type": "execute_result"
    }
   ],
   "source": [
    "y"
   ]
  },
  {
   "cell_type": "code",
   "execution_count": null,
   "metadata": {},
   "outputs": [],
   "source": []
  },
  {
   "cell_type": "code",
   "execution_count": null,
   "metadata": {},
   "outputs": [],
   "source": []
  }
 ],
 "metadata": {
  "kernelspec": {
   "display_name": "Python 3",
   "language": "python",
   "name": "python3"
  },
  "language_info": {
   "codemirror_mode": {
    "name": "ipython",
    "version": 3
   },
   "file_extension": ".py",
   "mimetype": "text/x-python",
   "name": "python",
   "nbconvert_exporter": "python",
   "pygments_lexer": "ipython3",
   "version": "3.7.3"
  }
 },
 "nbformat": 4,
 "nbformat_minor": 4
}
