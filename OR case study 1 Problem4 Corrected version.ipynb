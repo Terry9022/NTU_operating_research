{
 "cells": [
  {
   "cell_type": "markdown",
   "metadata": {},
   "source": [
    "## Problem 4"
   ]
  },
  {
   "cell_type": "code",
   "execution_count": 51,
   "metadata": {},
   "outputs": [
    {
     "data": {
      "text/plain": [
       "163810000.0"
      ]
     },
     "execution_count": 51,
     "metadata": {},
     "output_type": "execute_result"
    }
   ],
   "source": [
    "1.6381e+08"
   ]
  },
  {
   "cell_type": "markdown",
   "metadata": {},
   "source": [
    "### 讀取資料"
   ]
  },
  {
   "cell_type": "code",
   "execution_count": 22,
   "metadata": {},
   "outputs": [],
   "source": [
    "from gurobipy import *\n",
    "import pandas as pd\n",
    "import numpy as np"
   ]
  },
  {
   "cell_type": "code",
   "execution_count": 23,
   "metadata": {},
   "outputs": [],
   "source": [
    "# Read excel sheets and transform them into lists and matrices\n",
    "demand_info=pd.read_excel('OR109-1_case01_data.xlsx','Demand',index_col = 0)\n",
    "initial_inventory_info=pd.read_excel('OR109-1_case01_data.xlsx','Initial inventory',index_col = 0)\n",
    "shipping_cost_info=pd.read_excel('OR109-1_case01_data.xlsx','Shipping cost',index_col = 0)\n",
    "intransit=pd.read_excel('OR109-1_case01_data.xlsx','In-transit',index_col = 0)\n",
    "size_info=pd.read_excel('OR109-1_case01_data.xlsx','Size',index_col = 0)\n",
    "price_and_cost_info=pd.read_excel('OR109-1_case01_data.xlsx','Price and cost',index_col = 0)\n",
    "shortage_info=pd.read_excel('OR109-1_case01_data.xlsx','Shortage',index_col = 0)"
   ]
  },
  {
   "cell_type": "code",
   "execution_count": 24,
   "metadata": {},
   "outputs": [],
   "source": [
    "size=size_info['Cubic meter'].values.tolist()"
   ]
  },
  {
   "cell_type": "code",
   "execution_count": 25,
   "metadata": {},
   "outputs": [],
   "source": [
    "shipping_cost_info['Ocean_freight']=0"
   ]
  },
  {
   "cell_type": "code",
   "execution_count": 26,
   "metadata": {},
   "outputs": [],
   "source": [
    "shipping_cost=shipping_cost_info.values.tolist()"
   ]
  },
  {
   "cell_type": "code",
   "execution_count": 27,
   "metadata": {},
   "outputs": [],
   "source": [
    "backorder=shortage_info['Backorder'].values.tolist()\n",
    "lost_sales=shortage_info['Lost sales'].values.tolist()\n",
    "backorder_percentage=shortage_info['Backorder percentage'].values.tolist()"
   ]
  },
  {
   "cell_type": "code",
   "execution_count": 28,
   "metadata": {},
   "outputs": [
    {
     "data": {
      "text/plain": [
       "[535, 250, 1345, 980, 345, 1575, 705, 820, 1650, 930]"
      ]
     },
     "execution_count": 28,
     "metadata": {},
     "output_type": "execute_result"
    }
   ],
   "source": [
    "backorder"
   ]
  },
  {
   "cell_type": "code",
   "execution_count": 29,
   "metadata": {},
   "outputs": [
    {
     "data": {
      "text/plain": [
       "[5700, 3000, 17900, 10600, 4900, 22500, 7100, 11400, 24000, 11600]"
      ]
     },
     "execution_count": 29,
     "metadata": {},
     "output_type": "execute_result"
    }
   ],
   "source": [
    "lost_sales"
   ]
  },
  {
   "cell_type": "code",
   "execution_count": 30,
   "metadata": {},
   "outputs": [
    {
     "data": {
      "text/plain": [
       "[0.0, 0.7, 0.1, 1.0, 1.0, 0.3, 0.6, 0.2, 0.1, 0.5]"
      ]
     },
     "execution_count": 30,
     "metadata": {},
     "output_type": "execute_result"
    }
   ],
   "source": [
    "backorder_percentage"
   ]
  },
  {
   "cell_type": "code",
   "execution_count": 31,
   "metadata": {},
   "outputs": [],
   "source": [
    "demand=demand_info.values.tolist()\n",
    "initial_inventory=initial_inventory_info['Initial inventory'].values.tolist()\n",
    "express_delivery_cost=shipping_cost_info['Express delivery'].values.tolist()\n",
    "air_freight_cost=shipping_cost_info['Air freight'].values.tolist()\n",
    "ocean_freight_cost=[0]*10"
   ]
  },
  {
   "cell_type": "code",
   "execution_count": 32,
   "metadata": {},
   "outputs": [],
   "source": [
    "purchasing_cost=price_and_cost_info['Purchasing cost'].values.tolist()\n",
    "holding_cost=price_and_cost_info['Holding'].values.tolist()\n",
    "fix_cost=[100,80,50]"
   ]
  },
  {
   "cell_type": "code",
   "execution_count": 33,
   "metadata": {},
   "outputs": [],
   "source": [
    "intransit.insert(loc=2, column='6', value=0)\n",
    "intransit.insert(loc=3, column='7', value=0)\n",
    "intransit.insert(loc=4, column='8', value=0)\n",
    "intransit.insert(loc=0, column='3', value=initial_inventory)\n",
    "intransit=intransit.values.tolist()"
   ]
  },
  {
   "cell_type": "code",
   "execution_count": 34,
   "metadata": {},
   "outputs": [
    {
     "data": {
      "text/plain": [
       "[[800, 0, 0, 0, 0, 0],\n",
       " [600, 48, 0, 0, 0, 0],\n",
       " [425, 0, 20, 0, 0, 0],\n",
       " [350, 153, 0, 0, 0, 0],\n",
       " [400, 0, 0, 0, 0, 0],\n",
       " [524, 18, 23, 0, 0, 0],\n",
       " [453, 28, 45, 0, 0, 0],\n",
       " [218, 0, 0, 0, 0, 0],\n",
       " [673, 109, 34, 0, 0, 0],\n",
       " [200, 0, 0, 0, 0, 0]]"
      ]
     },
     "execution_count": 34,
     "metadata": {},
     "output_type": "execute_result"
    }
   ],
   "source": [
    "intransit"
   ]
  },
  {
   "cell_type": "code",
   "execution_count": 35,
   "metadata": {},
   "outputs": [],
   "source": [
    "product_len=range(10)\n",
    "month_len=range(6)\n",
    "shipping_method_len=range(3)"
   ]
  },
  {
   "cell_type": "code",
   "execution_count": 36,
   "metadata": {},
   "outputs": [],
   "source": [
    "# Big number M\n",
    "M=np.sum(demand)"
   ]
  },
  {
   "cell_type": "markdown",
   "metadata": {},
   "source": [
    "### 模型"
   ]
  },
  {
   "cell_type": "code",
   "execution_count": 45,
   "metadata": {},
   "outputs": [],
   "source": [
    "cs1 = Model(\"cs1\")"
   ]
  },
  {
   "cell_type": "code",
   "execution_count": 46,
   "metadata": {},
   "outputs": [],
   "source": [
    "#定義variable\n",
    "#定義x_ijt\n",
    "x = []\n",
    "for i in product_len:\n",
    "    x.append([])\n",
    "    for j in shipping_method_len:\n",
    "        x[i].append([])\n",
    "        for t in month_len:\n",
    "            x[i][j].append(cs1.addVar(lb = 0, vtype = GRB.CONTINUOUS, \n",
    "                                      name = \"x\" +  str(i+1) +'_'+ str(j+1)+'_'+ str(t+1))) \n",
    "            \n",
    "#定義v_it\n",
    "v = []\n",
    "for i in product_len:\n",
    "    v.append([])\n",
    "    for t in month_len:\n",
    "        v[i].append(cs1.addVar(lb = 0, vtype = GRB.CONTINUOUS, \n",
    "                                  name = \"v\" +  str(i+1)+ '_'+ str(t+1))) \n",
    "        \n",
    "#定義y_jt\n",
    "y = []\n",
    "for j in shipping_method_len:\n",
    "    y.append([])\n",
    "    for t in month_len:\n",
    "        y[j].append(cs1.addVar(lb = 0, vtype = GRB.BINARY, \n",
    "                                  name = \"y\" +  str(j+1)+ '_'+ str(t+1))) \n",
    "        \n",
    "#定義z\n",
    "z = []\n",
    "for t in month_len:\n",
    "    z.append(cs1.addVar(lb = 0, vtype = GRB.INTEGER, \n",
    "                              name = \"z\" +'_'+ str(t+1))) \n",
    "    \n",
    "#定義s_it\n",
    "s = []\n",
    "for i in product_len:\n",
    "    s.append([])\n",
    "    for t in month_len:\n",
    "        s[i].append(cs1.addVar(lb = 0, vtype = GRB.CONTINUOUS,\n",
    "                                  name = \"s\" +  str(i+1)+ '_'+ str(t+1))) \n",
    "        \n",
    "#定義k_it\n",
    "k = []\n",
    "for i in product_len:\n",
    "    k.append([])\n",
    "    for t in month_len:\n",
    "        k[i].append(cs1.addVar(lb = 0, vtype = GRB.BINARY, \n",
    "                                  name = \"k\" +  str(i+1)+ '_'+ str(t+1))) \n",
    "        \n",
    "#定義D_it\n",
    "D = []\n",
    "for i in product_len:\n",
    "    D.append([])\n",
    "    for t in month_len:\n",
    "        D[i].append(cs1.addVar(lb = 0, vtype = GRB.CONTINUOUS,\n",
    "                                  name = \"D\" +  str(i+1)+ '_'+ str(t+1))) "
   ]
  },
  {
   "cell_type": "code",
   "execution_count": 47,
   "metadata": {},
   "outputs": [],
   "source": [
    "# setting the objective function \n",
    "cs1.setObjective(\n",
    "    \n",
    "    np.sum( [[v[i][t]*holding_cost[i] for i in product_len] for t in month_len])+  # inventory*holding cost\n",
    "    np.sum([(np.array(shipping_cost)+np.array(purchasing_cost)[:,None])*np.array(x)[:,:,t] for t in month_len])+ #x's shipping and purchasing cost\n",
    "    np.sum(np.array(y)*np.array(fix_cost)[:,None])+ # method's fix cost\n",
    "    np.sum(np.array(z)*2750 )+ # container  cost\n",
    "    np.sum(((1-np.array(backorder_percentage))[:,None]*np.array(lost_sales)[:,None])*s)+ #cost of lost sales\n",
    "    np.sum((np.array(backorder_percentage)[:,None]*np.array(backorder)[:,None])*s) #cost of back order\n",
    "    \n",
    "    , GRB.MINIMIZE) "
   ]
  },
  {
   "cell_type": "code",
   "execution_count": 48,
   "metadata": {},
   "outputs": [
    {
     "data": {
      "text/plain": [
       "{(0, 0): <gurobi.Constr *Awaiting Model Update*>,\n",
       " (1, 0): <gurobi.Constr *Awaiting Model Update*>,\n",
       " (2, 0): <gurobi.Constr *Awaiting Model Update*>,\n",
       " (3, 0): <gurobi.Constr *Awaiting Model Update*>,\n",
       " (4, 0): <gurobi.Constr *Awaiting Model Update*>,\n",
       " (5, 0): <gurobi.Constr *Awaiting Model Update*>,\n",
       " (6, 0): <gurobi.Constr *Awaiting Model Update*>,\n",
       " (7, 0): <gurobi.Constr *Awaiting Model Update*>,\n",
       " (8, 0): <gurobi.Constr *Awaiting Model Update*>,\n",
       " (9, 0): <gurobi.Constr *Awaiting Model Update*>}"
      ]
     },
     "execution_count": 48,
     "metadata": {},
     "output_type": "execute_result"
    }
   ],
   "source": [
    "cs1.addConstrs( ( v[i][t]-s[i][t] == v[i][t-1]+ (np.array(x)[i,:,t]).sum()+ intransit[i][t]-D[i][t]\n",
    "                 for i in product_len for t in month_len if t>0), \"inventory demand equation\" )\n",
    "cs1.addConstrs( ( v[i][t]-s[i][t] == (np.array(x)[i,:,t]).sum()+ intransit[i][0]-D[i][t]\n",
    "                 for i in product_len for t in month_len if t==0), \"inventory demand equation first round\" )\n",
    "\n",
    "cs1.addConstrs( ( M*k[i][t] >= s[i][t] for i in product_len for t in month_len), \"k is bigger than s\" )\n",
    "cs1.addConstrs( ( M*(1-k[i][t]) >= v[i][t] for i in product_len for t in month_len), \"1-k is bigger than v\" )\n",
    "cs1.addConstrs( ( M*y[j][t] >= (np.array(x)[:,j,t]).sum()\n",
    "                 for j in shipping_method_len for t in month_len), \"y is bigger than x\" )\n",
    "cs1.addConstrs( ( z[t] >= ((( np.array(x)[:,2,:] * np.array(size)[:,None] ).sum(axis=0) )/30) [t] for t in month_len)\n",
    "               , \"z calculate container number\" )\n",
    "\n",
    "cs1.addConstrs( ( D[i][t] >= demand[i][t]+ backorder_percentage[i]*s[i][t-1] \n",
    "                 for i in product_len for t in month_len if t>0), \"D >= D\" )\n",
    "cs1.addConstrs( ( D[i][t] >= demand[i][t]+ backorder_percentage[i]*0\n",
    "                 for i in product_len for t in month_len if t==0), \"D >= D first round\" )"
   ]
  },
  {
   "cell_type": "code",
   "execution_count": 49,
   "metadata": {},
   "outputs": [
    {
     "name": "stdout",
     "output_type": "stream",
     "text": [
      "Gurobi Optimizer version 9.1.1 build v9.1.1rc0 (mac64)\n",
      "Thread count: 2 physical cores, 4 logical processors, using up to 4 threads\n",
      "Optimize a model with 264 rows, 444 columns and 1019 nonzeros\n",
      "Model fingerprint: 0x0cb8ee86\n",
      "Variable types: 360 continuous, 84 integer (78 binary)\n",
      "Coefficient statistics:\n",
      "  Matrix range     [2e-04, 7e+03]\n",
      "  Objective range  [4e+01, 2e+04]\n",
      "  Bounds range     [1e+00, 1e+00]\n",
      "  RHS range        [1e+01, 7e+03]\n",
      "Found heuristic solution: objective 3.961236e+07\n",
      "Presolve removed 80 rows and 89 columns\n",
      "Presolve time: 0.00s\n",
      "Presolved: 184 rows, 355 columns, 838 nonzeros\n",
      "Found heuristic solution: objective 3.865694e+07\n",
      "Variable types: 281 continuous, 74 integer (68 binary)\n",
      "\n",
      "Root relaxation: objective 1.357289e+07, 83 iterations, 0.00 seconds\n",
      "\n",
      "    Nodes    |    Current Node    |     Objective Bounds      |     Work\n",
      " Expl Unexpl |  Obj  Depth IntInf | Incumbent    BestBd   Gap | It/Node Time\n",
      "\n",
      "     0     0 1.3573e+07    0   10 3.8657e+07 1.3573e+07  64.9%     -    0s\n",
      "H    0     0                    1.358240e+07 1.3573e+07  0.07%     -    0s\n",
      "     0     0 1.3573e+07    0    5 1.3582e+07 1.3573e+07  0.07%     -    0s\n",
      "     0     0 1.3573e+07    0    9 1.3582e+07 1.3573e+07  0.07%     -    0s\n",
      "     0     0 1.3574e+07    0    5 1.3582e+07 1.3574e+07  0.06%     -    0s\n",
      "H    0     0                    1.357624e+07 1.3574e+07  0.01%     -    0s\n",
      "     0     0     cutoff    0      1.3576e+07 1.3576e+07  0.00%     -    0s\n",
      "\n",
      "Cutting planes:\n",
      "  Gomory: 5\n",
      "  Cover: 1\n",
      "  Implied bound: 3\n",
      "  MIR: 12\n",
      "  StrongCG: 1\n",
      "  Flow cover: 3\n",
      "  Relax-and-lift: 1\n",
      "\n",
      "Explored 1 nodes (154 simplex iterations) in 0.13 seconds\n",
      "Thread count was 4 (of 4 available processors)\n",
      "\n",
      "Solution count 4: 1.35762e+07 1.35824e+07 3.86569e+07 3.96124e+07 \n",
      "\n",
      "Optimal solution found (tolerance 1.00e-04)\n",
      "Best objective 1.357624357143e+07, best bound 1.357624357143e+07, gap 0.0000%\n"
     ]
    }
   ],
   "source": [
    "cs1.optimize()"
   ]
  },
  {
   "cell_type": "code",
   "execution_count": 50,
   "metadata": {},
   "outputs": [
    {
     "name": "stdout",
     "output_type": "stream",
     "text": [
      "z* = 13576243.57142857\n"
     ]
    }
   ],
   "source": [
    "print(\"z* =\", cs1.objVal)    # print objective value"
   ]
  },
  {
   "cell_type": "code",
   "execution_count": 43,
   "metadata": {},
   "outputs": [
    {
     "data": {
      "text/plain": [
       "[[[<gurobi.Var x1_1_1 (value 0.0)>,\n",
       "   <gurobi.Var x1_1_2 (value 0.0)>,\n",
       "   <gurobi.Var x1_1_3 (value 0.0)>,\n",
       "   <gurobi.Var x1_1_4 (value 0.0)>,\n",
       "   <gurobi.Var x1_1_5 (value 0.0)>,\n",
       "   <gurobi.Var x1_1_6 (value 0.0)>],\n",
       "  [<gurobi.Var x1_2_1 (value 0.0)>,\n",
       "   <gurobi.Var x1_2_2 (value 0.0)>,\n",
       "   <gurobi.Var x1_2_3 (value 0.0)>,\n",
       "   <gurobi.Var x1_2_4 (value 0.0)>,\n",
       "   <gurobi.Var x1_2_5 (value 0.0)>,\n",
       "   <gurobi.Var x1_2_6 (value 38.0)>],\n",
       "  [<gurobi.Var x1_3_1 (value 0.0)>,\n",
       "   <gurobi.Var x1_3_2 (value 0.0)>,\n",
       "   <gurobi.Var x1_3_3 (value 0.0)>,\n",
       "   <gurobi.Var x1_3_4 (value 0.0)>,\n",
       "   <gurobi.Var x1_3_5 (value 0.0)>,\n",
       "   <gurobi.Var x1_3_6 (value 0.0)>]],\n",
       " [[<gurobi.Var x2_1_1 (value 0.0)>,\n",
       "   <gurobi.Var x2_1_2 (value 0.0)>,\n",
       "   <gurobi.Var x2_1_3 (value 0.0)>,\n",
       "   <gurobi.Var x2_1_4 (value 0.0)>,\n",
       "   <gurobi.Var x2_1_5 (value 0.0)>,\n",
       "   <gurobi.Var x2_1_6 (value 0.0)>],\n",
       "  [<gurobi.Var x2_2_1 (value 0.0)>,\n",
       "   <gurobi.Var x2_2_2 (value 0.0)>,\n",
       "   <gurobi.Var x2_2_3 (value 0.0)>,\n",
       "   <gurobi.Var x2_2_4 (value 0.0)>,\n",
       "   <gurobi.Var x2_2_5 (value 0.0)>,\n",
       "   <gurobi.Var x2_2_6 (value 0.0)>],\n",
       "  [<gurobi.Var x2_3_1 (value 0.0)>,\n",
       "   <gurobi.Var x2_3_2 (value 0.0)>,\n",
       "   <gurobi.Var x2_3_3 (value 0.0)>,\n",
       "   <gurobi.Var x2_3_4 (value 0.0)>,\n",
       "   <gurobi.Var x2_3_5 (value 0.0)>,\n",
       "   <gurobi.Var x2_3_6 (value 0.0)>]],\n",
       " [[<gurobi.Var x3_1_1 (value 0.0)>,\n",
       "   <gurobi.Var x3_1_2 (value 0.0)>,\n",
       "   <gurobi.Var x3_1_3 (value 0.0)>,\n",
       "   <gurobi.Var x3_1_4 (value 0.0)>,\n",
       "   <gurobi.Var x3_1_5 (value 0.0)>,\n",
       "   <gurobi.Var x3_1_6 (value 0.0)>],\n",
       "  [<gurobi.Var x3_2_1 (value 0.0)>,\n",
       "   <gurobi.Var x3_2_2 (value 0.0)>,\n",
       "   <gurobi.Var x3_2_3 (value 0.0)>,\n",
       "   <gurobi.Var x3_2_4 (value 0.0)>,\n",
       "   <gurobi.Var x3_2_5 (value 0.0)>,\n",
       "   <gurobi.Var x3_2_6 (value 0.0)>],\n",
       "  [<gurobi.Var x3_3_1 (value 0.0)>,\n",
       "   <gurobi.Var x3_3_2 (value 0.0)>,\n",
       "   <gurobi.Var x3_3_3 (value 0.0)>,\n",
       "   <gurobi.Var x3_3_4 (value 0.0)>,\n",
       "   <gurobi.Var x3_3_5 (value 82.0)>,\n",
       "   <gurobi.Var x3_3_6 (value 200.0)>]],\n",
       " [[<gurobi.Var x4_1_1 (value 0.0)>,\n",
       "   <gurobi.Var x4_1_2 (value 0.0)>,\n",
       "   <gurobi.Var x4_1_3 (value 0.0)>,\n",
       "   <gurobi.Var x4_1_4 (value 0.0)>,\n",
       "   <gurobi.Var x4_1_5 (value 0.0)>,\n",
       "   <gurobi.Var x4_1_6 (value 0.0)>],\n",
       "  [<gurobi.Var x4_2_1 (value 0.0)>,\n",
       "   <gurobi.Var x4_2_2 (value 0.0)>,\n",
       "   <gurobi.Var x4_2_3 (value 0.0)>,\n",
       "   <gurobi.Var x4_2_4 (value 0.0)>,\n",
       "   <gurobi.Var x4_2_5 (value 0.0)>,\n",
       "   <gurobi.Var x4_2_6 (value 0.0)>],\n",
       "  [<gurobi.Var x4_3_1 (value 0.0)>,\n",
       "   <gurobi.Var x4_3_2 (value 0.0)>,\n",
       "   <gurobi.Var x4_3_3 (value 0.0)>,\n",
       "   <gurobi.Var x4_3_4 (value 0.0)>,\n",
       "   <gurobi.Var x4_3_5 (value 0.0)>,\n",
       "   <gurobi.Var x4_3_6 (value 0.0)>]],\n",
       " [[<gurobi.Var x5_1_1 (value 0.0)>,\n",
       "   <gurobi.Var x5_1_2 (value 0.0)>,\n",
       "   <gurobi.Var x5_1_3 (value 0.0)>,\n",
       "   <gurobi.Var x5_1_4 (value 0.0)>,\n",
       "   <gurobi.Var x5_1_5 (value 0.0)>,\n",
       "   <gurobi.Var x5_1_6 (value 0.0)>],\n",
       "  [<gurobi.Var x5_2_1 (value 0.0)>,\n",
       "   <gurobi.Var x5_2_2 (value 0.0)>,\n",
       "   <gurobi.Var x5_2_3 (value 0.0)>,\n",
       "   <gurobi.Var x5_2_4 (value 0.0)>,\n",
       "   <gurobi.Var x5_2_5 (value 0.0)>,\n",
       "   <gurobi.Var x5_2_6 (value 0.0)>],\n",
       "  [<gurobi.Var x5_3_1 (value 0.0)>,\n",
       "   <gurobi.Var x5_3_2 (value 0.0)>,\n",
       "   <gurobi.Var x5_3_3 (value 0.0)>,\n",
       "   <gurobi.Var x5_3_4 (value 0.0)>,\n",
       "   <gurobi.Var x5_3_5 (value 0.0)>,\n",
       "   <gurobi.Var x5_3_6 (value 0.0)>]],\n",
       " [[<gurobi.Var x6_1_1 (value 0.0)>,\n",
       "   <gurobi.Var x6_1_2 (value 0.0)>,\n",
       "   <gurobi.Var x6_1_3 (value 0.0)>,\n",
       "   <gurobi.Var x6_1_4 (value 0.0)>,\n",
       "   <gurobi.Var x6_1_5 (value 0.0)>,\n",
       "   <gurobi.Var x6_1_6 (value 0.0)>],\n",
       "  [<gurobi.Var x6_2_1 (value 0.0)>,\n",
       "   <gurobi.Var x6_2_2 (value 0.0)>,\n",
       "   <gurobi.Var x6_2_3 (value 0.0)>,\n",
       "   <gurobi.Var x6_2_4 (value 0.0)>,\n",
       "   <gurobi.Var x6_2_5 (value 0.0)>,\n",
       "   <gurobi.Var x6_2_6 (value 9.999999999999915)>],\n",
       "  [<gurobi.Var x6_3_1 (value 0.0)>,\n",
       "   <gurobi.Var x6_3_2 (value 0.0)>,\n",
       "   <gurobi.Var x6_3_3 (value 0.0)>,\n",
       "   <gurobi.Var x6_3_4 (value 0.0)>,\n",
       "   <gurobi.Var x6_3_5 (value 0.0)>,\n",
       "   <gurobi.Var x6_3_6 (value 144.00000000000009)>]],\n",
       " [[<gurobi.Var x7_1_1 (value 0.0)>,\n",
       "   <gurobi.Var x7_1_2 (value 0.0)>,\n",
       "   <gurobi.Var x7_1_3 (value 0.0)>,\n",
       "   <gurobi.Var x7_1_4 (value 0.0)>,\n",
       "   <gurobi.Var x7_1_5 (value 0.0)>,\n",
       "   <gurobi.Var x7_1_6 (value 0.0)>],\n",
       "  [<gurobi.Var x7_2_1 (value 0.0)>,\n",
       "   <gurobi.Var x7_2_2 (value 0.0)>,\n",
       "   <gurobi.Var x7_2_3 (value 0.0)>,\n",
       "   <gurobi.Var x7_2_4 (value 0.0)>,\n",
       "   <gurobi.Var x7_2_5 (value 0.0)>,\n",
       "   <gurobi.Var x7_2_6 (value 0.0)>],\n",
       "  [<gurobi.Var x7_3_1 (value 0.0)>,\n",
       "   <gurobi.Var x7_3_2 (value 0.0)>,\n",
       "   <gurobi.Var x7_3_3 (value 0.0)>,\n",
       "   <gurobi.Var x7_3_4 (value 0.0)>,\n",
       "   <gurobi.Var x7_3_5 (value 0.0)>,\n",
       "   <gurobi.Var x7_3_6 (value 0.0)>]],\n",
       " [[<gurobi.Var x8_1_1 (value 0.0)>,\n",
       "   <gurobi.Var x8_1_2 (value 0.0)>,\n",
       "   <gurobi.Var x8_1_3 (value 0.0)>,\n",
       "   <gurobi.Var x8_1_4 (value 0.0)>,\n",
       "   <gurobi.Var x8_1_5 (value 0.0)>,\n",
       "   <gurobi.Var x8_1_6 (value 0.0)>],\n",
       "  [<gurobi.Var x8_2_1 (value 0.0)>,\n",
       "   <gurobi.Var x8_2_2 (value 0.0)>,\n",
       "   <gurobi.Var x8_2_3 (value 0.0)>,\n",
       "   <gurobi.Var x8_2_4 (value 0.0)>,\n",
       "   <gurobi.Var x8_2_5 (value 0.0)>,\n",
       "   <gurobi.Var x8_2_6 (value 0.0)>],\n",
       "  [<gurobi.Var x8_3_1 (value 0.0)>,\n",
       "   <gurobi.Var x8_3_2 (value 0.0)>,\n",
       "   <gurobi.Var x8_3_3 (value 0.0)>,\n",
       "   <gurobi.Var x8_3_4 (value 61.0)>,\n",
       "   <gurobi.Var x8_3_5 (value 168.0)>,\n",
       "   <gurobi.Var x8_3_6 (value 32.0)>]],\n",
       " [[<gurobi.Var x9_1_1 (value 0.0)>,\n",
       "   <gurobi.Var x9_1_2 (value 0.0)>,\n",
       "   <gurobi.Var x9_1_3 (value 0.0)>,\n",
       "   <gurobi.Var x9_1_4 (value 0.0)>,\n",
       "   <gurobi.Var x9_1_5 (value 0.0)>,\n",
       "   <gurobi.Var x9_1_6 (value 0.0)>],\n",
       "  [<gurobi.Var x9_2_1 (value 0.0)>,\n",
       "   <gurobi.Var x9_2_2 (value 0.0)>,\n",
       "   <gurobi.Var x9_2_3 (value 0.0)>,\n",
       "   <gurobi.Var x9_2_4 (value 0.0)>,\n",
       "   <gurobi.Var x9_2_5 (value 0.0)>,\n",
       "   <gurobi.Var x9_2_6 (value 0.0)>],\n",
       "  [<gurobi.Var x9_3_1 (value 0.0)>,\n",
       "   <gurobi.Var x9_3_2 (value 0.0)>,\n",
       "   <gurobi.Var x9_3_3 (value 0.0)>,\n",
       "   <gurobi.Var x9_3_4 (value 0.0)>,\n",
       "   <gurobi.Var x9_3_5 (value 0.0)>,\n",
       "   <gurobi.Var x9_3_6 (value 94.0)>]],\n",
       " [[<gurobi.Var x10_1_1 (value 0.0)>,\n",
       "   <gurobi.Var x10_1_2 (value 0.0)>,\n",
       "   <gurobi.Var x10_1_3 (value 0.0)>,\n",
       "   <gurobi.Var x10_1_4 (value 0.0)>,\n",
       "   <gurobi.Var x10_1_5 (value 0.0)>,\n",
       "   <gurobi.Var x10_1_6 (value 0.0)>],\n",
       "  [<gurobi.Var x10_2_1 (value 0.0)>,\n",
       "   <gurobi.Var x10_2_2 (value 24.0)>,\n",
       "   <gurobi.Var x10_2_3 (value 0.0)>,\n",
       "   <gurobi.Var x10_2_4 (value 0.0)>,\n",
       "   <gurobi.Var x10_2_5 (value 24.428571428571445)>,\n",
       "   <gurobi.Var x10_2_6 (value 0.0)>],\n",
       "  [<gurobi.Var x10_3_1 (value 0.0)>,\n",
       "   <gurobi.Var x10_3_2 (value 0.0)>,\n",
       "   <gurobi.Var x10_3_3 (value 162.0)>,\n",
       "   <gurobi.Var x10_3_4 (value 200.0)>,\n",
       "   <gurobi.Var x10_3_5 (value 129.57142857142856)>,\n",
       "   <gurobi.Var x10_3_6 (value 0.0)>]]]"
      ]
     },
     "execution_count": 43,
     "metadata": {},
     "output_type": "execute_result"
    }
   ],
   "source": [
    "x"
   ]
  },
  {
   "cell_type": "code",
   "execution_count": null,
   "metadata": {},
   "outputs": [],
   "source": []
  },
  {
   "cell_type": "code",
   "execution_count": null,
   "metadata": {},
   "outputs": [],
   "source": []
  },
  {
   "cell_type": "code",
   "execution_count": null,
   "metadata": {},
   "outputs": [],
   "source": []
  }
 ],
 "metadata": {
  "kernelspec": {
   "display_name": "Python 3",
   "language": "python",
   "name": "python3"
  },
  "language_info": {
   "codemirror_mode": {
    "name": "ipython",
    "version": 3
   },
   "file_extension": ".py",
   "mimetype": "text/x-python",
   "name": "python",
   "nbconvert_exporter": "python",
   "pygments_lexer": "ipython3",
   "version": "3.7.3"
  }
 },
 "nbformat": 4,
 "nbformat_minor": 4
}
