{
 "cells": [
  {
   "cell_type": "code",
   "execution_count": 411,
   "metadata": {},
   "outputs": [],
   "source": [
    "from gurobipy import *\n",
    "import pandas as pd\n",
    "import numpy as np"
   ]
  },
  {
   "cell_type": "markdown",
   "metadata": {},
   "source": [
    "### Problem 4"
   ]
  },
  {
   "cell_type": "code",
   "execution_count": 412,
   "metadata": {},
   "outputs": [],
   "source": [
    "# Read excel sheets and transform them into lists and matrices\n",
    "demand_info=pd.read_excel('OR109-1_case01_data.xlsx','Demand',index_col = 0)\n",
    "initial_inventory_info=pd.read_excel('OR109-1_case01_data.xlsx','Initial inventory',index_col = 0)\n",
    "shipping_cost_info=pd.read_excel('OR109-1_case01_data.xlsx','Shipping cost',index_col = 0)\n",
    "intransit=pd.read_excel('OR109-1_case01_data.xlsx','In-transit',index_col = 0)\n",
    "size_info=pd.read_excel('OR109-1_case01_data.xlsx','Size',index_col = 0)\n",
    "price_and_cost_info=pd.read_excel('OR109-1_case01_data.xlsx','Price and cost',index_col = 0)\n",
    "shortage_info=pd.read_excel('OR109-1_case01_data.xlsx','Shortage',index_col = 0)"
   ]
  },
  {
   "cell_type": "code",
   "execution_count": 413,
   "metadata": {},
   "outputs": [],
   "source": [
    "size=size_info['Cubic meter'].values.tolist()"
   ]
  },
  {
   "cell_type": "code",
   "execution_count": 414,
   "metadata": {},
   "outputs": [],
   "source": [
    "backorder=shortage_info['Backorder'].values.tolist()\n",
    "lost_sales=shortage_info['Lost sales'].values.tolist()\n",
    "backorder_percentage=shortage_info['Backorder percentage'].values.tolist()"
   ]
  },
  {
   "cell_type": "code",
   "execution_count": 415,
   "metadata": {},
   "outputs": [
    {
     "data": {
      "text/plain": [
       "[535, 250, 1345, 980, 345, 1575, 705, 820, 1650, 930]"
      ]
     },
     "execution_count": 415,
     "metadata": {},
     "output_type": "execute_result"
    }
   ],
   "source": [
    "backorder"
   ]
  },
  {
   "cell_type": "code",
   "execution_count": 416,
   "metadata": {},
   "outputs": [
    {
     "data": {
      "text/plain": [
       "[5700, 3000, 17900, 10600, 4900, 22500, 7100, 11400, 24000, 11600]"
      ]
     },
     "execution_count": 416,
     "metadata": {},
     "output_type": "execute_result"
    }
   ],
   "source": [
    "lost_sales"
   ]
  },
  {
   "cell_type": "code",
   "execution_count": 417,
   "metadata": {},
   "outputs": [
    {
     "data": {
      "text/plain": [
       "[0.0, 0.7, 0.1, 1.0, 1.0, 0.3, 0.6, 0.2, 0.1, 0.5]"
      ]
     },
     "execution_count": 417,
     "metadata": {},
     "output_type": "execute_result"
    }
   ],
   "source": [
    "backorder_percentage"
   ]
  },
  {
   "cell_type": "code",
   "execution_count": 418,
   "metadata": {},
   "outputs": [],
   "source": [
    "demand=demand_info.values.tolist()\n",
    "initial_inventory=initial_inventory_info['Initial inventory'].values.tolist()\n",
    "express_delivery_cost=shipping_cost_info['Express delivery'].values.tolist()\n",
    "air_freight_cost=shipping_cost_info['Air freight'].values.tolist()\n",
    "ocean_freight_cost=[0]*10"
   ]
  },
  {
   "cell_type": "code",
   "execution_count": 419,
   "metadata": {},
   "outputs": [],
   "source": [
    "purchasing_cost=price_and_cost_info['Purchasing cost'].values.tolist()\n",
    "holding_cost=price_and_cost_info['Holding'].values.tolist()\n",
    "fix_cost=[100,80,50]"
   ]
  },
  {
   "cell_type": "code",
   "execution_count": 420,
   "metadata": {},
   "outputs": [],
   "source": [
    "shipping_cost=[express_delivery_cost,air_freight_cost,ocean_freight_cost]"
   ]
  },
  {
   "cell_type": "code",
   "execution_count": 421,
   "metadata": {},
   "outputs": [],
   "source": [
    "intransit.insert(loc=2, column='6', value=0)\n",
    "intransit.insert(loc=3, column='7', value=0)\n",
    "intransit.insert(loc=4, column='8', value=0)\n",
    "intransit.insert(loc=0, column='3', value=0)\n",
    "intransit=intransit.values.tolist()"
   ]
  },
  {
   "cell_type": "code",
   "execution_count": 422,
   "metadata": {},
   "outputs": [],
   "source": [
    "product_len=range(10)\n",
    "month_len=range(6)\n",
    "shipping_method_len=range(3)"
   ]
  },
  {
   "cell_type": "code",
   "execution_count": 423,
   "metadata": {},
   "outputs": [],
   "source": [
    "cs1 = Model(\"cs1\")"
   ]
  },
  {
   "cell_type": "code",
   "execution_count": 424,
   "metadata": {},
   "outputs": [],
   "source": [
    "# add variables as a list\n",
    "# 定義X ijk 並根據k 來直接產生t (例如說：express delievery 直接將k+1=t 為 month t is available)\n",
    "x_method1_K = []\n",
    "for i in product_len:\n",
    "    x_method1_K.append([])\n",
    "    for k in month_len:\n",
    "        x_method1_K[i].append(cs1.addVar(lb = 0, vtype = GRB.CONTINUOUS, name = \"x_method1 K\" +  str(i+1) +'_'+ str(k+1)))\n",
    "\n",
    "x_method1_T= []\n",
    "for i in product_len:\n",
    "    x_method1_T.append([])\n",
    "    for k in month_len:\n",
    "        x_method1_T[i].append(cs1.addVar(lb = 0, vtype = GRB.CONTINUOUS, name = \"x_method1 T\" +  str(i+1) +'_'+ str(k+1)))\n",
    "        "
   ]
  },
  {
   "cell_type": "code",
   "execution_count": 425,
   "metadata": {},
   "outputs": [],
   "source": [
    "x_method2_K = []\n",
    "for i in product_len:\n",
    "    x_method2_K.append([])\n",
    "    for k in month_len:\n",
    "        x_method2_K[i].append(cs1.addVar(lb = 0, vtype = GRB.CONTINUOUS, name = \"x_method2 K\" +  str(i+1) +'_'+ str(k+1)))\n",
    "        \n",
    "x_method2_T = []\n",
    "for i in product_len:\n",
    "    x_method2_T.append([])\n",
    "    for k in month_len:\n",
    "        x_method2_T[i].append(cs1.addVar(lb = 0, vtype = GRB.CONTINUOUS, name = \"x_method2 T\" +  str(i+1) +'_'+ str(k+1)))"
   ]
  },
  {
   "cell_type": "code",
   "execution_count": 426,
   "metadata": {},
   "outputs": [],
   "source": [
    "x_method3_K = []\n",
    "for i in product_len:\n",
    "    x_method3_K.append([])\n",
    "    for k in month_len:\n",
    "        x_method3_K[i].append(cs1.addVar(lb = 0, vtype = GRB.CONTINUOUS, name = \"x_method3 K\" +  str(i+1) +'_'+ str(k+1)))\n",
    "        \n",
    "x_method3_T = []\n",
    "for i in product_len:\n",
    "    x_method3_T.append([])\n",
    "    for k in month_len:\n",
    "        x_method3_T[i].append(cs1.addVar(lb = 0, vtype = GRB.CONTINUOUS, name = \"x_method3 T\" +  str(i+1) +'_'+ str(k+1)))"
   ]
  },
  {
   "cell_type": "code",
   "execution_count": 427,
   "metadata": {},
   "outputs": [],
   "source": [
    "#定義 y \n",
    "y=[]\n",
    "for i in product_len:\n",
    "    y.append([])\n",
    "    for k in month_len:\n",
    "        y[i].append(cs1.addVar( vtype = GRB.CONTINUOUS, name = \"y\" +  str(i+1) +'_'+ str(k+1)))"
   ]
  },
  {
   "cell_type": "code",
   "execution_count": 428,
   "metadata": {},
   "outputs": [],
   "source": [
    "#定義 z \n",
    "z=[]\n",
    "for j in shipping_method_len:\n",
    "    z.append([])\n",
    "    for k in month_len:\n",
    "        z[j].append(cs1.addVar(lb = 0, vtype = GRB.BINARY, name = \"z\" +  str(j+1) +'_'+ str(k+1)))"
   ]
  },
  {
   "cell_type": "code",
   "execution_count": 429,
   "metadata": {},
   "outputs": [],
   "source": [
    "#定義 w\n",
    "w=[]\n",
    "for k in month_len:\n",
    "    w.append(cs1.addVar(lb = 0, vtype = GRB.INTEGER , name = \"w\" +  str(k+1)))"
   ]
  },
  {
   "cell_type": "code",
   "execution_count": 430,
   "metadata": {},
   "outputs": [],
   "source": [
    "#定義 u\n",
    "u=[]\n",
    "for i in product_len:\n",
    "    u.append([])\n",
    "    for k in month_len:\n",
    "        u[i].append(cs1.addVar( vtype = GRB.CONTINUOUS, name = \"u\" +  str(i+1) +'_'+ str(k+1)))"
   ]
  },
  {
   "cell_type": "code",
   "execution_count": 431,
   "metadata": {},
   "outputs": [],
   "source": [
    "#定義 r\n",
    "r=[]\n",
    "for i in product_len:\n",
    "    r.append([])\n",
    "    for k in month_len:\n",
    "        r[i].append(cs1.addVar(lb = 0, vtype = GRB.CONTINUOUS, name = \"r\" +  str(i+1) +'_'+ str(k+1)))"
   ]
  },
  {
   "cell_type": "code",
   "execution_count": 432,
   "metadata": {},
   "outputs": [],
   "source": [
    "#定義 q\n",
    "q=[]\n",
    "for i in product_len:\n",
    "    q.append([])\n",
    "    for k in month_len:\n",
    "        q[i].append(cs1.addVar(lb = 0,  vtype = GRB.CONTINUOUS, name = \"q\" +  str(i+1) +'_'+ str(k+1)))"
   ]
  },
  {
   "cell_type": "code",
   "execution_count": 433,
   "metadata": {},
   "outputs": [],
   "source": [
    "#定義 ypn\n",
    "ypn=[]\n",
    "for i in product_len:\n",
    "    ypn.append([])\n",
    "    for k in month_len:\n",
    "        ypn[i].append(cs1.addVar(lb = 0, vtype = GRB.BINARY, name = \"ypn\" +  str(i+1) +'_'+ str(k+1)))"
   ]
  },
  {
   "cell_type": "code",
   "execution_count": 434,
   "metadata": {},
   "outputs": [],
   "source": [
    "# setting the objective function \n",
    "cs1.setObjective(\n",
    "    \n",
    "    quicksum(quicksum(purchasing_cost[i]*x_method1_K[i][k] for i in product_len) for k in month_len)+  # P*x的部分\n",
    "    quicksum(quicksum(purchasing_cost[i]*x_method2_K[i][k] for i in product_len) for k in month_len)+\n",
    "    quicksum(quicksum(purchasing_cost[i]*x_method3_K[i][k] for i in product_len) for k in month_len)+ \n",
    "    \n",
    "    quicksum(quicksum(holding_cost[i]*r[i][k] for i in product_len) for k in month_len)+ # y的部分\n",
    "    \n",
    "    quicksum(quicksum(fix_cost[j]*z[j][k] for j in shipping_method_len) for k in month_len)+  # z的部分\n",
    "    \n",
    "    quicksum(quicksum(shipping_cost[0][i]*x_method1_K[i][k] for i in product_len) for k in month_len)+ # C*x的部分\n",
    "    quicksum(quicksum(shipping_cost[1][i]*x_method2_K[i][k] for i in product_len) for k in month_len)+\n",
    "    quicksum(quicksum(shipping_cost[2][i]*x_method3_K[i][k] for i in product_len) for k in month_len)+ \n",
    "    \n",
    "    quicksum( 2750*w[k] for k in month_len)+ # w的部分\n",
    "    \n",
    "    quicksum( quicksum(backorder[i]*backorder_percentage[i]*(-u[i][k]) for i in product_len) for k in month_len)+ # BA的部分\n",
    "                 \n",
    "    quicksum( quicksum(lost_sales[i]*(1-backorder_percentage[i])*(-u[i][k]) for i in product_len) for k in month_len) # Si(1 − Ai)(−uit)的部分\n",
    "    \n",
    "    , GRB.MINIMIZE) "
   ]
  },
  {
   "cell_type": "code",
   "execution_count": 435,
   "metadata": {},
   "outputs": [
    {
     "data": {
      "text/plain": [
       "{(0, 0): <gurobi.QConstr Not Yet Added>,\n",
       " (0, 1): <gurobi.QConstr Not Yet Added>,\n",
       " (0, 2): <gurobi.QConstr Not Yet Added>,\n",
       " (0, 3): <gurobi.QConstr Not Yet Added>,\n",
       " (0, 4): <gurobi.QConstr Not Yet Added>,\n",
       " (0, 5): <gurobi.QConstr Not Yet Added>,\n",
       " (1, 0): <gurobi.QConstr Not Yet Added>,\n",
       " (1, 1): <gurobi.QConstr Not Yet Added>,\n",
       " (1, 2): <gurobi.QConstr Not Yet Added>,\n",
       " (1, 3): <gurobi.QConstr Not Yet Added>,\n",
       " (1, 4): <gurobi.QConstr Not Yet Added>,\n",
       " (1, 5): <gurobi.QConstr Not Yet Added>,\n",
       " (2, 0): <gurobi.QConstr Not Yet Added>,\n",
       " (2, 1): <gurobi.QConstr Not Yet Added>,\n",
       " (2, 2): <gurobi.QConstr Not Yet Added>,\n",
       " (2, 3): <gurobi.QConstr Not Yet Added>,\n",
       " (2, 4): <gurobi.QConstr Not Yet Added>,\n",
       " (2, 5): <gurobi.QConstr Not Yet Added>,\n",
       " (3, 0): <gurobi.QConstr Not Yet Added>,\n",
       " (3, 1): <gurobi.QConstr Not Yet Added>,\n",
       " (3, 2): <gurobi.QConstr Not Yet Added>,\n",
       " (3, 3): <gurobi.QConstr Not Yet Added>,\n",
       " (3, 4): <gurobi.QConstr Not Yet Added>,\n",
       " (3, 5): <gurobi.QConstr Not Yet Added>,\n",
       " (4, 0): <gurobi.QConstr Not Yet Added>,\n",
       " (4, 1): <gurobi.QConstr Not Yet Added>,\n",
       " (4, 2): <gurobi.QConstr Not Yet Added>,\n",
       " (4, 3): <gurobi.QConstr Not Yet Added>,\n",
       " (4, 4): <gurobi.QConstr Not Yet Added>,\n",
       " (4, 5): <gurobi.QConstr Not Yet Added>,\n",
       " (5, 0): <gurobi.QConstr Not Yet Added>,\n",
       " (5, 1): <gurobi.QConstr Not Yet Added>,\n",
       " (5, 2): <gurobi.QConstr Not Yet Added>,\n",
       " (5, 3): <gurobi.QConstr Not Yet Added>,\n",
       " (5, 4): <gurobi.QConstr Not Yet Added>,\n",
       " (5, 5): <gurobi.QConstr Not Yet Added>,\n",
       " (6, 0): <gurobi.QConstr Not Yet Added>,\n",
       " (6, 1): <gurobi.QConstr Not Yet Added>,\n",
       " (6, 2): <gurobi.QConstr Not Yet Added>,\n",
       " (6, 3): <gurobi.QConstr Not Yet Added>,\n",
       " (6, 4): <gurobi.QConstr Not Yet Added>,\n",
       " (6, 5): <gurobi.QConstr Not Yet Added>,\n",
       " (7, 0): <gurobi.QConstr Not Yet Added>,\n",
       " (7, 1): <gurobi.QConstr Not Yet Added>,\n",
       " (7, 2): <gurobi.QConstr Not Yet Added>,\n",
       " (7, 3): <gurobi.QConstr Not Yet Added>,\n",
       " (7, 4): <gurobi.QConstr Not Yet Added>,\n",
       " (7, 5): <gurobi.QConstr Not Yet Added>,\n",
       " (8, 0): <gurobi.QConstr Not Yet Added>,\n",
       " (8, 1): <gurobi.QConstr Not Yet Added>,\n",
       " (8, 2): <gurobi.QConstr Not Yet Added>,\n",
       " (8, 3): <gurobi.QConstr Not Yet Added>,\n",
       " (8, 4): <gurobi.QConstr Not Yet Added>,\n",
       " (8, 5): <gurobi.QConstr Not Yet Added>,\n",
       " (9, 0): <gurobi.QConstr Not Yet Added>,\n",
       " (9, 1): <gurobi.QConstr Not Yet Added>,\n",
       " (9, 2): <gurobi.QConstr Not Yet Added>,\n",
       " (9, 3): <gurobi.QConstr Not Yet Added>,\n",
       " (9, 4): <gurobi.QConstr Not Yet Added>,\n",
       " (9, 5): <gurobi.QConstr Not Yet Added>}"
      ]
     },
     "execution_count": 435,
     "metadata": {},
     "output_type": "execute_result"
    }
   ],
   "source": [
    "cs1.addConstrs( ( (ypn[i][k]-0.5)*y[i][k]  >=0\n",
    "                for i in product_len\n",
    "                for k in month_len \n",
    "                ), \"decide ypn\" )"
   ]
  },
  {
   "cell_type": "code",
   "execution_count": 436,
   "metadata": {},
   "outputs": [
    {
     "data": {
      "text/plain": [
       "{(0, 0): <gurobi.GenConstr *Awaiting Model Update*>,\n",
       " (0, 1): <gurobi.GenConstr *Awaiting Model Update*>,\n",
       " (0, 2): <gurobi.GenConstr *Awaiting Model Update*>,\n",
       " (0, 3): <gurobi.GenConstr *Awaiting Model Update*>,\n",
       " (0, 4): <gurobi.GenConstr *Awaiting Model Update*>,\n",
       " (0, 5): <gurobi.GenConstr *Awaiting Model Update*>,\n",
       " (1, 0): <gurobi.GenConstr *Awaiting Model Update*>,\n",
       " (1, 1): <gurobi.GenConstr *Awaiting Model Update*>,\n",
       " (1, 2): <gurobi.GenConstr *Awaiting Model Update*>,\n",
       " (1, 3): <gurobi.GenConstr *Awaiting Model Update*>,\n",
       " (1, 4): <gurobi.GenConstr *Awaiting Model Update*>,\n",
       " (1, 5): <gurobi.GenConstr *Awaiting Model Update*>,\n",
       " (2, 0): <gurobi.GenConstr *Awaiting Model Update*>,\n",
       " (2, 1): <gurobi.GenConstr *Awaiting Model Update*>,\n",
       " (2, 2): <gurobi.GenConstr *Awaiting Model Update*>,\n",
       " (2, 3): <gurobi.GenConstr *Awaiting Model Update*>,\n",
       " (2, 4): <gurobi.GenConstr *Awaiting Model Update*>,\n",
       " (2, 5): <gurobi.GenConstr *Awaiting Model Update*>,\n",
       " (3, 0): <gurobi.GenConstr *Awaiting Model Update*>,\n",
       " (3, 1): <gurobi.GenConstr *Awaiting Model Update*>,\n",
       " (3, 2): <gurobi.GenConstr *Awaiting Model Update*>,\n",
       " (3, 3): <gurobi.GenConstr *Awaiting Model Update*>,\n",
       " (3, 4): <gurobi.GenConstr *Awaiting Model Update*>,\n",
       " (3, 5): <gurobi.GenConstr *Awaiting Model Update*>,\n",
       " (4, 0): <gurobi.GenConstr *Awaiting Model Update*>,\n",
       " (4, 1): <gurobi.GenConstr *Awaiting Model Update*>,\n",
       " (4, 2): <gurobi.GenConstr *Awaiting Model Update*>,\n",
       " (4, 3): <gurobi.GenConstr *Awaiting Model Update*>,\n",
       " (4, 4): <gurobi.GenConstr *Awaiting Model Update*>,\n",
       " (4, 5): <gurobi.GenConstr *Awaiting Model Update*>,\n",
       " (5, 0): <gurobi.GenConstr *Awaiting Model Update*>,\n",
       " (5, 1): <gurobi.GenConstr *Awaiting Model Update*>,\n",
       " (5, 2): <gurobi.GenConstr *Awaiting Model Update*>,\n",
       " (5, 3): <gurobi.GenConstr *Awaiting Model Update*>,\n",
       " (5, 4): <gurobi.GenConstr *Awaiting Model Update*>,\n",
       " (5, 5): <gurobi.GenConstr *Awaiting Model Update*>,\n",
       " (6, 0): <gurobi.GenConstr *Awaiting Model Update*>,\n",
       " (6, 1): <gurobi.GenConstr *Awaiting Model Update*>,\n",
       " (6, 2): <gurobi.GenConstr *Awaiting Model Update*>,\n",
       " (6, 3): <gurobi.GenConstr *Awaiting Model Update*>,\n",
       " (6, 4): <gurobi.GenConstr *Awaiting Model Update*>,\n",
       " (6, 5): <gurobi.GenConstr *Awaiting Model Update*>,\n",
       " (7, 0): <gurobi.GenConstr *Awaiting Model Update*>,\n",
       " (7, 1): <gurobi.GenConstr *Awaiting Model Update*>,\n",
       " (7, 2): <gurobi.GenConstr *Awaiting Model Update*>,\n",
       " (7, 3): <gurobi.GenConstr *Awaiting Model Update*>,\n",
       " (7, 4): <gurobi.GenConstr *Awaiting Model Update*>,\n",
       " (7, 5): <gurobi.GenConstr *Awaiting Model Update*>,\n",
       " (8, 0): <gurobi.GenConstr *Awaiting Model Update*>,\n",
       " (8, 1): <gurobi.GenConstr *Awaiting Model Update*>,\n",
       " (8, 2): <gurobi.GenConstr *Awaiting Model Update*>,\n",
       " (8, 3): <gurobi.GenConstr *Awaiting Model Update*>,\n",
       " (8, 4): <gurobi.GenConstr *Awaiting Model Update*>,\n",
       " (8, 5): <gurobi.GenConstr *Awaiting Model Update*>,\n",
       " (9, 0): <gurobi.GenConstr *Awaiting Model Update*>,\n",
       " (9, 1): <gurobi.GenConstr *Awaiting Model Update*>,\n",
       " (9, 2): <gurobi.GenConstr *Awaiting Model Update*>,\n",
       " (9, 3): <gurobi.GenConstr *Awaiting Model Update*>,\n",
       " (9, 4): <gurobi.GenConstr *Awaiting Model Update*>,\n",
       " (9, 5): <gurobi.GenConstr *Awaiting Model Update*>}"
      ]
     },
     "execution_count": 436,
     "metadata": {},
     "output_type": "execute_result"
    }
   ],
   "source": [
    "cs1.addConstrs( ((ypn[i][k] == 1) >> ( q[i][k]  == 1)\n",
    "                for i in product_len\n",
    "                for k in month_len )\n",
    "                , \"q == 1\" )"
   ]
  },
  {
   "cell_type": "code",
   "execution_count": 437,
   "metadata": {},
   "outputs": [
    {
     "data": {
      "text/plain": [
       "{(0, 0): <gurobi.GenConstr *Awaiting Model Update*>,\n",
       " (0, 1): <gurobi.GenConstr *Awaiting Model Update*>,\n",
       " (0, 2): <gurobi.GenConstr *Awaiting Model Update*>,\n",
       " (0, 3): <gurobi.GenConstr *Awaiting Model Update*>,\n",
       " (0, 4): <gurobi.GenConstr *Awaiting Model Update*>,\n",
       " (0, 5): <gurobi.GenConstr *Awaiting Model Update*>,\n",
       " (1, 0): <gurobi.GenConstr *Awaiting Model Update*>,\n",
       " (1, 1): <gurobi.GenConstr *Awaiting Model Update*>,\n",
       " (1, 2): <gurobi.GenConstr *Awaiting Model Update*>,\n",
       " (1, 3): <gurobi.GenConstr *Awaiting Model Update*>,\n",
       " (1, 4): <gurobi.GenConstr *Awaiting Model Update*>,\n",
       " (1, 5): <gurobi.GenConstr *Awaiting Model Update*>,\n",
       " (2, 0): <gurobi.GenConstr *Awaiting Model Update*>,\n",
       " (2, 1): <gurobi.GenConstr *Awaiting Model Update*>,\n",
       " (2, 2): <gurobi.GenConstr *Awaiting Model Update*>,\n",
       " (2, 3): <gurobi.GenConstr *Awaiting Model Update*>,\n",
       " (2, 4): <gurobi.GenConstr *Awaiting Model Update*>,\n",
       " (2, 5): <gurobi.GenConstr *Awaiting Model Update*>,\n",
       " (3, 0): <gurobi.GenConstr *Awaiting Model Update*>,\n",
       " (3, 1): <gurobi.GenConstr *Awaiting Model Update*>,\n",
       " (3, 2): <gurobi.GenConstr *Awaiting Model Update*>,\n",
       " (3, 3): <gurobi.GenConstr *Awaiting Model Update*>,\n",
       " (3, 4): <gurobi.GenConstr *Awaiting Model Update*>,\n",
       " (3, 5): <gurobi.GenConstr *Awaiting Model Update*>,\n",
       " (4, 0): <gurobi.GenConstr *Awaiting Model Update*>,\n",
       " (4, 1): <gurobi.GenConstr *Awaiting Model Update*>,\n",
       " (4, 2): <gurobi.GenConstr *Awaiting Model Update*>,\n",
       " (4, 3): <gurobi.GenConstr *Awaiting Model Update*>,\n",
       " (4, 4): <gurobi.GenConstr *Awaiting Model Update*>,\n",
       " (4, 5): <gurobi.GenConstr *Awaiting Model Update*>,\n",
       " (5, 0): <gurobi.GenConstr *Awaiting Model Update*>,\n",
       " (5, 1): <gurobi.GenConstr *Awaiting Model Update*>,\n",
       " (5, 2): <gurobi.GenConstr *Awaiting Model Update*>,\n",
       " (5, 3): <gurobi.GenConstr *Awaiting Model Update*>,\n",
       " (5, 4): <gurobi.GenConstr *Awaiting Model Update*>,\n",
       " (5, 5): <gurobi.GenConstr *Awaiting Model Update*>,\n",
       " (6, 0): <gurobi.GenConstr *Awaiting Model Update*>,\n",
       " (6, 1): <gurobi.GenConstr *Awaiting Model Update*>,\n",
       " (6, 2): <gurobi.GenConstr *Awaiting Model Update*>,\n",
       " (6, 3): <gurobi.GenConstr *Awaiting Model Update*>,\n",
       " (6, 4): <gurobi.GenConstr *Awaiting Model Update*>,\n",
       " (6, 5): <gurobi.GenConstr *Awaiting Model Update*>,\n",
       " (7, 0): <gurobi.GenConstr *Awaiting Model Update*>,\n",
       " (7, 1): <gurobi.GenConstr *Awaiting Model Update*>,\n",
       " (7, 2): <gurobi.GenConstr *Awaiting Model Update*>,\n",
       " (7, 3): <gurobi.GenConstr *Awaiting Model Update*>,\n",
       " (7, 4): <gurobi.GenConstr *Awaiting Model Update*>,\n",
       " (7, 5): <gurobi.GenConstr *Awaiting Model Update*>,\n",
       " (8, 0): <gurobi.GenConstr *Awaiting Model Update*>,\n",
       " (8, 1): <gurobi.GenConstr *Awaiting Model Update*>,\n",
       " (8, 2): <gurobi.GenConstr *Awaiting Model Update*>,\n",
       " (8, 3): <gurobi.GenConstr *Awaiting Model Update*>,\n",
       " (8, 4): <gurobi.GenConstr *Awaiting Model Update*>,\n",
       " (8, 5): <gurobi.GenConstr *Awaiting Model Update*>,\n",
       " (9, 0): <gurobi.GenConstr *Awaiting Model Update*>,\n",
       " (9, 1): <gurobi.GenConstr *Awaiting Model Update*>,\n",
       " (9, 2): <gurobi.GenConstr *Awaiting Model Update*>,\n",
       " (9, 3): <gurobi.GenConstr *Awaiting Model Update*>,\n",
       " (9, 4): <gurobi.GenConstr *Awaiting Model Update*>,\n",
       " (9, 5): <gurobi.GenConstr *Awaiting Model Update*>}"
      ]
     },
     "execution_count": 437,
     "metadata": {},
     "output_type": "execute_result"
    }
   ],
   "source": [
    "cs1.addConstrs( ((ypn[i][k] == 0) >> ( q[i][k]  == backorder_percentage[i])\n",
    "                for i in product_len\n",
    "                for k in month_len)\n",
    "                , \"q == A\" )"
   ]
  },
  {
   "cell_type": "code",
   "execution_count": 444,
   "metadata": {},
   "outputs": [
    {
     "data": {
      "text/plain": [
       "{(0, 0): <gurobi.QConstr Not Yet Added>,\n",
       " (0, 1): <gurobi.QConstr Not Yet Added>,\n",
       " (0, 2): <gurobi.QConstr Not Yet Added>,\n",
       " (0, 3): <gurobi.QConstr Not Yet Added>,\n",
       " (0, 4): <gurobi.QConstr Not Yet Added>,\n",
       " (0, 5): <gurobi.QConstr Not Yet Added>,\n",
       " (1, 0): <gurobi.QConstr Not Yet Added>,\n",
       " (1, 1): <gurobi.QConstr Not Yet Added>,\n",
       " (1, 2): <gurobi.QConstr Not Yet Added>,\n",
       " (1, 3): <gurobi.QConstr Not Yet Added>,\n",
       " (1, 4): <gurobi.QConstr Not Yet Added>,\n",
       " (1, 5): <gurobi.QConstr Not Yet Added>,\n",
       " (2, 0): <gurobi.QConstr Not Yet Added>,\n",
       " (2, 1): <gurobi.QConstr Not Yet Added>,\n",
       " (2, 2): <gurobi.QConstr Not Yet Added>,\n",
       " (2, 3): <gurobi.QConstr Not Yet Added>,\n",
       " (2, 4): <gurobi.QConstr Not Yet Added>,\n",
       " (2, 5): <gurobi.QConstr Not Yet Added>,\n",
       " (3, 0): <gurobi.QConstr Not Yet Added>,\n",
       " (3, 1): <gurobi.QConstr Not Yet Added>,\n",
       " (3, 2): <gurobi.QConstr Not Yet Added>,\n",
       " (3, 3): <gurobi.QConstr Not Yet Added>,\n",
       " (3, 4): <gurobi.QConstr Not Yet Added>,\n",
       " (3, 5): <gurobi.QConstr Not Yet Added>,\n",
       " (4, 0): <gurobi.QConstr Not Yet Added>,\n",
       " (4, 1): <gurobi.QConstr Not Yet Added>,\n",
       " (4, 2): <gurobi.QConstr Not Yet Added>,\n",
       " (4, 3): <gurobi.QConstr Not Yet Added>,\n",
       " (4, 4): <gurobi.QConstr Not Yet Added>,\n",
       " (4, 5): <gurobi.QConstr Not Yet Added>,\n",
       " (5, 0): <gurobi.QConstr Not Yet Added>,\n",
       " (5, 1): <gurobi.QConstr Not Yet Added>,\n",
       " (5, 2): <gurobi.QConstr Not Yet Added>,\n",
       " (5, 3): <gurobi.QConstr Not Yet Added>,\n",
       " (5, 4): <gurobi.QConstr Not Yet Added>,\n",
       " (5, 5): <gurobi.QConstr Not Yet Added>,\n",
       " (6, 0): <gurobi.QConstr Not Yet Added>,\n",
       " (6, 1): <gurobi.QConstr Not Yet Added>,\n",
       " (6, 2): <gurobi.QConstr Not Yet Added>,\n",
       " (6, 3): <gurobi.QConstr Not Yet Added>,\n",
       " (6, 4): <gurobi.QConstr Not Yet Added>,\n",
       " (6, 5): <gurobi.QConstr Not Yet Added>,\n",
       " (7, 0): <gurobi.QConstr Not Yet Added>,\n",
       " (7, 1): <gurobi.QConstr Not Yet Added>,\n",
       " (7, 2): <gurobi.QConstr Not Yet Added>,\n",
       " (7, 3): <gurobi.QConstr Not Yet Added>,\n",
       " (7, 4): <gurobi.QConstr Not Yet Added>,\n",
       " (7, 5): <gurobi.QConstr Not Yet Added>,\n",
       " (8, 0): <gurobi.QConstr Not Yet Added>,\n",
       " (8, 1): <gurobi.QConstr Not Yet Added>,\n",
       " (8, 2): <gurobi.QConstr Not Yet Added>,\n",
       " (8, 3): <gurobi.QConstr Not Yet Added>,\n",
       " (8, 4): <gurobi.QConstr Not Yet Added>,\n",
       " (8, 5): <gurobi.QConstr Not Yet Added>,\n",
       " (9, 0): <gurobi.QConstr Not Yet Added>,\n",
       " (9, 1): <gurobi.QConstr Not Yet Added>,\n",
       " (9, 2): <gurobi.QConstr Not Yet Added>,\n",
       " (9, 3): <gurobi.QConstr Not Yet Added>,\n",
       " (9, 4): <gurobi.QConstr Not Yet Added>,\n",
       " (9, 5): <gurobi.QConstr Not Yet Added>}"
      ]
     },
     "execution_count": 444,
     "metadata": {},
     "output_type": "execute_result"
    }
   ],
   "source": [
    "cs1.addConstrs( ( y[i][k]  <=  (q[i][k] * y[i][k])\n",
    "                for i in product_len\n",
    "                for k in month_len \n",
    "                ), \"y q\" )"
   ]
  },
  {
   "cell_type": "code",
   "execution_count": 391,
   "metadata": {},
   "outputs": [
    {
     "data": {
      "text/plain": [
       "{(0, 0): <gurobi.Constr *Awaiting Model Update*>,\n",
       " (0, 1): <gurobi.Constr *Awaiting Model Update*>,\n",
       " (0, 2): <gurobi.Constr *Awaiting Model Update*>,\n",
       " (0, 3): <gurobi.Constr *Awaiting Model Update*>,\n",
       " (0, 4): <gurobi.Constr *Awaiting Model Update*>,\n",
       " (0, 5): <gurobi.Constr *Awaiting Model Update*>,\n",
       " (1, 0): <gurobi.Constr *Awaiting Model Update*>,\n",
       " (1, 1): <gurobi.Constr *Awaiting Model Update*>,\n",
       " (1, 2): <gurobi.Constr *Awaiting Model Update*>,\n",
       " (1, 3): <gurobi.Constr *Awaiting Model Update*>,\n",
       " (1, 4): <gurobi.Constr *Awaiting Model Update*>,\n",
       " (1, 5): <gurobi.Constr *Awaiting Model Update*>,\n",
       " (2, 0): <gurobi.Constr *Awaiting Model Update*>,\n",
       " (2, 1): <gurobi.Constr *Awaiting Model Update*>,\n",
       " (2, 2): <gurobi.Constr *Awaiting Model Update*>,\n",
       " (2, 3): <gurobi.Constr *Awaiting Model Update*>,\n",
       " (2, 4): <gurobi.Constr *Awaiting Model Update*>,\n",
       " (2, 5): <gurobi.Constr *Awaiting Model Update*>,\n",
       " (3, 0): <gurobi.Constr *Awaiting Model Update*>,\n",
       " (3, 1): <gurobi.Constr *Awaiting Model Update*>,\n",
       " (3, 2): <gurobi.Constr *Awaiting Model Update*>,\n",
       " (3, 3): <gurobi.Constr *Awaiting Model Update*>,\n",
       " (3, 4): <gurobi.Constr *Awaiting Model Update*>,\n",
       " (3, 5): <gurobi.Constr *Awaiting Model Update*>,\n",
       " (4, 0): <gurobi.Constr *Awaiting Model Update*>,\n",
       " (4, 1): <gurobi.Constr *Awaiting Model Update*>,\n",
       " (4, 2): <gurobi.Constr *Awaiting Model Update*>,\n",
       " (4, 3): <gurobi.Constr *Awaiting Model Update*>,\n",
       " (4, 4): <gurobi.Constr *Awaiting Model Update*>,\n",
       " (4, 5): <gurobi.Constr *Awaiting Model Update*>,\n",
       " (5, 0): <gurobi.Constr *Awaiting Model Update*>,\n",
       " (5, 1): <gurobi.Constr *Awaiting Model Update*>,\n",
       " (5, 2): <gurobi.Constr *Awaiting Model Update*>,\n",
       " (5, 3): <gurobi.Constr *Awaiting Model Update*>,\n",
       " (5, 4): <gurobi.Constr *Awaiting Model Update*>,\n",
       " (5, 5): <gurobi.Constr *Awaiting Model Update*>,\n",
       " (6, 0): <gurobi.Constr *Awaiting Model Update*>,\n",
       " (6, 1): <gurobi.Constr *Awaiting Model Update*>,\n",
       " (6, 2): <gurobi.Constr *Awaiting Model Update*>,\n",
       " (6, 3): <gurobi.Constr *Awaiting Model Update*>,\n",
       " (6, 4): <gurobi.Constr *Awaiting Model Update*>,\n",
       " (6, 5): <gurobi.Constr *Awaiting Model Update*>,\n",
       " (7, 0): <gurobi.Constr *Awaiting Model Update*>,\n",
       " (7, 1): <gurobi.Constr *Awaiting Model Update*>,\n",
       " (7, 2): <gurobi.Constr *Awaiting Model Update*>,\n",
       " (7, 3): <gurobi.Constr *Awaiting Model Update*>,\n",
       " (7, 4): <gurobi.Constr *Awaiting Model Update*>,\n",
       " (7, 5): <gurobi.Constr *Awaiting Model Update*>,\n",
       " (8, 0): <gurobi.Constr *Awaiting Model Update*>,\n",
       " (8, 1): <gurobi.Constr *Awaiting Model Update*>,\n",
       " (8, 2): <gurobi.Constr *Awaiting Model Update*>,\n",
       " (8, 3): <gurobi.Constr *Awaiting Model Update*>,\n",
       " (8, 4): <gurobi.Constr *Awaiting Model Update*>,\n",
       " (8, 5): <gurobi.Constr *Awaiting Model Update*>,\n",
       " (9, 0): <gurobi.Constr *Awaiting Model Update*>,\n",
       " (9, 1): <gurobi.Constr *Awaiting Model Update*>,\n",
       " (9, 2): <gurobi.Constr *Awaiting Model Update*>,\n",
       " (9, 3): <gurobi.Constr *Awaiting Model Update*>,\n",
       " (9, 4): <gurobi.Constr *Awaiting Model Update*>,\n",
       " (9, 5): <gurobi.Constr *Awaiting Model Update*>}"
      ]
     },
     "execution_count": 391,
     "metadata": {},
     "output_type": "execute_result"
    }
   ],
   "source": [
    "cs1.addConstrs( ( u[i][k]  <= 0 \n",
    "                for i in product_len\n",
    "                for k in month_len \n",
    "                ), \"min 1\" )\n",
    "cs1.addConstrs( ( u[i][k]  <= y[i][k] \n",
    "                for i in product_len\n",
    "                for k in month_len \n",
    "                ), \"min 2\" )"
   ]
  },
  {
   "cell_type": "code",
   "execution_count": 392,
   "metadata": {},
   "outputs": [
    {
     "data": {
      "text/plain": [
       "{(0, 0): <gurobi.Constr *Awaiting Model Update*>,\n",
       " (0, 1): <gurobi.Constr *Awaiting Model Update*>,\n",
       " (0, 2): <gurobi.Constr *Awaiting Model Update*>,\n",
       " (0, 3): <gurobi.Constr *Awaiting Model Update*>,\n",
       " (0, 4): <gurobi.Constr *Awaiting Model Update*>,\n",
       " (0, 5): <gurobi.Constr *Awaiting Model Update*>,\n",
       " (1, 0): <gurobi.Constr *Awaiting Model Update*>,\n",
       " (1, 1): <gurobi.Constr *Awaiting Model Update*>,\n",
       " (1, 2): <gurobi.Constr *Awaiting Model Update*>,\n",
       " (1, 3): <gurobi.Constr *Awaiting Model Update*>,\n",
       " (1, 4): <gurobi.Constr *Awaiting Model Update*>,\n",
       " (1, 5): <gurobi.Constr *Awaiting Model Update*>,\n",
       " (2, 0): <gurobi.Constr *Awaiting Model Update*>,\n",
       " (2, 1): <gurobi.Constr *Awaiting Model Update*>,\n",
       " (2, 2): <gurobi.Constr *Awaiting Model Update*>,\n",
       " (2, 3): <gurobi.Constr *Awaiting Model Update*>,\n",
       " (2, 4): <gurobi.Constr *Awaiting Model Update*>,\n",
       " (2, 5): <gurobi.Constr *Awaiting Model Update*>,\n",
       " (3, 0): <gurobi.Constr *Awaiting Model Update*>,\n",
       " (3, 1): <gurobi.Constr *Awaiting Model Update*>,\n",
       " (3, 2): <gurobi.Constr *Awaiting Model Update*>,\n",
       " (3, 3): <gurobi.Constr *Awaiting Model Update*>,\n",
       " (3, 4): <gurobi.Constr *Awaiting Model Update*>,\n",
       " (3, 5): <gurobi.Constr *Awaiting Model Update*>,\n",
       " (4, 0): <gurobi.Constr *Awaiting Model Update*>,\n",
       " (4, 1): <gurobi.Constr *Awaiting Model Update*>,\n",
       " (4, 2): <gurobi.Constr *Awaiting Model Update*>,\n",
       " (4, 3): <gurobi.Constr *Awaiting Model Update*>,\n",
       " (4, 4): <gurobi.Constr *Awaiting Model Update*>,\n",
       " (4, 5): <gurobi.Constr *Awaiting Model Update*>,\n",
       " (5, 0): <gurobi.Constr *Awaiting Model Update*>,\n",
       " (5, 1): <gurobi.Constr *Awaiting Model Update*>,\n",
       " (5, 2): <gurobi.Constr *Awaiting Model Update*>,\n",
       " (5, 3): <gurobi.Constr *Awaiting Model Update*>,\n",
       " (5, 4): <gurobi.Constr *Awaiting Model Update*>,\n",
       " (5, 5): <gurobi.Constr *Awaiting Model Update*>,\n",
       " (6, 0): <gurobi.Constr *Awaiting Model Update*>,\n",
       " (6, 1): <gurobi.Constr *Awaiting Model Update*>,\n",
       " (6, 2): <gurobi.Constr *Awaiting Model Update*>,\n",
       " (6, 3): <gurobi.Constr *Awaiting Model Update*>,\n",
       " (6, 4): <gurobi.Constr *Awaiting Model Update*>,\n",
       " (6, 5): <gurobi.Constr *Awaiting Model Update*>,\n",
       " (7, 0): <gurobi.Constr *Awaiting Model Update*>,\n",
       " (7, 1): <gurobi.Constr *Awaiting Model Update*>,\n",
       " (7, 2): <gurobi.Constr *Awaiting Model Update*>,\n",
       " (7, 3): <gurobi.Constr *Awaiting Model Update*>,\n",
       " (7, 4): <gurobi.Constr *Awaiting Model Update*>,\n",
       " (7, 5): <gurobi.Constr *Awaiting Model Update*>,\n",
       " (8, 0): <gurobi.Constr *Awaiting Model Update*>,\n",
       " (8, 1): <gurobi.Constr *Awaiting Model Update*>,\n",
       " (8, 2): <gurobi.Constr *Awaiting Model Update*>,\n",
       " (8, 3): <gurobi.Constr *Awaiting Model Update*>,\n",
       " (8, 4): <gurobi.Constr *Awaiting Model Update*>,\n",
       " (8, 5): <gurobi.Constr *Awaiting Model Update*>,\n",
       " (9, 0): <gurobi.Constr *Awaiting Model Update*>,\n",
       " (9, 1): <gurobi.Constr *Awaiting Model Update*>,\n",
       " (9, 2): <gurobi.Constr *Awaiting Model Update*>,\n",
       " (9, 3): <gurobi.Constr *Awaiting Model Update*>,\n",
       " (9, 4): <gurobi.Constr *Awaiting Model Update*>,\n",
       " (9, 5): <gurobi.Constr *Awaiting Model Update*>}"
      ]
     },
     "execution_count": 392,
     "metadata": {},
     "output_type": "execute_result"
    }
   ],
   "source": [
    "cs1.addConstrs( ( r[i][k]  >= 0 \n",
    "                for i in product_len\n",
    "                for k in month_len \n",
    "                ), \"max 1\" )\n",
    "cs1.addConstrs( ( r[i][k]  >=  y[i][k] \n",
    "                for i in product_len\n",
    "                for k in month_len \n",
    "                ), \"max 2\" )"
   ]
  },
  {
   "cell_type": "code",
   "execution_count": 393,
   "metadata": {},
   "outputs": [
    {
     "data": {
      "text/plain": [
       "{0: <gurobi.Constr *Awaiting Model Update*>,\n",
       " 1: <gurobi.Constr *Awaiting Model Update*>,\n",
       " 2: <gurobi.Constr *Awaiting Model Update*>,\n",
       " 3: <gurobi.Constr *Awaiting Model Update*>,\n",
       " 4: <gurobi.Constr *Awaiting Model Update*>,\n",
       " 5: <gurobi.Constr *Awaiting Model Update*>}"
      ]
     },
     "execution_count": 393,
     "metadata": {},
     "output_type": "execute_result"
    }
   ],
   "source": [
    "cs1.addConstrs( ( (1/30)*quicksum( size[i]*x_method3_K[i][k] for i in product_len)  <= w[k] \n",
    "                for k in month_len \n",
    "                ), \"container costs\" )"
   ]
  },
  {
   "cell_type": "code",
   "execution_count": 394,
   "metadata": {},
   "outputs": [
    {
     "data": {
      "text/plain": [
       "{(1, 0): <gurobi.QConstr Not Yet Added>,\n",
       " (1, 1): <gurobi.QConstr Not Yet Added>,\n",
       " (1, 2): <gurobi.QConstr Not Yet Added>,\n",
       " (1, 3): <gurobi.QConstr Not Yet Added>,\n",
       " (1, 4): <gurobi.QConstr Not Yet Added>,\n",
       " (1, 5): <gurobi.QConstr Not Yet Added>,\n",
       " (1, 6): <gurobi.QConstr Not Yet Added>,\n",
       " (1, 7): <gurobi.QConstr Not Yet Added>,\n",
       " (1, 8): <gurobi.QConstr Not Yet Added>,\n",
       " (1, 9): <gurobi.QConstr Not Yet Added>,\n",
       " (2, 0): <gurobi.QConstr Not Yet Added>,\n",
       " (2, 1): <gurobi.QConstr Not Yet Added>,\n",
       " (2, 2): <gurobi.QConstr Not Yet Added>,\n",
       " (2, 3): <gurobi.QConstr Not Yet Added>,\n",
       " (2, 4): <gurobi.QConstr Not Yet Added>,\n",
       " (2, 5): <gurobi.QConstr Not Yet Added>,\n",
       " (2, 6): <gurobi.QConstr Not Yet Added>,\n",
       " (2, 7): <gurobi.QConstr Not Yet Added>,\n",
       " (2, 8): <gurobi.QConstr Not Yet Added>,\n",
       " (2, 9): <gurobi.QConstr Not Yet Added>,\n",
       " (3, 0): <gurobi.QConstr Not Yet Added>,\n",
       " (3, 1): <gurobi.QConstr Not Yet Added>,\n",
       " (3, 2): <gurobi.QConstr Not Yet Added>,\n",
       " (3, 3): <gurobi.QConstr Not Yet Added>,\n",
       " (3, 4): <gurobi.QConstr Not Yet Added>,\n",
       " (3, 5): <gurobi.QConstr Not Yet Added>,\n",
       " (3, 6): <gurobi.QConstr Not Yet Added>,\n",
       " (3, 7): <gurobi.QConstr Not Yet Added>,\n",
       " (3, 8): <gurobi.QConstr Not Yet Added>,\n",
       " (3, 9): <gurobi.QConstr Not Yet Added>,\n",
       " (4, 0): <gurobi.QConstr Not Yet Added>,\n",
       " (4, 1): <gurobi.QConstr Not Yet Added>,\n",
       " (4, 2): <gurobi.QConstr Not Yet Added>,\n",
       " (4, 3): <gurobi.QConstr Not Yet Added>,\n",
       " (4, 4): <gurobi.QConstr Not Yet Added>,\n",
       " (4, 5): <gurobi.QConstr Not Yet Added>,\n",
       " (4, 6): <gurobi.QConstr Not Yet Added>,\n",
       " (4, 7): <gurobi.QConstr Not Yet Added>,\n",
       " (4, 8): <gurobi.QConstr Not Yet Added>,\n",
       " (4, 9): <gurobi.QConstr Not Yet Added>,\n",
       " (5, 0): <gurobi.QConstr Not Yet Added>,\n",
       " (5, 1): <gurobi.QConstr Not Yet Added>,\n",
       " (5, 2): <gurobi.QConstr Not Yet Added>,\n",
       " (5, 3): <gurobi.QConstr Not Yet Added>,\n",
       " (5, 4): <gurobi.QConstr Not Yet Added>,\n",
       " (5, 5): <gurobi.QConstr Not Yet Added>,\n",
       " (5, 6): <gurobi.QConstr Not Yet Added>,\n",
       " (5, 7): <gurobi.QConstr Not Yet Added>,\n",
       " (5, 8): <gurobi.QConstr Not Yet Added>,\n",
       " (5, 9): <gurobi.QConstr Not Yet Added>}"
      ]
     },
     "execution_count": 394,
     "metadata": {},
     "output_type": "execute_result"
    }
   ],
   "source": [
    "cs1.addConstrs( ( y[i][k] ==  initial_inventory[i]  + x_method1_T[i][k] + x_method2_T[i][k]+ x_method3_T[i][k] + \n",
    "                 intransit[i][k]\n",
    "                 - demand[i][k] \n",
    "                for k in month_len \n",
    "                for i in product_len\n",
    "                if k==0), \"initial inventory\" )\n",
    "\n",
    "\n",
    "cs1.addConstrs( ( y[i][k] ==  y[i][k-1]*q[i][k-1]  + x_method1_T[i][k] + x_method2_T[i][k]+ x_method3_T[i][k] + \n",
    "                 intransit[i][k]\n",
    "                 - demand[i][k] \n",
    "                for k in month_len \n",
    "                for i in product_len\n",
    "                if k!=0), \"inventory\" )\n"
   ]
  },
  {
   "cell_type": "code",
   "execution_count": 395,
   "metadata": {},
   "outputs": [
    {
     "data": {
      "text/plain": [
       "{0: <gurobi.Constr *Awaiting Model Update*>,\n",
       " 1: <gurobi.Constr *Awaiting Model Update*>,\n",
       " 2: <gurobi.Constr *Awaiting Model Update*>,\n",
       " 3: <gurobi.Constr *Awaiting Model Update*>,\n",
       " 4: <gurobi.Constr *Awaiting Model Update*>,\n",
       " 5: <gurobi.Constr *Awaiting Model Update*>}"
      ]
     },
     "execution_count": 395,
     "metadata": {},
     "output_type": "execute_result"
    }
   ],
   "source": [
    "# add constraints and name them\n",
    "cs1.addConstrs( (quicksum(x_method1_K[i][k] for i in product_len)  <= 7274 * z[0][k] \n",
    "                 for k in month_len \n",
    "                ), \"binary z 1 \" )\n",
    "cs1.addConstrs( (quicksum(x_method2_K[i][k] for i in product_len)  <= 7274 * z[1][k] \n",
    "                 for k in month_len \n",
    "                ), \"binary z 2\" )\n",
    "cs1.addConstrs( (quicksum(x_method3_K[i][k] for i in product_len)  <= 7274 * z[2][k] \n",
    "                 for k in month_len \n",
    "                ), \"binary z 3\" )"
   ]
  },
  {
   "cell_type": "code",
   "execution_count": 396,
   "metadata": {},
   "outputs": [
    {
     "data": {
      "text/plain": [
       "{(0, 0): <gurobi.Constr *Awaiting Model Update*>,\n",
       " (0, 1): <gurobi.Constr *Awaiting Model Update*>,\n",
       " (0, 2): <gurobi.Constr *Awaiting Model Update*>,\n",
       " (0, 3): <gurobi.Constr *Awaiting Model Update*>,\n",
       " (0, 4): <gurobi.Constr *Awaiting Model Update*>,\n",
       " (0, 5): <gurobi.Constr *Awaiting Model Update*>,\n",
       " (0, 6): <gurobi.Constr *Awaiting Model Update*>,\n",
       " (0, 7): <gurobi.Constr *Awaiting Model Update*>,\n",
       " (0, 8): <gurobi.Constr *Awaiting Model Update*>,\n",
       " (0, 9): <gurobi.Constr *Awaiting Model Update*>,\n",
       " (1, 0): <gurobi.Constr *Awaiting Model Update*>,\n",
       " (1, 1): <gurobi.Constr *Awaiting Model Update*>,\n",
       " (1, 2): <gurobi.Constr *Awaiting Model Update*>,\n",
       " (1, 3): <gurobi.Constr *Awaiting Model Update*>,\n",
       " (1, 4): <gurobi.Constr *Awaiting Model Update*>,\n",
       " (1, 5): <gurobi.Constr *Awaiting Model Update*>,\n",
       " (1, 6): <gurobi.Constr *Awaiting Model Update*>,\n",
       " (1, 7): <gurobi.Constr *Awaiting Model Update*>,\n",
       " (1, 8): <gurobi.Constr *Awaiting Model Update*>,\n",
       " (1, 9): <gurobi.Constr *Awaiting Model Update*>,\n",
       " (2, 0): <gurobi.Constr *Awaiting Model Update*>,\n",
       " (2, 1): <gurobi.Constr *Awaiting Model Update*>,\n",
       " (2, 2): <gurobi.Constr *Awaiting Model Update*>,\n",
       " (2, 3): <gurobi.Constr *Awaiting Model Update*>,\n",
       " (2, 4): <gurobi.Constr *Awaiting Model Update*>,\n",
       " (2, 5): <gurobi.Constr *Awaiting Model Update*>,\n",
       " (2, 6): <gurobi.Constr *Awaiting Model Update*>,\n",
       " (2, 7): <gurobi.Constr *Awaiting Model Update*>,\n",
       " (2, 8): <gurobi.Constr *Awaiting Model Update*>,\n",
       " (2, 9): <gurobi.Constr *Awaiting Model Update*>}"
      ]
     },
     "execution_count": 396,
     "metadata": {},
     "output_type": "execute_result"
    }
   ],
   "source": [
    "# add constraints and name them\n",
    "cs1.addConstrs( ( x_method1_K[i][k] ==  x_method1_T[i][k+1]\n",
    "                for k in range(5) \n",
    "                for i in product_len\n",
    "                ), \"method 1 T = K \" )\n",
    "\n",
    "cs1.addConstrs(  (x_method2_K[i][k] ==  x_method2_T[i][k+2]\n",
    "                for k in range(4) \n",
    "                for i in product_len\n",
    "                ), \"method 2 T = K \" )\n",
    "\n",
    "cs1.addConstrs(  (x_method3_K[i][k] ==  x_method3_T[i][k+3]\n",
    "                for k in range(3) \n",
    "                for i in product_len\n",
    "                ), \"method 3 T = K \" )\n",
    "\n",
    "cs1.addConstrs(  (x_method1_T[i][k]==0\n",
    "                for k in range(1) \n",
    "                for i in product_len\n",
    "                ), \"method 1  T==0 \" )\n",
    "cs1.addConstrs(  (x_method2_T[i][k]==0\n",
    "                for k in range(2) \n",
    "                for i in product_len\n",
    "                ), \"method 2  T==0 \" )\n",
    "\n",
    "cs1.addConstrs(  (x_method3_T[i][k]==0\n",
    "                for k in range(3) \n",
    "                for i in product_len\n",
    "                ), \"method 3  T==0 \" )\n",
    "\n",
    "\n",
    "cs1.addConstrs(  (x_method1_K[i][k+5]==0\n",
    "                for k in range(1) \n",
    "                for i in product_len\n",
    "                ), \"method 1  K==0 \" )\n",
    "cs1.addConstrs(  (x_method2_K[i][k+4]==0\n",
    "                for k in range(2) \n",
    "                for i in product_len\n",
    "                ), \"method 2  K==0 \" )\n",
    "\n",
    "cs1.addConstrs(  (x_method3_K[i][k+3]==0\n",
    "                for k in range(3) \n",
    "                for i in product_len\n",
    "                ), \"method 3  K==0 \" )\n"
   ]
  },
  {
   "cell_type": "code",
   "execution_count": 397,
   "metadata": {},
   "outputs": [
    {
     "name": "stdout",
     "output_type": "stream",
     "text": [
      "Gurobi Optimizer version 9.1.1 build v9.1.1rc0 (mac64)\n",
      "Thread count: 2 physical cores, 4 logical processors, using up to 4 threads\n",
      "Optimize a model with 514 rows, 684 columns and 1024 nonzeros\n",
      "Model fingerprint: 0x1cd81e1a\n",
      "Model has 170 quadratic constraints\n",
      "Model has 120 general constraints\n",
      "Variable types: 600 continuous, 84 integer (78 binary)\n",
      "Coefficient statistics:\n",
      "  Matrix range     [2e-04, 7e+03]\n",
      "  QMatrix range    [1e+00, 1e+00]\n",
      "  QLMatrix range   [5e-01, 1e+00]\n",
      "  Objective range  [4e+01, 2e+04]\n",
      "  Bounds range     [1e+00, 1e+00]\n",
      "  RHS range        [2e+02, 7e+02]\n",
      "  QRHS range       [1e+00, 2e+02]\n",
      "Presolve removed 473 rows and 505 columns\n",
      "Presolve time: 0.01s\n",
      "Presolved: 105 rows, 198 columns, 488 nonzeros\n",
      "Variable types: 165 continuous, 33 integer (30 binary)\n",
      "\n",
      "Root relaxation: objective 1.650623e+07, 30 iterations, 0.00 seconds\n",
      "\n",
      "    Nodes    |    Current Node    |     Objective Bounds      |     Work\n",
      " Expl Unexpl |  Obj  Depth IntInf | Incumbent    BestBd   Gap | It/Node Time\n",
      "\n",
      "     0     0 1.6506e+07    0    7          - 1.6506e+07      -     -    0s\n",
      "H    0     0                    1.650965e+07 1.6506e+07  0.02%     -    0s\n",
      "     0     0 1.6507e+07    0    4 1.6510e+07 1.6507e+07  0.02%     -    0s\n",
      "     0     0 1.6508e+07    0    4 1.6510e+07 1.6508e+07  0.01%     -    0s\n",
      "     0     0 1.6509e+07    0    1 1.6510e+07 1.6509e+07  0.00%     -    0s\n",
      "\n",
      "Cutting planes:\n",
      "  Gomory: 2\n",
      "  MIR: 8\n",
      "  Flow cover: 2\n",
      "  Relax-and-lift: 16\n",
      "\n",
      "Explored 1 nodes (43 simplex iterations) in 0.08 seconds\n",
      "Thread count was 4 (of 4 available processors)\n",
      "\n",
      "Solution count 1: 1.65096e+07 \n",
      "\n",
      "Optimal solution found (tolerance 1.00e-04)\n",
      "Best objective 1.650964600000e+07, best bound 1.650929068108e+07, gap 0.0022%\n"
     ]
    }
   ],
   "source": [
    "cs1.optimize()"
   ]
  },
  {
   "cell_type": "markdown",
   "metadata": {},
   "source": [
    "### 檢視結果"
   ]
  },
  {
   "cell_type": "code",
   "execution_count": 398,
   "metadata": {},
   "outputs": [
    {
     "data": {
      "text/plain": [
       "[[<gurobi.Var y1_1 (value 662.0)>,\n",
       "  <gurobi.Var y1_2 (value 607.0)>,\n",
       "  <gurobi.Var y1_3 (value 435.0)>,\n",
       "  <gurobi.Var y1_4 (value 241.0)>,\n",
       "  <gurobi.Var y1_5 (value 147.0)>,\n",
       "  <gurobi.Var y1_6 (value 0.0)>],\n",
       " [<gurobi.Var y2_1 (value 410.0)>,\n",
       "  <gurobi.Var y2_2 (value 357.0)>,\n",
       "  <gurobi.Var y2_3 (value 289.0)>,\n",
       "  <gurobi.Var y2_4 (value 104.0)>,\n",
       "  <gurobi.Var y2_5 (value 91.0)>,\n",
       "  <gurobi.Var y2_6 (value 0.0)>],\n",
       " [<gurobi.Var y3_1 (value 346.0)>,\n",
       "  <gurobi.Var y3_2 (value 167.0)>,\n",
       "  <gurobi.Var y3_3 (value 166.0)>,\n",
       "  <gurobi.Var y3_4 (value 117.0)>,\n",
       "  <gurobi.Var y3_5 (value 0.0)>,\n",
       "  <gurobi.Var y3_6 (value 0.0)>],\n",
       " [<gurobi.Var y4_1 (value 208.0)>,\n",
       "  <gurobi.Var y4_2 (value 258.0)>,\n",
       "  <gurobi.Var y4_3 (value 180.0)>,\n",
       "  <gurobi.Var y4_4 (value 49.0)>,\n",
       "  <gurobi.Var y4_5 (value 0.0)>,\n",
       "  <gurobi.Var y4_6 (value 0.0)>],\n",
       " [<gurobi.Var y5_1 (value 365.0)>,\n",
       "  <gurobi.Var y5_2 (value 303.0)>,\n",
       "  <gurobi.Var y5_3 (value 220.0)>,\n",
       "  <gurobi.Var y5_4 (value 130.0)>,\n",
       "  <gurobi.Var y5_5 (value 0.0)>,\n",
       "  <gurobi.Var y5_6 (value 0.0)>],\n",
       " [<gurobi.Var y6_1 (value 433.0)>,\n",
       "  <gurobi.Var y6_2 (value 356.0)>,\n",
       "  <gurobi.Var y6_3 (value 272.0)>,\n",
       "  <gurobi.Var y6_4 (value 145.0)>,\n",
       "  <gurobi.Var y6_5 (value 29.0)>,\n",
       "  <gurobi.Var y6_6 (value 0.0)>],\n",
       " [<gurobi.Var y7_1 (value 348.0)>,\n",
       "  <gurobi.Var y7_2 (value 212.0)>,\n",
       "  <gurobi.Var y7_3 (value 238.0)>,\n",
       "  <gurobi.Var y7_4 (value 122.0)>,\n",
       "  <gurobi.Var y7_5 (value 3.0)>,\n",
       "  <gurobi.Var y7_6 (value 0.0)>],\n",
       " [<gurobi.Var y8_1 (value 181.0)>,\n",
       "  <gurobi.Var y8_2 (value 26.0)>,\n",
       "  <gurobi.Var y8_3 (value 16.0)>,\n",
       "  <gurobi.Var y8_4 (value 0.0)>,\n",
       "  <gurobi.Var y8_5 (value 0.0)>,\n",
       "  <gurobi.Var y8_6 (value 0.0)>],\n",
       " [<gurobi.Var y9_1 (value 565.0)>,\n",
       "  <gurobi.Var y9_2 (value 489.0)>,\n",
       "  <gurobi.Var y9_3 (value 335.0)>,\n",
       "  <gurobi.Var y9_4 (value 159.0)>,\n",
       "  <gurobi.Var y9_5 (value 78.0)>,\n",
       "  <gurobi.Var y9_6 (value 0.0)>],\n",
       " [<gurobi.Var y10_1 (value 154.0)>,\n",
       "  <gurobi.Var y10_2 (value 0.0)>,\n",
       "  <gurobi.Var y10_3 (value 0.0)>,\n",
       "  <gurobi.Var y10_4 (value 0.0)>,\n",
       "  <gurobi.Var y10_5 (value 0.0)>,\n",
       "  <gurobi.Var y10_6 (value 0.0)>]]"
      ]
     },
     "execution_count": 398,
     "metadata": {},
     "output_type": "execute_result"
    }
   ],
   "source": [
    "y"
   ]
  },
  {
   "cell_type": "code",
   "execution_count": 399,
   "metadata": {},
   "outputs": [
    {
     "data": {
      "text/plain": [
       "[[<gurobi.Var x_method1 K1_1 (value 0.0)>,\n",
       "  <gurobi.Var x_method1 K1_2 (value 0.0)>,\n",
       "  <gurobi.Var x_method1 K1_3 (value 0.0)>,\n",
       "  <gurobi.Var x_method1 K1_4 (value 0.0)>,\n",
       "  <gurobi.Var x_method1 K1_5 (value 0.0)>,\n",
       "  <gurobi.Var x_method1 K1_6 (value 0.0)>],\n",
       " [<gurobi.Var x_method1 K2_1 (value 0.0)>,\n",
       "  <gurobi.Var x_method1 K2_2 (value 0.0)>,\n",
       "  <gurobi.Var x_method1 K2_3 (value 0.0)>,\n",
       "  <gurobi.Var x_method1 K2_4 (value 0.0)>,\n",
       "  <gurobi.Var x_method1 K2_5 (value 0.0)>,\n",
       "  <gurobi.Var x_method1 K2_6 (value 0.0)>],\n",
       " [<gurobi.Var x_method1 K3_1 (value 0.0)>,\n",
       "  <gurobi.Var x_method1 K3_2 (value 0.0)>,\n",
       "  <gurobi.Var x_method1 K3_3 (value 0.0)>,\n",
       "  <gurobi.Var x_method1 K3_4 (value 0.0)>,\n",
       "  <gurobi.Var x_method1 K3_5 (value 0.0)>,\n",
       "  <gurobi.Var x_method1 K3_6 (value 0.0)>],\n",
       " [<gurobi.Var x_method1 K4_1 (value 0.0)>,\n",
       "  <gurobi.Var x_method1 K4_2 (value 0.0)>,\n",
       "  <gurobi.Var x_method1 K4_3 (value 0.0)>,\n",
       "  <gurobi.Var x_method1 K4_4 (value 0.0)>,\n",
       "  <gurobi.Var x_method1 K4_5 (value 0.0)>,\n",
       "  <gurobi.Var x_method1 K4_6 (value 0.0)>],\n",
       " [<gurobi.Var x_method1 K5_1 (value 0.0)>,\n",
       "  <gurobi.Var x_method1 K5_2 (value 0.0)>,\n",
       "  <gurobi.Var x_method1 K5_3 (value 0.0)>,\n",
       "  <gurobi.Var x_method1 K5_4 (value 0.0)>,\n",
       "  <gurobi.Var x_method1 K5_5 (value 0.0)>,\n",
       "  <gurobi.Var x_method1 K5_6 (value 0.0)>],\n",
       " [<gurobi.Var x_method1 K6_1 (value 0.0)>,\n",
       "  <gurobi.Var x_method1 K6_2 (value 0.0)>,\n",
       "  <gurobi.Var x_method1 K6_3 (value 0.0)>,\n",
       "  <gurobi.Var x_method1 K6_4 (value 0.0)>,\n",
       "  <gurobi.Var x_method1 K6_5 (value 0.0)>,\n",
       "  <gurobi.Var x_method1 K6_6 (value 0.0)>],\n",
       " [<gurobi.Var x_method1 K7_1 (value 0.0)>,\n",
       "  <gurobi.Var x_method1 K7_2 (value 0.0)>,\n",
       "  <gurobi.Var x_method1 K7_3 (value 0.0)>,\n",
       "  <gurobi.Var x_method1 K7_4 (value 0.0)>,\n",
       "  <gurobi.Var x_method1 K7_5 (value 0.0)>,\n",
       "  <gurobi.Var x_method1 K7_6 (value 0.0)>],\n",
       " [<gurobi.Var x_method1 K8_1 (value 0.0)>,\n",
       "  <gurobi.Var x_method1 K8_2 (value 0.0)>,\n",
       "  <gurobi.Var x_method1 K8_3 (value 0.0)>,\n",
       "  <gurobi.Var x_method1 K8_4 (value 0.0)>,\n",
       "  <gurobi.Var x_method1 K8_5 (value 0.0)>,\n",
       "  <gurobi.Var x_method1 K8_6 (value 0.0)>],\n",
       " [<gurobi.Var x_method1 K9_1 (value 0.0)>,\n",
       "  <gurobi.Var x_method1 K9_2 (value 0.0)>,\n",
       "  <gurobi.Var x_method1 K9_3 (value 0.0)>,\n",
       "  <gurobi.Var x_method1 K9_4 (value 0.0)>,\n",
       "  <gurobi.Var x_method1 K9_5 (value 0.0)>,\n",
       "  <gurobi.Var x_method1 K9_6 (value 0.0)>],\n",
       " [<gurobi.Var x_method1 K10_1 (value 24.0)>,\n",
       "  <gurobi.Var x_method1 K10_2 (value 0.0)>,\n",
       "  <gurobi.Var x_method1 K10_3 (value 0.0)>,\n",
       "  <gurobi.Var x_method1 K10_4 (value 0.0)>,\n",
       "  <gurobi.Var x_method1 K10_5 (value 0.0)>,\n",
       "  <gurobi.Var x_method1 K10_6 (value 0.0)>]]"
      ]
     },
     "execution_count": 399,
     "metadata": {},
     "output_type": "execute_result"
    }
   ],
   "source": [
    "x_method1_K"
   ]
  },
  {
   "cell_type": "code",
   "execution_count": 400,
   "metadata": {},
   "outputs": [
    {
     "data": {
      "text/plain": [
       "[[<gurobi.Var x_method2 K1_1 (value 0.0)>,\n",
       "  <gurobi.Var x_method2 K1_2 (value 0.0)>,\n",
       "  <gurobi.Var x_method2 K1_3 (value 0.0)>,\n",
       "  <gurobi.Var x_method2 K1_4 (value 0.0)>,\n",
       "  <gurobi.Var x_method2 K1_5 (value 0.0)>,\n",
       "  <gurobi.Var x_method2 K1_6 (value 0.0)>],\n",
       " [<gurobi.Var x_method2 K2_1 (value 0.0)>,\n",
       "  <gurobi.Var x_method2 K2_2 (value 0.0)>,\n",
       "  <gurobi.Var x_method2 K2_3 (value 0.0)>,\n",
       "  <gurobi.Var x_method2 K2_4 (value 0.0)>,\n",
       "  <gurobi.Var x_method2 K2_5 (value 0.0)>,\n",
       "  <gurobi.Var x_method2 K2_6 (value 0.0)>],\n",
       " [<gurobi.Var x_method2 K3_1 (value 0.0)>,\n",
       "  <gurobi.Var x_method2 K3_2 (value 0.0)>,\n",
       "  <gurobi.Var x_method2 K3_3 (value 0.0)>,\n",
       "  <gurobi.Var x_method2 K3_4 (value 0.0)>,\n",
       "  <gurobi.Var x_method2 K3_5 (value 0.0)>,\n",
       "  <gurobi.Var x_method2 K3_6 (value 0.0)>],\n",
       " [<gurobi.Var x_method2 K4_1 (value 0.0)>,\n",
       "  <gurobi.Var x_method2 K4_2 (value 0.0)>,\n",
       "  <gurobi.Var x_method2 K4_3 (value 0.0)>,\n",
       "  <gurobi.Var x_method2 K4_4 (value 0.0)>,\n",
       "  <gurobi.Var x_method2 K4_5 (value 0.0)>,\n",
       "  <gurobi.Var x_method2 K4_6 (value 0.0)>],\n",
       " [<gurobi.Var x_method2 K5_1 (value 0.0)>,\n",
       "  <gurobi.Var x_method2 K5_2 (value 0.0)>,\n",
       "  <gurobi.Var x_method2 K5_3 (value 0.0)>,\n",
       "  <gurobi.Var x_method2 K5_4 (value 0.0)>,\n",
       "  <gurobi.Var x_method2 K5_5 (value 0.0)>,\n",
       "  <gurobi.Var x_method2 K5_6 (value 0.0)>],\n",
       " [<gurobi.Var x_method2 K6_1 (value 0.0)>,\n",
       "  <gurobi.Var x_method2 K6_2 (value 0.0)>,\n",
       "  <gurobi.Var x_method2 K6_3 (value 0.0)>,\n",
       "  <gurobi.Var x_method2 K6_4 (value 0.0)>,\n",
       "  <gurobi.Var x_method2 K6_5 (value 0.0)>,\n",
       "  <gurobi.Var x_method2 K6_6 (value 0.0)>],\n",
       " [<gurobi.Var x_method2 K7_1 (value 0.0)>,\n",
       "  <gurobi.Var x_method2 K7_2 (value 0.0)>,\n",
       "  <gurobi.Var x_method2 K7_3 (value 0.0)>,\n",
       "  <gurobi.Var x_method2 K7_4 (value 0.0)>,\n",
       "  <gurobi.Var x_method2 K7_5 (value 0.0)>,\n",
       "  <gurobi.Var x_method2 K7_6 (value 0.0)>],\n",
       " [<gurobi.Var x_method2 K8_1 (value 0.0)>,\n",
       "  <gurobi.Var x_method2 K8_2 (value 0.0)>,\n",
       "  <gurobi.Var x_method2 K8_3 (value 0.0)>,\n",
       "  <gurobi.Var x_method2 K8_4 (value 0.0)>,\n",
       "  <gurobi.Var x_method2 K8_5 (value 0.0)>,\n",
       "  <gurobi.Var x_method2 K8_6 (value 0.0)>],\n",
       " [<gurobi.Var x_method2 K9_1 (value 0.0)>,\n",
       "  <gurobi.Var x_method2 K9_2 (value 0.0)>,\n",
       "  <gurobi.Var x_method2 K9_3 (value 0.0)>,\n",
       "  <gurobi.Var x_method2 K9_4 (value 0.0)>,\n",
       "  <gurobi.Var x_method2 K9_5 (value 0.0)>,\n",
       "  <gurobi.Var x_method2 K9_6 (value 0.0)>],\n",
       " [<gurobi.Var x_method2 K10_1 (value 162.0)>,\n",
       "  <gurobi.Var x_method2 K10_2 (value 0.0)>,\n",
       "  <gurobi.Var x_method2 K10_3 (value 0.0)>,\n",
       "  <gurobi.Var x_method2 K10_4 (value 0.0)>,\n",
       "  <gurobi.Var x_method2 K10_5 (value 0.0)>,\n",
       "  <gurobi.Var x_method2 K10_6 (value 0.0)>]]"
      ]
     },
     "execution_count": 400,
     "metadata": {},
     "output_type": "execute_result"
    }
   ],
   "source": [
    "x_method2_K"
   ]
  },
  {
   "cell_type": "code",
   "execution_count": 401,
   "metadata": {},
   "outputs": [
    {
     "data": {
      "text/plain": [
       "[[<gurobi.Var x_method3 K1_1 (value 0.0)>,\n",
       "  <gurobi.Var x_method3 K1_2 (value 0.0)>,\n",
       "  <gurobi.Var x_method3 K1_3 (value 38.0)>,\n",
       "  <gurobi.Var x_method3 K1_4 (value 0.0)>,\n",
       "  <gurobi.Var x_method3 K1_5 (value 0.0)>,\n",
       "  <gurobi.Var x_method3 K1_6 (value 0.0)>],\n",
       " [<gurobi.Var x_method3 K2_1 (value 0.0)>,\n",
       "  <gurobi.Var x_method3 K2_2 (value 0.0)>,\n",
       "  <gurobi.Var x_method3 K2_3 (value 45.0)>,\n",
       "  <gurobi.Var x_method3 K2_4 (value 0.0)>,\n",
       "  <gurobi.Var x_method3 K2_5 (value 0.0)>,\n",
       "  <gurobi.Var x_method3 K2_6 (value 0.0)>],\n",
       " [<gurobi.Var x_method3 K3_1 (value 0.0)>,\n",
       "  <gurobi.Var x_method3 K3_2 (value 82.0)>,\n",
       "  <gurobi.Var x_method3 K3_3 (value 200.0)>,\n",
       "  <gurobi.Var x_method3 K3_4 (value 0.0)>,\n",
       "  <gurobi.Var x_method3 K3_5 (value 0.0)>,\n",
       "  <gurobi.Var x_method3 K3_6 (value 0.0)>],\n",
       " [<gurobi.Var x_method3 K4_1 (value 0.0)>,\n",
       "  <gurobi.Var x_method3 K4_2 (value 97.0)>,\n",
       "  <gurobi.Var x_method3 K4_3 (value 155.0)>,\n",
       "  <gurobi.Var x_method3 K4_4 (value 0.0)>,\n",
       "  <gurobi.Var x_method3 K4_5 (value 0.0)>,\n",
       "  <gurobi.Var x_method3 K4_6 (value 0.0)>],\n",
       " [<gurobi.Var x_method3 K5_1 (value 0.0)>,\n",
       "  <gurobi.Var x_method3 K5_2 (value 67.0)>,\n",
       "  <gurobi.Var x_method3 K5_3 (value 49.0)>,\n",
       "  <gurobi.Var x_method3 K5_4 (value 0.0)>,\n",
       "  <gurobi.Var x_method3 K5_5 (value 0.0)>,\n",
       "  <gurobi.Var x_method3 K5_6 (value 0.0)>],\n",
       " [<gurobi.Var x_method3 K6_1 (value 0.0)>,\n",
       "  <gurobi.Var x_method3 K6_2 (value 0.0)>,\n",
       "  <gurobi.Var x_method3 K6_3 (value 154.0)>,\n",
       "  <gurobi.Var x_method3 K6_4 (value 0.0)>,\n",
       "  <gurobi.Var x_method3 K6_5 (value 0.0)>,\n",
       "  <gurobi.Var x_method3 K6_6 (value 0.0)>],\n",
       " [<gurobi.Var x_method3 K7_1 (value 0.0)>,\n",
       "  <gurobi.Var x_method3 K7_2 (value 0.0)>,\n",
       "  <gurobi.Var x_method3 K7_3 (value 172.0)>,\n",
       "  <gurobi.Var x_method3 K7_4 (value 0.0)>,\n",
       "  <gurobi.Var x_method3 K7_5 (value 0.0)>,\n",
       "  <gurobi.Var x_method3 K7_6 (value 0.0)>],\n",
       " [<gurobi.Var x_method3 K8_1 (value 61.0)>,\n",
       "  <gurobi.Var x_method3 K8_2 (value 168.0)>,\n",
       "  <gurobi.Var x_method3 K8_3 (value 32.0)>,\n",
       "  <gurobi.Var x_method3 K8_4 (value 0.0)>,\n",
       "  <gurobi.Var x_method3 K8_5 (value 0.0)>,\n",
       "  <gurobi.Var x_method3 K8_6 (value 0.0)>],\n",
       " [<gurobi.Var x_method3 K9_1 (value 0.0)>,\n",
       "  <gurobi.Var x_method3 K9_2 (value 0.0)>,\n",
       "  <gurobi.Var x_method3 K9_3 (value 94.0)>,\n",
       "  <gurobi.Var x_method3 K9_4 (value 0.0)>,\n",
       "  <gurobi.Var x_method3 K9_5 (value 0.0)>,\n",
       "  <gurobi.Var x_method3 K9_6 (value 0.0)>],\n",
       " [<gurobi.Var x_method3 K10_1 (value 200.0)>,\n",
       "  <gurobi.Var x_method3 K10_2 (value 154.0)>,\n",
       "  <gurobi.Var x_method3 K10_3 (value 199.0)>,\n",
       "  <gurobi.Var x_method3 K10_4 (value 0.0)>,\n",
       "  <gurobi.Var x_method3 K10_5 (value 0.0)>,\n",
       "  <gurobi.Var x_method3 K10_6 (value 0.0)>]]"
      ]
     },
     "execution_count": 401,
     "metadata": {},
     "output_type": "execute_result"
    }
   ],
   "source": [
    "x_method3_K"
   ]
  },
  {
   "cell_type": "code",
   "execution_count": 402,
   "metadata": {},
   "outputs": [
    {
     "data": {
      "text/plain": [
       "[[<gurobi.Var x_method1 T1_1 (value 0.0)>,\n",
       "  <gurobi.Var x_method1 T1_2 (value 0.0)>,\n",
       "  <gurobi.Var x_method1 T1_3 (value 0.0)>,\n",
       "  <gurobi.Var x_method1 T1_4 (value 0.0)>,\n",
       "  <gurobi.Var x_method1 T1_5 (value 0.0)>,\n",
       "  <gurobi.Var x_method1 T1_6 (value 0.0)>],\n",
       " [<gurobi.Var x_method1 T2_1 (value 0.0)>,\n",
       "  <gurobi.Var x_method1 T2_2 (value 0.0)>,\n",
       "  <gurobi.Var x_method1 T2_3 (value 0.0)>,\n",
       "  <gurobi.Var x_method1 T2_4 (value 0.0)>,\n",
       "  <gurobi.Var x_method1 T2_5 (value 0.0)>,\n",
       "  <gurobi.Var x_method1 T2_6 (value 0.0)>],\n",
       " [<gurobi.Var x_method1 T3_1 (value 0.0)>,\n",
       "  <gurobi.Var x_method1 T3_2 (value 0.0)>,\n",
       "  <gurobi.Var x_method1 T3_3 (value 0.0)>,\n",
       "  <gurobi.Var x_method1 T3_4 (value 0.0)>,\n",
       "  <gurobi.Var x_method1 T3_5 (value 0.0)>,\n",
       "  <gurobi.Var x_method1 T3_6 (value 0.0)>],\n",
       " [<gurobi.Var x_method1 T4_1 (value 0.0)>,\n",
       "  <gurobi.Var x_method1 T4_2 (value 0.0)>,\n",
       "  <gurobi.Var x_method1 T4_3 (value 0.0)>,\n",
       "  <gurobi.Var x_method1 T4_4 (value 0.0)>,\n",
       "  <gurobi.Var x_method1 T4_5 (value 0.0)>,\n",
       "  <gurobi.Var x_method1 T4_6 (value 0.0)>],\n",
       " [<gurobi.Var x_method1 T5_1 (value 0.0)>,\n",
       "  <gurobi.Var x_method1 T5_2 (value 0.0)>,\n",
       "  <gurobi.Var x_method1 T5_3 (value 0.0)>,\n",
       "  <gurobi.Var x_method1 T5_4 (value 0.0)>,\n",
       "  <gurobi.Var x_method1 T5_5 (value 0.0)>,\n",
       "  <gurobi.Var x_method1 T5_6 (value 0.0)>],\n",
       " [<gurobi.Var x_method1 T6_1 (value 0.0)>,\n",
       "  <gurobi.Var x_method1 T6_2 (value 0.0)>,\n",
       "  <gurobi.Var x_method1 T6_3 (value 0.0)>,\n",
       "  <gurobi.Var x_method1 T6_4 (value 0.0)>,\n",
       "  <gurobi.Var x_method1 T6_5 (value 0.0)>,\n",
       "  <gurobi.Var x_method1 T6_6 (value 0.0)>],\n",
       " [<gurobi.Var x_method1 T7_1 (value 0.0)>,\n",
       "  <gurobi.Var x_method1 T7_2 (value 0.0)>,\n",
       "  <gurobi.Var x_method1 T7_3 (value 0.0)>,\n",
       "  <gurobi.Var x_method1 T7_4 (value 0.0)>,\n",
       "  <gurobi.Var x_method1 T7_5 (value 0.0)>,\n",
       "  <gurobi.Var x_method1 T7_6 (value 0.0)>],\n",
       " [<gurobi.Var x_method1 T8_1 (value 0.0)>,\n",
       "  <gurobi.Var x_method1 T8_2 (value 0.0)>,\n",
       "  <gurobi.Var x_method1 T8_3 (value 0.0)>,\n",
       "  <gurobi.Var x_method1 T8_4 (value 0.0)>,\n",
       "  <gurobi.Var x_method1 T8_5 (value 0.0)>,\n",
       "  <gurobi.Var x_method1 T8_6 (value 0.0)>],\n",
       " [<gurobi.Var x_method1 T9_1 (value 0.0)>,\n",
       "  <gurobi.Var x_method1 T9_2 (value 0.0)>,\n",
       "  <gurobi.Var x_method1 T9_3 (value 0.0)>,\n",
       "  <gurobi.Var x_method1 T9_4 (value 0.0)>,\n",
       "  <gurobi.Var x_method1 T9_5 (value 0.0)>,\n",
       "  <gurobi.Var x_method1 T9_6 (value 0.0)>],\n",
       " [<gurobi.Var x_method1 T10_1 (value 0.0)>,\n",
       "  <gurobi.Var x_method1 T10_2 (value 24.0)>,\n",
       "  <gurobi.Var x_method1 T10_3 (value 0.0)>,\n",
       "  <gurobi.Var x_method1 T10_4 (value 0.0)>,\n",
       "  <gurobi.Var x_method1 T10_5 (value 0.0)>,\n",
       "  <gurobi.Var x_method1 T10_6 (value 0.0)>]]"
      ]
     },
     "execution_count": 402,
     "metadata": {},
     "output_type": "execute_result"
    }
   ],
   "source": [
    "x_method1_T"
   ]
  },
  {
   "cell_type": "code",
   "execution_count": 403,
   "metadata": {},
   "outputs": [
    {
     "data": {
      "text/plain": [
       "[[<gurobi.Var x_method2 T1_1 (value 0.0)>,\n",
       "  <gurobi.Var x_method2 T1_2 (value 0.0)>,\n",
       "  <gurobi.Var x_method2 T1_3 (value 0.0)>,\n",
       "  <gurobi.Var x_method2 T1_4 (value 0.0)>,\n",
       "  <gurobi.Var x_method2 T1_5 (value 0.0)>,\n",
       "  <gurobi.Var x_method2 T1_6 (value 0.0)>],\n",
       " [<gurobi.Var x_method2 T2_1 (value 0.0)>,\n",
       "  <gurobi.Var x_method2 T2_2 (value 0.0)>,\n",
       "  <gurobi.Var x_method2 T2_3 (value 0.0)>,\n",
       "  <gurobi.Var x_method2 T2_4 (value 0.0)>,\n",
       "  <gurobi.Var x_method2 T2_5 (value 0.0)>,\n",
       "  <gurobi.Var x_method2 T2_6 (value 0.0)>],\n",
       " [<gurobi.Var x_method2 T3_1 (value 0.0)>,\n",
       "  <gurobi.Var x_method2 T3_2 (value 0.0)>,\n",
       "  <gurobi.Var x_method2 T3_3 (value 0.0)>,\n",
       "  <gurobi.Var x_method2 T3_4 (value 0.0)>,\n",
       "  <gurobi.Var x_method2 T3_5 (value 0.0)>,\n",
       "  <gurobi.Var x_method2 T3_6 (value 0.0)>],\n",
       " [<gurobi.Var x_method2 T4_1 (value 0.0)>,\n",
       "  <gurobi.Var x_method2 T4_2 (value 0.0)>,\n",
       "  <gurobi.Var x_method2 T4_3 (value 0.0)>,\n",
       "  <gurobi.Var x_method2 T4_4 (value 0.0)>,\n",
       "  <gurobi.Var x_method2 T4_5 (value 0.0)>,\n",
       "  <gurobi.Var x_method2 T4_6 (value 0.0)>],\n",
       " [<gurobi.Var x_method2 T5_1 (value 0.0)>,\n",
       "  <gurobi.Var x_method2 T5_2 (value 0.0)>,\n",
       "  <gurobi.Var x_method2 T5_3 (value 0.0)>,\n",
       "  <gurobi.Var x_method2 T5_4 (value 0.0)>,\n",
       "  <gurobi.Var x_method2 T5_5 (value 0.0)>,\n",
       "  <gurobi.Var x_method2 T5_6 (value 0.0)>],\n",
       " [<gurobi.Var x_method2 T6_1 (value 0.0)>,\n",
       "  <gurobi.Var x_method2 T6_2 (value 0.0)>,\n",
       "  <gurobi.Var x_method2 T6_3 (value 0.0)>,\n",
       "  <gurobi.Var x_method2 T6_4 (value 0.0)>,\n",
       "  <gurobi.Var x_method2 T6_5 (value 0.0)>,\n",
       "  <gurobi.Var x_method2 T6_6 (value 0.0)>],\n",
       " [<gurobi.Var x_method2 T7_1 (value 0.0)>,\n",
       "  <gurobi.Var x_method2 T7_2 (value 0.0)>,\n",
       "  <gurobi.Var x_method2 T7_3 (value 0.0)>,\n",
       "  <gurobi.Var x_method2 T7_4 (value 0.0)>,\n",
       "  <gurobi.Var x_method2 T7_5 (value 0.0)>,\n",
       "  <gurobi.Var x_method2 T7_6 (value 0.0)>],\n",
       " [<gurobi.Var x_method2 T8_1 (value 0.0)>,\n",
       "  <gurobi.Var x_method2 T8_2 (value 0.0)>,\n",
       "  <gurobi.Var x_method2 T8_3 (value 0.0)>,\n",
       "  <gurobi.Var x_method2 T8_4 (value 0.0)>,\n",
       "  <gurobi.Var x_method2 T8_5 (value 0.0)>,\n",
       "  <gurobi.Var x_method2 T8_6 (value 0.0)>],\n",
       " [<gurobi.Var x_method2 T9_1 (value 0.0)>,\n",
       "  <gurobi.Var x_method2 T9_2 (value 0.0)>,\n",
       "  <gurobi.Var x_method2 T9_3 (value 0.0)>,\n",
       "  <gurobi.Var x_method2 T9_4 (value 0.0)>,\n",
       "  <gurobi.Var x_method2 T9_5 (value 0.0)>,\n",
       "  <gurobi.Var x_method2 T9_6 (value 0.0)>],\n",
       " [<gurobi.Var x_method2 T10_1 (value 0.0)>,\n",
       "  <gurobi.Var x_method2 T10_2 (value 0.0)>,\n",
       "  <gurobi.Var x_method2 T10_3 (value 162.0)>,\n",
       "  <gurobi.Var x_method2 T10_4 (value 0.0)>,\n",
       "  <gurobi.Var x_method2 T10_5 (value 0.0)>,\n",
       "  <gurobi.Var x_method2 T10_6 (value 0.0)>]]"
      ]
     },
     "execution_count": 403,
     "metadata": {},
     "output_type": "execute_result"
    }
   ],
   "source": [
    "x_method2_T"
   ]
  },
  {
   "cell_type": "code",
   "execution_count": 404,
   "metadata": {},
   "outputs": [
    {
     "data": {
      "text/plain": [
       "[[<gurobi.Var x_method3 T1_1 (value 0.0)>,\n",
       "  <gurobi.Var x_method3 T1_2 (value 0.0)>,\n",
       "  <gurobi.Var x_method3 T1_3 (value 0.0)>,\n",
       "  <gurobi.Var x_method3 T1_4 (value 0.0)>,\n",
       "  <gurobi.Var x_method3 T1_5 (value 0.0)>,\n",
       "  <gurobi.Var x_method3 T1_6 (value 38.0)>],\n",
       " [<gurobi.Var x_method3 T2_1 (value 0.0)>,\n",
       "  <gurobi.Var x_method3 T2_2 (value 0.0)>,\n",
       "  <gurobi.Var x_method3 T2_3 (value 0.0)>,\n",
       "  <gurobi.Var x_method3 T2_4 (value 0.0)>,\n",
       "  <gurobi.Var x_method3 T2_5 (value 0.0)>,\n",
       "  <gurobi.Var x_method3 T2_6 (value 45.0)>],\n",
       " [<gurobi.Var x_method3 T3_1 (value 0.0)>,\n",
       "  <gurobi.Var x_method3 T3_2 (value 0.0)>,\n",
       "  <gurobi.Var x_method3 T3_3 (value 0.0)>,\n",
       "  <gurobi.Var x_method3 T3_4 (value 0.0)>,\n",
       "  <gurobi.Var x_method3 T3_5 (value 82.0)>,\n",
       "  <gurobi.Var x_method3 T3_6 (value 200.0)>],\n",
       " [<gurobi.Var x_method3 T4_1 (value 0.0)>,\n",
       "  <gurobi.Var x_method3 T4_2 (value 0.0)>,\n",
       "  <gurobi.Var x_method3 T4_3 (value 0.0)>,\n",
       "  <gurobi.Var x_method3 T4_4 (value 0.0)>,\n",
       "  <gurobi.Var x_method3 T4_5 (value 97.0)>,\n",
       "  <gurobi.Var x_method3 T4_6 (value 155.0)>],\n",
       " [<gurobi.Var x_method3 T5_1 (value 0.0)>,\n",
       "  <gurobi.Var x_method3 T5_2 (value 0.0)>,\n",
       "  <gurobi.Var x_method3 T5_3 (value 0.0)>,\n",
       "  <gurobi.Var x_method3 T5_4 (value 0.0)>,\n",
       "  <gurobi.Var x_method3 T5_5 (value 67.0)>,\n",
       "  <gurobi.Var x_method3 T5_6 (value 49.0)>],\n",
       " [<gurobi.Var x_method3 T6_1 (value 0.0)>,\n",
       "  <gurobi.Var x_method3 T6_2 (value 0.0)>,\n",
       "  <gurobi.Var x_method3 T6_3 (value 0.0)>,\n",
       "  <gurobi.Var x_method3 T6_4 (value 0.0)>,\n",
       "  <gurobi.Var x_method3 T6_5 (value 0.0)>,\n",
       "  <gurobi.Var x_method3 T6_6 (value 154.0)>],\n",
       " [<gurobi.Var x_method3 T7_1 (value 0.0)>,\n",
       "  <gurobi.Var x_method3 T7_2 (value 0.0)>,\n",
       "  <gurobi.Var x_method3 T7_3 (value 0.0)>,\n",
       "  <gurobi.Var x_method3 T7_4 (value 0.0)>,\n",
       "  <gurobi.Var x_method3 T7_5 (value 0.0)>,\n",
       "  <gurobi.Var x_method3 T7_6 (value 172.0)>],\n",
       " [<gurobi.Var x_method3 T8_1 (value 0.0)>,\n",
       "  <gurobi.Var x_method3 T8_2 (value 0.0)>,\n",
       "  <gurobi.Var x_method3 T8_3 (value 0.0)>,\n",
       "  <gurobi.Var x_method3 T8_4 (value 61.0)>,\n",
       "  <gurobi.Var x_method3 T8_5 (value 168.0)>,\n",
       "  <gurobi.Var x_method3 T8_6 (value 32.0)>],\n",
       " [<gurobi.Var x_method3 T9_1 (value 0.0)>,\n",
       "  <gurobi.Var x_method3 T9_2 (value 0.0)>,\n",
       "  <gurobi.Var x_method3 T9_3 (value 0.0)>,\n",
       "  <gurobi.Var x_method3 T9_4 (value 0.0)>,\n",
       "  <gurobi.Var x_method3 T9_5 (value 0.0)>,\n",
       "  <gurobi.Var x_method3 T9_6 (value 94.0)>],\n",
       " [<gurobi.Var x_method3 T10_1 (value 0.0)>,\n",
       "  <gurobi.Var x_method3 T10_2 (value 0.0)>,\n",
       "  <gurobi.Var x_method3 T10_3 (value 0.0)>,\n",
       "  <gurobi.Var x_method3 T10_4 (value 200.0)>,\n",
       "  <gurobi.Var x_method3 T10_5 (value 154.0)>,\n",
       "  <gurobi.Var x_method3 T10_6 (value 199.0)>]]"
      ]
     },
     "execution_count": 404,
     "metadata": {},
     "output_type": "execute_result"
    }
   ],
   "source": [
    "x_method3_T"
   ]
  },
  {
   "cell_type": "code",
   "execution_count": 405,
   "metadata": {},
   "outputs": [
    {
     "data": {
      "text/plain": [
       "[[<gurobi.Var z1_1 (value 1.0)>,\n",
       "  <gurobi.Var z1_2 (value -0.0)>,\n",
       "  <gurobi.Var z1_3 (value -0.0)>,\n",
       "  <gurobi.Var z1_4 (value -0.0)>,\n",
       "  <gurobi.Var z1_5 (value -0.0)>,\n",
       "  <gurobi.Var z1_6 (value 0.0)>],\n",
       " [<gurobi.Var z2_1 (value 1.0)>,\n",
       "  <gurobi.Var z2_2 (value -0.0)>,\n",
       "  <gurobi.Var z2_3 (value -0.0)>,\n",
       "  <gurobi.Var z2_4 (value -0.0)>,\n",
       "  <gurobi.Var z2_5 (value 0.0)>,\n",
       "  <gurobi.Var z2_6 (value 0.0)>],\n",
       " [<gurobi.Var z3_1 (value 1.0)>,\n",
       "  <gurobi.Var z3_2 (value 1.0)>,\n",
       "  <gurobi.Var z3_3 (value 1.0)>,\n",
       "  <gurobi.Var z3_4 (value 0.0)>,\n",
       "  <gurobi.Var z3_5 (value 0.0)>,\n",
       "  <gurobi.Var z3_6 (value 0.0)>]]"
      ]
     },
     "execution_count": 405,
     "metadata": {},
     "output_type": "execute_result"
    }
   ],
   "source": [
    "z"
   ]
  },
  {
   "cell_type": "code",
   "execution_count": 406,
   "metadata": {},
   "outputs": [
    {
     "data": {
      "text/plain": [
       "[<gurobi.Var w1 (value 1.0)>,\n",
       " <gurobi.Var w2 (value 2.0)>,\n",
       " <gurobi.Var w3 (value 3.0)>,\n",
       " <gurobi.Var w4 (value -0.0)>,\n",
       " <gurobi.Var w5 (value -0.0)>,\n",
       " <gurobi.Var w6 (value -0.0)>]"
      ]
     },
     "execution_count": 406,
     "metadata": {},
     "output_type": "execute_result"
    }
   ],
   "source": [
    "w"
   ]
  },
  {
   "cell_type": "code",
   "execution_count": 407,
   "metadata": {},
   "outputs": [
    {
     "data": {
      "text/plain": [
       "[[<gurobi.Var u1_1 (value 0.0)>,\n",
       "  <gurobi.Var u1_2 (value 0.0)>,\n",
       "  <gurobi.Var u1_3 (value 0.0)>,\n",
       "  <gurobi.Var u1_4 (value 0.0)>,\n",
       "  <gurobi.Var u1_5 (value 0.0)>,\n",
       "  <gurobi.Var u1_6 (value 0.0)>],\n",
       " [<gurobi.Var u2_1 (value 0.0)>,\n",
       "  <gurobi.Var u2_2 (value 0.0)>,\n",
       "  <gurobi.Var u2_3 (value 0.0)>,\n",
       "  <gurobi.Var u2_4 (value 0.0)>,\n",
       "  <gurobi.Var u2_5 (value 0.0)>,\n",
       "  <gurobi.Var u2_6 (value 0.0)>],\n",
       " [<gurobi.Var u3_1 (value 0.0)>,\n",
       "  <gurobi.Var u3_2 (value 0.0)>,\n",
       "  <gurobi.Var u3_3 (value 0.0)>,\n",
       "  <gurobi.Var u3_4 (value 0.0)>,\n",
       "  <gurobi.Var u3_5 (value 0.0)>,\n",
       "  <gurobi.Var u3_6 (value 0.0)>],\n",
       " [<gurobi.Var u4_1 (value 0.0)>,\n",
       "  <gurobi.Var u4_2 (value 0.0)>,\n",
       "  <gurobi.Var u4_3 (value 0.0)>,\n",
       "  <gurobi.Var u4_4 (value 0.0)>,\n",
       "  <gurobi.Var u4_5 (value 0.0)>,\n",
       "  <gurobi.Var u4_6 (value 0.0)>],\n",
       " [<gurobi.Var u5_1 (value 0.0)>,\n",
       "  <gurobi.Var u5_2 (value 0.0)>,\n",
       "  <gurobi.Var u5_3 (value 0.0)>,\n",
       "  <gurobi.Var u5_4 (value 0.0)>,\n",
       "  <gurobi.Var u5_5 (value 0.0)>,\n",
       "  <gurobi.Var u5_6 (value 0.0)>],\n",
       " [<gurobi.Var u6_1 (value 0.0)>,\n",
       "  <gurobi.Var u6_2 (value 0.0)>,\n",
       "  <gurobi.Var u6_3 (value 0.0)>,\n",
       "  <gurobi.Var u6_4 (value 0.0)>,\n",
       "  <gurobi.Var u6_5 (value 0.0)>,\n",
       "  <gurobi.Var u6_6 (value 0.0)>],\n",
       " [<gurobi.Var u7_1 (value 0.0)>,\n",
       "  <gurobi.Var u7_2 (value 0.0)>,\n",
       "  <gurobi.Var u7_3 (value 0.0)>,\n",
       "  <gurobi.Var u7_4 (value 0.0)>,\n",
       "  <gurobi.Var u7_5 (value 0.0)>,\n",
       "  <gurobi.Var u7_6 (value 0.0)>],\n",
       " [<gurobi.Var u8_1 (value 0.0)>,\n",
       "  <gurobi.Var u8_2 (value 0.0)>,\n",
       "  <gurobi.Var u8_3 (value 0.0)>,\n",
       "  <gurobi.Var u8_4 (value 0.0)>,\n",
       "  <gurobi.Var u8_5 (value 0.0)>,\n",
       "  <gurobi.Var u8_6 (value 0.0)>],\n",
       " [<gurobi.Var u9_1 (value 0.0)>,\n",
       "  <gurobi.Var u9_2 (value 0.0)>,\n",
       "  <gurobi.Var u9_3 (value 0.0)>,\n",
       "  <gurobi.Var u9_4 (value 0.0)>,\n",
       "  <gurobi.Var u9_5 (value 0.0)>,\n",
       "  <gurobi.Var u9_6 (value 0.0)>],\n",
       " [<gurobi.Var u10_1 (value 0.0)>,\n",
       "  <gurobi.Var u10_2 (value 0.0)>,\n",
       "  <gurobi.Var u10_3 (value 0.0)>,\n",
       "  <gurobi.Var u10_4 (value 0.0)>,\n",
       "  <gurobi.Var u10_5 (value 0.0)>,\n",
       "  <gurobi.Var u10_6 (value 0.0)>]]"
      ]
     },
     "execution_count": 407,
     "metadata": {},
     "output_type": "execute_result"
    }
   ],
   "source": [
    "u"
   ]
  },
  {
   "cell_type": "code",
   "execution_count": 408,
   "metadata": {},
   "outputs": [
    {
     "data": {
      "text/plain": [
       "[[<gurobi.Var r1_1 (value 662.0)>,\n",
       "  <gurobi.Var r1_2 (value 607.0)>,\n",
       "  <gurobi.Var r1_3 (value 435.0)>,\n",
       "  <gurobi.Var r1_4 (value 241.0)>,\n",
       "  <gurobi.Var r1_5 (value 147.0)>,\n",
       "  <gurobi.Var r1_6 (value 0.0)>],\n",
       " [<gurobi.Var r2_1 (value 410.0)>,\n",
       "  <gurobi.Var r2_2 (value 357.0)>,\n",
       "  <gurobi.Var r2_3 (value 289.0)>,\n",
       "  <gurobi.Var r2_4 (value 104.0)>,\n",
       "  <gurobi.Var r2_5 (value 91.0)>,\n",
       "  <gurobi.Var r2_6 (value 0.0)>],\n",
       " [<gurobi.Var r3_1 (value 346.0)>,\n",
       "  <gurobi.Var r3_2 (value 167.0)>,\n",
       "  <gurobi.Var r3_3 (value 166.0)>,\n",
       "  <gurobi.Var r3_4 (value 117.0)>,\n",
       "  <gurobi.Var r3_5 (value 0.0)>,\n",
       "  <gurobi.Var r3_6 (value 0.0)>],\n",
       " [<gurobi.Var r4_1 (value 208.0)>,\n",
       "  <gurobi.Var r4_2 (value 258.0)>,\n",
       "  <gurobi.Var r4_3 (value 180.0)>,\n",
       "  <gurobi.Var r4_4 (value 49.0)>,\n",
       "  <gurobi.Var r4_5 (value 0.0)>,\n",
       "  <gurobi.Var r4_6 (value 0.0)>],\n",
       " [<gurobi.Var r5_1 (value 365.0)>,\n",
       "  <gurobi.Var r5_2 (value 303.0)>,\n",
       "  <gurobi.Var r5_3 (value 220.0)>,\n",
       "  <gurobi.Var r5_4 (value 130.0)>,\n",
       "  <gurobi.Var r5_5 (value 0.0)>,\n",
       "  <gurobi.Var r5_6 (value 0.0)>],\n",
       " [<gurobi.Var r6_1 (value 433.0)>,\n",
       "  <gurobi.Var r6_2 (value 356.0)>,\n",
       "  <gurobi.Var r6_3 (value 272.0)>,\n",
       "  <gurobi.Var r6_4 (value 145.0)>,\n",
       "  <gurobi.Var r6_5 (value 29.0)>,\n",
       "  <gurobi.Var r6_6 (value 0.0)>],\n",
       " [<gurobi.Var r7_1 (value 348.0)>,\n",
       "  <gurobi.Var r7_2 (value 212.0)>,\n",
       "  <gurobi.Var r7_3 (value 238.0)>,\n",
       "  <gurobi.Var r7_4 (value 122.0)>,\n",
       "  <gurobi.Var r7_5 (value 3.0)>,\n",
       "  <gurobi.Var r7_6 (value 0.0)>],\n",
       " [<gurobi.Var r8_1 (value 181.0)>,\n",
       "  <gurobi.Var r8_2 (value 26.0)>,\n",
       "  <gurobi.Var r8_3 (value 16.0)>,\n",
       "  <gurobi.Var r8_4 (value 0.0)>,\n",
       "  <gurobi.Var r8_5 (value 0.0)>,\n",
       "  <gurobi.Var r8_6 (value 0.0)>],\n",
       " [<gurobi.Var r9_1 (value 565.0)>,\n",
       "  <gurobi.Var r9_2 (value 489.0)>,\n",
       "  <gurobi.Var r9_3 (value 335.0)>,\n",
       "  <gurobi.Var r9_4 (value 159.0)>,\n",
       "  <gurobi.Var r9_5 (value 78.0)>,\n",
       "  <gurobi.Var r9_6 (value 0.0)>],\n",
       " [<gurobi.Var r10_1 (value 154.0)>,\n",
       "  <gurobi.Var r10_2 (value 0.0)>,\n",
       "  <gurobi.Var r10_3 (value 0.0)>,\n",
       "  <gurobi.Var r10_4 (value 0.0)>,\n",
       "  <gurobi.Var r10_5 (value 0.0)>,\n",
       "  <gurobi.Var r10_6 (value 0.0)>]]"
      ]
     },
     "execution_count": 408,
     "metadata": {},
     "output_type": "execute_result"
    }
   ],
   "source": [
    "r"
   ]
  },
  {
   "cell_type": "code",
   "execution_count": 409,
   "metadata": {},
   "outputs": [
    {
     "data": {
      "text/plain": [
       "[[<gurobi.Var q1_1 (value 1.0)>,\n",
       "  <gurobi.Var q1_2 (value 1.0)>,\n",
       "  <gurobi.Var q1_3 (value 1.0)>,\n",
       "  <gurobi.Var q1_4 (value 1.0)>,\n",
       "  <gurobi.Var q1_5 (value 1.0)>,\n",
       "  <gurobi.Var q1_6 (value 1.0)>],\n",
       " [<gurobi.Var q2_1 (value 1.0)>,\n",
       "  <gurobi.Var q2_2 (value 1.0)>,\n",
       "  <gurobi.Var q2_3 (value 1.0)>,\n",
       "  <gurobi.Var q2_4 (value 1.0)>,\n",
       "  <gurobi.Var q2_5 (value 1.0)>,\n",
       "  <gurobi.Var q2_6 (value 1.0)>],\n",
       " [<gurobi.Var q3_1 (value 1.0)>,\n",
       "  <gurobi.Var q3_2 (value 1.0)>,\n",
       "  <gurobi.Var q3_3 (value 1.0)>,\n",
       "  <gurobi.Var q3_4 (value 1.0)>,\n",
       "  <gurobi.Var q3_5 (value 0.1)>,\n",
       "  <gurobi.Var q3_6 (value 1.0)>],\n",
       " [<gurobi.Var q4_1 (value 1.0)>,\n",
       "  <gurobi.Var q4_2 (value 1.0)>,\n",
       "  <gurobi.Var q4_3 (value 1.0)>,\n",
       "  <gurobi.Var q4_4 (value 1.0)>,\n",
       "  <gurobi.Var q4_5 (value 1.0)>,\n",
       "  <gurobi.Var q4_6 (value 1.0)>],\n",
       " [<gurobi.Var q5_1 (value 1.0)>,\n",
       "  <gurobi.Var q5_2 (value 1.0)>,\n",
       "  <gurobi.Var q5_3 (value 1.0)>,\n",
       "  <gurobi.Var q5_4 (value 1.0)>,\n",
       "  <gurobi.Var q5_5 (value 1.0)>,\n",
       "  <gurobi.Var q5_6 (value 1.0)>],\n",
       " [<gurobi.Var q6_1 (value 1.0)>,\n",
       "  <gurobi.Var q6_2 (value 1.0)>,\n",
       "  <gurobi.Var q6_3 (value 1.0)>,\n",
       "  <gurobi.Var q6_4 (value 1.0)>,\n",
       "  <gurobi.Var q6_5 (value 1.0)>,\n",
       "  <gurobi.Var q6_6 (value 1.0)>],\n",
       " [<gurobi.Var q7_1 (value 1.0)>,\n",
       "  <gurobi.Var q7_2 (value 1.0)>,\n",
       "  <gurobi.Var q7_3 (value 1.0)>,\n",
       "  <gurobi.Var q7_4 (value 1.0)>,\n",
       "  <gurobi.Var q7_5 (value 1.0)>,\n",
       "  <gurobi.Var q7_6 (value 1.0)>],\n",
       " [<gurobi.Var q8_1 (value 1.0)>,\n",
       "  <gurobi.Var q8_2 (value 1.0)>,\n",
       "  <gurobi.Var q8_3 (value 1.0)>,\n",
       "  <gurobi.Var q8_4 (value 0.2)>,\n",
       "  <gurobi.Var q8_5 (value 0.2)>,\n",
       "  <gurobi.Var q8_6 (value 1.0)>],\n",
       " [<gurobi.Var q9_1 (value 1.0)>,\n",
       "  <gurobi.Var q9_2 (value 1.0)>,\n",
       "  <gurobi.Var q9_3 (value 1.0)>,\n",
       "  <gurobi.Var q9_4 (value 1.0)>,\n",
       "  <gurobi.Var q9_5 (value 1.0)>,\n",
       "  <gurobi.Var q9_6 (value 1.0)>],\n",
       " [<gurobi.Var q10_1 (value 1.0)>,\n",
       "  <gurobi.Var q10_2 (value 0.5)>,\n",
       "  <gurobi.Var q10_3 (value 0.5)>,\n",
       "  <gurobi.Var q10_4 (value 0.5)>,\n",
       "  <gurobi.Var q10_5 (value 0.5)>,\n",
       "  <gurobi.Var q10_6 (value 1.0)>]]"
      ]
     },
     "execution_count": 409,
     "metadata": {},
     "output_type": "execute_result"
    }
   ],
   "source": [
    "q"
   ]
  },
  {
   "cell_type": "code",
   "execution_count": 410,
   "metadata": {},
   "outputs": [
    {
     "data": {
      "text/plain": [
       "[[<gurobi.Var ypn1_1 (value 1.0)>,\n",
       "  <gurobi.Var ypn1_2 (value 1.0)>,\n",
       "  <gurobi.Var ypn1_3 (value 1.0)>,\n",
       "  <gurobi.Var ypn1_4 (value 1.0)>,\n",
       "  <gurobi.Var ypn1_5 (value 1.0)>,\n",
       "  <gurobi.Var ypn1_6 (value 1.0)>],\n",
       " [<gurobi.Var ypn2_1 (value 1.0)>,\n",
       "  <gurobi.Var ypn2_2 (value 1.0)>,\n",
       "  <gurobi.Var ypn2_3 (value 1.0)>,\n",
       "  <gurobi.Var ypn2_4 (value 1.0)>,\n",
       "  <gurobi.Var ypn2_5 (value 1.0)>,\n",
       "  <gurobi.Var ypn2_6 (value 1.0)>],\n",
       " [<gurobi.Var ypn3_1 (value 1.0)>,\n",
       "  <gurobi.Var ypn3_2 (value 1.0)>,\n",
       "  <gurobi.Var ypn3_3 (value 1.0)>,\n",
       "  <gurobi.Var ypn3_4 (value 1.0)>,\n",
       "  <gurobi.Var ypn3_5 (value -0.0)>,\n",
       "  <gurobi.Var ypn3_6 (value 1.0)>],\n",
       " [<gurobi.Var ypn4_1 (value 1.0)>,\n",
       "  <gurobi.Var ypn4_2 (value 1.0)>,\n",
       "  <gurobi.Var ypn4_3 (value 1.0)>,\n",
       "  <gurobi.Var ypn4_4 (value 1.0)>,\n",
       "  <gurobi.Var ypn4_5 (value 1.0)>,\n",
       "  <gurobi.Var ypn4_6 (value 1.0)>],\n",
       " [<gurobi.Var ypn5_1 (value 1.0)>,\n",
       "  <gurobi.Var ypn5_2 (value 1.0)>,\n",
       "  <gurobi.Var ypn5_3 (value 1.0)>,\n",
       "  <gurobi.Var ypn5_4 (value 1.0)>,\n",
       "  <gurobi.Var ypn5_5 (value 1.0)>,\n",
       "  <gurobi.Var ypn5_6 (value 1.0)>],\n",
       " [<gurobi.Var ypn6_1 (value 1.0)>,\n",
       "  <gurobi.Var ypn6_2 (value 1.0)>,\n",
       "  <gurobi.Var ypn6_3 (value 1.0)>,\n",
       "  <gurobi.Var ypn6_4 (value 1.0)>,\n",
       "  <gurobi.Var ypn6_5 (value 1.0)>,\n",
       "  <gurobi.Var ypn6_6 (value 1.0)>],\n",
       " [<gurobi.Var ypn7_1 (value 1.0)>,\n",
       "  <gurobi.Var ypn7_2 (value 1.0)>,\n",
       "  <gurobi.Var ypn7_3 (value 1.0)>,\n",
       "  <gurobi.Var ypn7_4 (value 1.0)>,\n",
       "  <gurobi.Var ypn7_5 (value 1.0)>,\n",
       "  <gurobi.Var ypn7_6 (value 1.0)>],\n",
       " [<gurobi.Var ypn8_1 (value 1.0)>,\n",
       "  <gurobi.Var ypn8_2 (value 1.0)>,\n",
       "  <gurobi.Var ypn8_3 (value 1.0)>,\n",
       "  <gurobi.Var ypn8_4 (value -0.0)>,\n",
       "  <gurobi.Var ypn8_5 (value -0.0)>,\n",
       "  <gurobi.Var ypn8_6 (value 1.0)>],\n",
       " [<gurobi.Var ypn9_1 (value 1.0)>,\n",
       "  <gurobi.Var ypn9_2 (value 1.0)>,\n",
       "  <gurobi.Var ypn9_3 (value 1.0)>,\n",
       "  <gurobi.Var ypn9_4 (value 1.0)>,\n",
       "  <gurobi.Var ypn9_5 (value 1.0)>,\n",
       "  <gurobi.Var ypn9_6 (value 1.0)>],\n",
       " [<gurobi.Var ypn10_1 (value 1.0)>,\n",
       "  <gurobi.Var ypn10_2 (value -0.0)>,\n",
       "  <gurobi.Var ypn10_3 (value -0.0)>,\n",
       "  <gurobi.Var ypn10_4 (value -0.0)>,\n",
       "  <gurobi.Var ypn10_5 (value -0.0)>,\n",
       "  <gurobi.Var ypn10_6 (value 1.0)>]]"
      ]
     },
     "execution_count": 410,
     "metadata": {},
     "output_type": "execute_result"
    }
   ],
   "source": [
    "ypn"
   ]
  },
  {
   "cell_type": "code",
   "execution_count": null,
   "metadata": {},
   "outputs": [],
   "source": []
  },
  {
   "cell_type": "code",
   "execution_count": null,
   "metadata": {},
   "outputs": [],
   "source": []
  },
  {
   "cell_type": "code",
   "execution_count": null,
   "metadata": {},
   "outputs": [],
   "source": []
  }
 ],
 "metadata": {
  "kernelspec": {
   "display_name": "Python 3",
   "language": "python",
   "name": "python3"
  },
  "language_info": {
   "codemirror_mode": {
    "name": "ipython",
    "version": 3
   },
   "file_extension": ".py",
   "mimetype": "text/x-python",
   "name": "python",
   "nbconvert_exporter": "python",
   "pygments_lexer": "ipython3",
   "version": "3.7.3"
  }
 },
 "nbformat": 4,
 "nbformat_minor": 4
}
